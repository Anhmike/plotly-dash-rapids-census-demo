{
 "cells": [
  {
   "cell_type": "code",
   "execution_count": null,
   "metadata": {},
   "outputs": [],
   "source": [
    "import cudf\n",
    "import pyarrow as pa\n",
    "import pandas as pd\n",
    "import numpy as np\n",
    "import cupy as cp"
   ]
  },
  {
   "cell_type": "code",
   "execution_count": null,
   "metadata": {},
   "outputs": [],
   "source": [
    "df = cudf.read_parquet('./all_states_us_lat_long.parquet/*').reset_index().drop(['index'])"
   ]
  },
  {
   "cell_type": "code",
   "execution_count": null,
   "metadata": {},
   "outputs": [],
   "source": [
    "# df['block_id'] = (df.GISJOIN%10000).astype('int32')\n",
    "# df['State'] = (df.GISJOIN/1000_000_000_000_000).astype('int32')\n",
    "df['GISJOIN_og'] = df.GISJOIN\n",
    "df['GISJOIN'] = (df.GISJOIN/1000).astype('int')"
   ]
  },
  {
   "cell_type": "code",
   "execution_count": null,
   "metadata": {},
   "outputs": [],
   "source": [
    "df"
   ]
  },
  {
   "cell_type": "markdown",
   "metadata": {},
   "source": [
    "## Adding gender block wise"
   ]
  },
  {
   "cell_type": "code",
   "execution_count": null,
   "metadata": {},
   "outputs": [],
   "source": [
    "df_cat = cudf.read_csv('/home/ajay/data/census/all_states_block_group/nhgis0016_csv/nhgis0016_ds176_20105_2010_blck_grp.csv')\n",
    "\n",
    "df_cat.STATEA = df_cat.STATEA.astype('int')\n",
    "df_cat = df_cat.query('STATEA != 72')\n",
    "\n",
    "df_cat.GISJOIN = df_cat.GISJOIN.str.replace('G', '').astype('int')\n",
    "\n",
    "# sex_by_age_cols = ['JLZE001','JLZE002','JLZE003','JLZE004','JLZE005','JLZE006','JLZE007','JLZE008','JLZE009','JLZE010','JLZE011','JLZE012','JLZE013','JLZE014','JLZE015','JLZE016','JLZE017','JLZE018','JLZE019','JLZE020','JLZE021','JLZE022','JLZE023','JLZE024','JLZE025','JLZE026','JLZE027','JLZE028','JLZE029','JLZE030','JLZE031','JLZE032','JLZE033','JLZE034','JLZE035','JLZE036','JLZE037','JLZE038','JLZE039','JLZE040','JLZE041','JLZE042','JLZE043','JLZE044','JLZE045','JLZE046','JLZE047','JLZE048','JLZE049']\n",
    "sex_by_age_cols = ['JLZE001', 'JLZE002', 'JLZE026']\n",
    "df_cat = df_cat[['GISJOIN']+sex_by_age_cols]\n",
    "\n",
    "for i in df_cat.columns:\n",
    "    if i != 'GISJOIN':\n",
    "        df_cat[i] = df_cat[i].astype('int32')"
   ]
  },
  {
   "cell_type": "code",
   "execution_count": null,
   "metadata": {},
   "outputs": [],
   "source": [
    "df_cat.JLZE001.value_counts()"
   ]
  },
  {
   "cell_type": "code",
   "execution_count": null,
   "metadata": {},
   "outputs": [],
   "source": [
    "df_cat.JLZE001.value_counts()"
   ]
  },
  {
   "cell_type": "code",
   "execution_count": null,
   "metadata": {},
   "outputs": [],
   "source": [
    "df_cat.JLZE002 = df_cat.JLZE002/df_cat.JLZE001\n",
    "df_cat.JLZE026 = df_cat.JLZE026/df_cat.JLZE001"
   ]
  },
  {
   "cell_type": "code",
   "execution_count": null,
   "metadata": {},
   "outputs": [],
   "source": [
    "df_cat = df_cat.nans_to_nulls()"
   ]
  },
  {
   "cell_type": "code",
   "execution_count": null,
   "metadata": {},
   "outputs": [],
   "source": [
    "df_cat = df_cat.fillna(0)"
   ]
  },
  {
   "cell_type": "code",
   "execution_count": null,
   "metadata": {},
   "outputs": [],
   "source": [
    "df_cat.JLZE002 = df_cat.JLZE002.fillna(0)\n",
    "df_cat.JLZE026 = df_cat.JLZE026.fillna(0)"
   ]
  },
  {
   "cell_type": "code",
   "execution_count": null,
   "metadata": {},
   "outputs": [],
   "source": [
    "df_cat.JLZE026.unique()"
   ]
  },
  {
   "cell_type": "code",
   "execution_count": null,
   "metadata": {},
   "outputs": [],
   "source": [
    "df_cat.JLZE002.unique()"
   ]
  },
  {
   "cell_type": "code",
   "execution_count": null,
   "metadata": {},
   "outputs": [],
   "source": [
    "df_cat.drop_column('JLZE001')\n",
    "df_cat"
   ]
  },
  {
   "cell_type": "code",
   "execution_count": null,
   "metadata": {},
   "outputs": [],
   "source": [
    "temp = df.merge(df_cat, on='GISJOIN')"
   ]
  },
  {
   "cell_type": "code",
   "execution_count": null,
   "metadata": {},
   "outputs": [],
   "source": [
    "del(df)\n",
    "del(df_cat)"
   ]
  },
  {
   "cell_type": "code",
   "execution_count": null,
   "metadata": {},
   "outputs": [],
   "source": [
    "temp.drop_column('GISJOIN')"
   ]
  },
  {
   "cell_type": "code",
   "execution_count": null,
   "metadata": {},
   "outputs": [],
   "source": [
    "# temp.index = temp.GISJOIN_og\n",
    "temp.rename({'GISJOIN_og':'GISJOIN'}, inplace=True)\n",
    "temp"
   ]
  },
  {
   "cell_type": "code",
   "execution_count": null,
   "metadata": {},
   "outputs": [],
   "source": [
    "temp.to_parquet('temp.parquet')"
   ]
  },
  {
   "cell_type": "code",
   "execution_count": null,
   "metadata": {},
   "outputs": [],
   "source": []
  }
 ],
 "metadata": {
  "kernelspec": {
   "display_name": "Python 3.6.7 64-bit ('rapids_prod_0.12': conda)",
   "language": "python",
   "name": "python36764bitrapidsprod012conda40a92cb94735449d893a5461b9607cc4"
  },
  "language_info": {
   "codemirror_mode": {
    "name": "ipython",
    "version": 3
   },
   "file_extension": ".py",
   "mimetype": "text/x-python",
   "name": "python",
   "nbconvert_exporter": "python",
   "pygments_lexer": "ipython3",
   "version": "3.6.7"
  }
 },
 "nbformat": 4,
 "nbformat_minor": 4
}
