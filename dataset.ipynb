{
 "cells": [
  {
   "cell_type": "code",
   "execution_count": 1,
   "metadata": {},
   "outputs": [],
   "source": [
    "import cudf\n",
    "import os"
   ]
  },
  {
   "cell_type": "code",
   "execution_count": 2,
   "metadata": {},
   "outputs": [],
   "source": [
    "os.environ[\"CUDA_VISIBLE_DEVICES\"] = \"1\""
   ]
  },
  {
   "cell_type": "code",
   "execution_count": 3,
   "metadata": {},
   "outputs": [],
   "source": [
    "df = cudf.read_csv('/home/ajay/data/census/all_us_block_level_population_census2010/nhgis0014_csv/nhgis0014_ds172_2010_block.csv', usecols=['GISJOIN', 'BLOCKA', 'H7V001', 'STATEA'])"
   ]
  },
  {
   "cell_type": "code",
   "execution_count": 19,
   "metadata": {},
   "outputs": [
    {
     "data": {
      "text/plain": [
       "0        4897539\n",
       "2         358918\n",
       "4         240576\n",
       "3         221282\n",
       "1         195339\n",
       "          ...   \n",
       "7910           1\n",
       "8634           1\n",
       "9043           1\n",
       "9798           1\n",
       "19352          1\n",
       "Name: H7V001, Length: 2651, dtype: int32"
      ]
     },
     "execution_count": 19,
     "metadata": {},
     "output_type": "execute_result"
    }
   ],
   "source": [
    "df.H7V001.value_counts()"
   ]
  },
  {
   "cell_type": "code",
   "execution_count": 7,
   "metadata": {},
   "outputs": [],
   "source": [
    "df.STATEA = df.STATEA.astype('int')"
   ]
  },
  {
   "cell_type": "code",
   "execution_count": 8,
   "metadata": {},
   "outputs": [],
   "source": [
    "df.GISJOIN = df.GISJOIN.str.replace('G', '').astype('int')"
   ]
  },
  {
   "cell_type": "code",
   "execution_count": 9,
   "metadata": {},
   "outputs": [],
   "source": [
    "df_temp = df[['GISJOIN', 'H7V001']]\n",
    "df_temp.index = df_temp.GISJOIN\n",
    "df_temp = df_temp['H7V001']"
   ]
  },
  {
   "cell_type": "code",
   "execution_count": 13,
   "metadata": {},
   "outputs": [
    {
     "data": {
      "text/plain": [
       "GISJOIN\n",
       "1000100201001000      61\n",
       "1000100201001001       0\n",
       "1000100201001002       0\n",
       "1000100201001003      75\n",
       "1000100201001004       0\n",
       "                    ... \n",
       "72015307506022019    338\n",
       "72015307506022020      0\n",
       "72015307506022021      0\n",
       "72015307506022022      0\n",
       "72015307506022023      0\n",
       "Name: H7V001, Length: 11155486, dtype: int64"
      ]
     },
     "execution_count": 13,
     "metadata": {},
     "output_type": "execute_result"
    }
   ],
   "source": [
    "df_temp"
   ]
  },
  {
   "cell_type": "code",
   "execution_count": 7,
   "metadata": {},
   "outputs": [
    {
     "data": {
      "text/plain": [
       "count    1.115549e+07\n",
       "mean     2.801055e+01\n",
       "std      7.879496e+01\n",
       "min      0.000000e+00\n",
       "25%      0.000000e+00\n",
       "50%      3.000000e+00\n",
       "75%      2.800000e+01\n",
       "max      1.935200e+04\n",
       "Name: H7V001, dtype: float64"
      ]
     },
     "execution_count": 7,
     "metadata": {},
     "output_type": "execute_result"
    }
   ],
   "source": [
    "df.H7V001.describe()"
   ]
  },
  {
   "cell_type": "code",
   "execution_count": 3,
   "metadata": {},
   "outputs": [],
   "source": [
    "import geopandas as gpd"
   ]
  },
  {
   "cell_type": "code",
   "execution_count": 6,
   "metadata": {},
   "outputs": [],
   "source": [
    "gpdf = gpd.read_file('/home/ajay/data/census/block_level_population/nhgis0011_shape/nhgis0011_shapefile_tl2010_060_block_2010/CA_block_2010.shp')[['GISJOIN', 'geometry']]"
   ]
  },
  {
   "cell_type": "code",
   "execution_count": 5,
   "metadata": {},
   "outputs": [
    {
     "data": {
      "text/html": [
       "<div>\n",
       "<style scoped>\n",
       "    .dataframe tbody tr th:only-of-type {\n",
       "        vertical-align: middle;\n",
       "    }\n",
       "\n",
       "    .dataframe tbody tr th {\n",
       "        vertical-align: top;\n",
       "    }\n",
       "\n",
       "    .dataframe thead th {\n",
       "        text-align: right;\n",
       "    }\n",
       "</style>\n",
       "<table border=\"1\" class=\"dataframe\">\n",
       "  <thead>\n",
       "    <tr style=\"text-align: right;\">\n",
       "      <th></th>\n",
       "      <th>STATEFP10</th>\n",
       "      <th>COUNTYFP10</th>\n",
       "      <th>TRACTCE10</th>\n",
       "      <th>BLOCKCE10</th>\n",
       "      <th>GEOID10</th>\n",
       "      <th>NAME10</th>\n",
       "      <th>MTFCC10</th>\n",
       "      <th>UR10</th>\n",
       "      <th>UACE10</th>\n",
       "      <th>UATYP10</th>\n",
       "      <th>FUNCSTAT10</th>\n",
       "      <th>ALAND10</th>\n",
       "      <th>AWATER10</th>\n",
       "      <th>INTPTLAT10</th>\n",
       "      <th>INTPTLON10</th>\n",
       "      <th>GISJOIN</th>\n",
       "      <th>Shape_area</th>\n",
       "      <th>Shape_len</th>\n",
       "      <th>geometry</th>\n",
       "    </tr>\n",
       "  </thead>\n",
       "  <tbody>\n",
       "    <tr>\n",
       "      <th>0</th>\n",
       "      <td>06</td>\n",
       "      <td>083</td>\n",
       "      <td>980100</td>\n",
       "      <td>1030</td>\n",
       "      <td>060839801001030</td>\n",
       "      <td>Block 1030</td>\n",
       "      <td>G5040</td>\n",
       "      <td>R</td>\n",
       "      <td>None</td>\n",
       "      <td>None</td>\n",
       "      <td>S</td>\n",
       "      <td>167769</td>\n",
       "      <td>0</td>\n",
       "      <td>+34.0591019</td>\n",
       "      <td>-120.3358673</td>\n",
       "      <td>G06008309801001030</td>\n",
       "      <td>1.677695e+05</td>\n",
       "      <td>3353.624565</td>\n",
       "      <td>MULTIPOLYGON (((-2206015.932 -101657.724, -220...</td>\n",
       "    </tr>\n",
       "    <tr>\n",
       "      <th>1</th>\n",
       "      <td>06</td>\n",
       "      <td>083</td>\n",
       "      <td>980100</td>\n",
       "      <td>1047</td>\n",
       "      <td>060839801001047</td>\n",
       "      <td>Block 1047</td>\n",
       "      <td>G5040</td>\n",
       "      <td>R</td>\n",
       "      <td>None</td>\n",
       "      <td>None</td>\n",
       "      <td>S</td>\n",
       "      <td>132853658</td>\n",
       "      <td>1257</td>\n",
       "      <td>+33.9746147</td>\n",
       "      <td>-120.1477892</td>\n",
       "      <td>G06008309801001047</td>\n",
       "      <td>1.329158e+08</td>\n",
       "      <td>74313.354262</td>\n",
       "      <td>POLYGON ((-2181405.165 -113455.943, -2181407.1...</td>\n",
       "    </tr>\n",
       "    <tr>\n",
       "      <th>2</th>\n",
       "      <td>06</td>\n",
       "      <td>083</td>\n",
       "      <td>980100</td>\n",
       "      <td>1029</td>\n",
       "      <td>060839801001029</td>\n",
       "      <td>Block 1029</td>\n",
       "      <td>G5040</td>\n",
       "      <td>R</td>\n",
       "      <td>None</td>\n",
       "      <td>None</td>\n",
       "      <td>S</td>\n",
       "      <td>12286</td>\n",
       "      <td>0</td>\n",
       "      <td>+34.0406847</td>\n",
       "      <td>-120.4588267</td>\n",
       "      <td>G06008309801001029</td>\n",
       "      <td>1.228553e+04</td>\n",
       "      <td>541.743249</td>\n",
       "      <td>POLYGON ((-2216942.218 -100327.983, -2216930.8...</td>\n",
       "    </tr>\n",
       "    <tr>\n",
       "      <th>3</th>\n",
       "      <td>06</td>\n",
       "      <td>083</td>\n",
       "      <td>980100</td>\n",
       "      <td>1056</td>\n",
       "      <td>060839801001056</td>\n",
       "      <td>Block 1056</td>\n",
       "      <td>G5040</td>\n",
       "      <td>R</td>\n",
       "      <td>None</td>\n",
       "      <td>None</td>\n",
       "      <td>S</td>\n",
       "      <td>4986</td>\n",
       "      <td>0</td>\n",
       "      <td>+34.0280957</td>\n",
       "      <td>-120.4437615</td>\n",
       "      <td>G06008309801001056</td>\n",
       "      <td>4.985548e+03</td>\n",
       "      <td>349.108823</td>\n",
       "      <td>MULTIPOLYGON (((-2215789.478 -102240.909, -221...</td>\n",
       "    </tr>\n",
       "    <tr>\n",
       "      <th>4</th>\n",
       "      <td>06</td>\n",
       "      <td>083</td>\n",
       "      <td>980100</td>\n",
       "      <td>1021</td>\n",
       "      <td>060839801001021</td>\n",
       "      <td>Block 1021</td>\n",
       "      <td>G5040</td>\n",
       "      <td>R</td>\n",
       "      <td>None</td>\n",
       "      <td>None</td>\n",
       "      <td>S</td>\n",
       "      <td>455</td>\n",
       "      <td>0</td>\n",
       "      <td>+34.0291854</td>\n",
       "      <td>-120.4598499</td>\n",
       "      <td>G06008309801001021</td>\n",
       "      <td>4.548543e+02</td>\n",
       "      <td>87.909874</td>\n",
       "      <td>POLYGON ((-2217294.630 -101627.956, -2217296.2...</td>\n",
       "    </tr>\n",
       "    <tr>\n",
       "      <th>...</th>\n",
       "      <td>...</td>\n",
       "      <td>...</td>\n",
       "      <td>...</td>\n",
       "      <td>...</td>\n",
       "      <td>...</td>\n",
       "      <td>...</td>\n",
       "      <td>...</td>\n",
       "      <td>...</td>\n",
       "      <td>...</td>\n",
       "      <td>...</td>\n",
       "      <td>...</td>\n",
       "      <td>...</td>\n",
       "      <td>...</td>\n",
       "      <td>...</td>\n",
       "      <td>...</td>\n",
       "      <td>...</td>\n",
       "      <td>...</td>\n",
       "      <td>...</td>\n",
       "      <td>...</td>\n",
       "    </tr>\n",
       "    <tr>\n",
       "      <th>708073</th>\n",
       "      <td>06</td>\n",
       "      <td>049</td>\n",
       "      <td>000300</td>\n",
       "      <td>3828</td>\n",
       "      <td>060490003003828</td>\n",
       "      <td>Block 3828</td>\n",
       "      <td>G5040</td>\n",
       "      <td>R</td>\n",
       "      <td>None</td>\n",
       "      <td>None</td>\n",
       "      <td>S</td>\n",
       "      <td>454283</td>\n",
       "      <td>0</td>\n",
       "      <td>+41.2138948</td>\n",
       "      <td>-120.4781221</td>\n",
       "      <td>G06004900003003828</td>\n",
       "      <td>4.542835e+05</td>\n",
       "      <td>3355.148312</td>\n",
       "      <td>POLYGON ((-2013834.111 677502.782, -2013833.37...</td>\n",
       "    </tr>\n",
       "    <tr>\n",
       "      <th>708074</th>\n",
       "      <td>06</td>\n",
       "      <td>049</td>\n",
       "      <td>000300</td>\n",
       "      <td>1700</td>\n",
       "      <td>060490003001700</td>\n",
       "      <td>Block 1700</td>\n",
       "      <td>G5040</td>\n",
       "      <td>R</td>\n",
       "      <td>None</td>\n",
       "      <td>None</td>\n",
       "      <td>S</td>\n",
       "      <td>24331</td>\n",
       "      <td>0</td>\n",
       "      <td>+41.4777745</td>\n",
       "      <td>-120.5829810</td>\n",
       "      <td>G06004900003001700</td>\n",
       "      <td>2.433108e+04</td>\n",
       "      <td>1079.060162</td>\n",
       "      <td>POLYGON ((-2014863.407 707671.049, -2014877.58...</td>\n",
       "    </tr>\n",
       "    <tr>\n",
       "      <th>708075</th>\n",
       "      <td>06</td>\n",
       "      <td>049</td>\n",
       "      <td>000300</td>\n",
       "      <td>3901</td>\n",
       "      <td>060490003003901</td>\n",
       "      <td>Block 3901</td>\n",
       "      <td>G5040</td>\n",
       "      <td>R</td>\n",
       "      <td>None</td>\n",
       "      <td>None</td>\n",
       "      <td>S</td>\n",
       "      <td>4263962</td>\n",
       "      <td>1118</td>\n",
       "      <td>+41.3311589</td>\n",
       "      <td>-120.5255085</td>\n",
       "      <td>G06004900003003901</td>\n",
       "      <td>4.265079e+06</td>\n",
       "      <td>11147.050455</td>\n",
       "      <td>POLYGON ((-2014109.689 690017.362, -2014128.76...</td>\n",
       "    </tr>\n",
       "    <tr>\n",
       "      <th>708076</th>\n",
       "      <td>06</td>\n",
       "      <td>049</td>\n",
       "      <td>000300</td>\n",
       "      <td>3916</td>\n",
       "      <td>060490003003916</td>\n",
       "      <td>Block 3916</td>\n",
       "      <td>G5040</td>\n",
       "      <td>R</td>\n",
       "      <td>None</td>\n",
       "      <td>None</td>\n",
       "      <td>S</td>\n",
       "      <td>17017083</td>\n",
       "      <td>11948</td>\n",
       "      <td>+41.2814878</td>\n",
       "      <td>-120.4845384</td>\n",
       "      <td>G06004900003003916</td>\n",
       "      <td>1.702903e+07</td>\n",
       "      <td>18376.625122</td>\n",
       "      <td>POLYGON ((-2010263.833 682849.289, -2010253.80...</td>\n",
       "    </tr>\n",
       "    <tr>\n",
       "      <th>708077</th>\n",
       "      <td>06</td>\n",
       "      <td>049</td>\n",
       "      <td>000300</td>\n",
       "      <td>3097</td>\n",
       "      <td>060490003003097</td>\n",
       "      <td>Block 3097</td>\n",
       "      <td>G5040</td>\n",
       "      <td>R</td>\n",
       "      <td>None</td>\n",
       "      <td>None</td>\n",
       "      <td>S</td>\n",
       "      <td>5522640</td>\n",
       "      <td>72319</td>\n",
       "      <td>+41.3681603</td>\n",
       "      <td>-120.5480812</td>\n",
       "      <td>G06004900003003097</td>\n",
       "      <td>5.594958e+06</td>\n",
       "      <td>24086.152443</td>\n",
       "      <td>POLYGON ((-2013680.321 700026.421, -2013668.26...</td>\n",
       "    </tr>\n",
       "  </tbody>\n",
       "</table>\n",
       "<p>708078 rows × 19 columns</p>\n",
       "</div>"
      ],
      "text/plain": [
       "       STATEFP10 COUNTYFP10 TRACTCE10 BLOCKCE10          GEOID10      NAME10  \\\n",
       "0             06        083    980100      1030  060839801001030  Block 1030   \n",
       "1             06        083    980100      1047  060839801001047  Block 1047   \n",
       "2             06        083    980100      1029  060839801001029  Block 1029   \n",
       "3             06        083    980100      1056  060839801001056  Block 1056   \n",
       "4             06        083    980100      1021  060839801001021  Block 1021   \n",
       "...          ...        ...       ...       ...              ...         ...   \n",
       "708073        06        049    000300      3828  060490003003828  Block 3828   \n",
       "708074        06        049    000300      1700  060490003001700  Block 1700   \n",
       "708075        06        049    000300      3901  060490003003901  Block 3901   \n",
       "708076        06        049    000300      3916  060490003003916  Block 3916   \n",
       "708077        06        049    000300      3097  060490003003097  Block 3097   \n",
       "\n",
       "       MTFCC10 UR10 UACE10 UATYP10 FUNCSTAT10    ALAND10  AWATER10  \\\n",
       "0        G5040    R   None    None          S     167769         0   \n",
       "1        G5040    R   None    None          S  132853658      1257   \n",
       "2        G5040    R   None    None          S      12286         0   \n",
       "3        G5040    R   None    None          S       4986         0   \n",
       "4        G5040    R   None    None          S        455         0   \n",
       "...        ...  ...    ...     ...        ...        ...       ...   \n",
       "708073   G5040    R   None    None          S     454283         0   \n",
       "708074   G5040    R   None    None          S      24331         0   \n",
       "708075   G5040    R   None    None          S    4263962      1118   \n",
       "708076   G5040    R   None    None          S   17017083     11948   \n",
       "708077   G5040    R   None    None          S    5522640     72319   \n",
       "\n",
       "         INTPTLAT10    INTPTLON10             GISJOIN    Shape_area  \\\n",
       "0       +34.0591019  -120.3358673  G06008309801001030  1.677695e+05   \n",
       "1       +33.9746147  -120.1477892  G06008309801001047  1.329158e+08   \n",
       "2       +34.0406847  -120.4588267  G06008309801001029  1.228553e+04   \n",
       "3       +34.0280957  -120.4437615  G06008309801001056  4.985548e+03   \n",
       "4       +34.0291854  -120.4598499  G06008309801001021  4.548543e+02   \n",
       "...             ...           ...                 ...           ...   \n",
       "708073  +41.2138948  -120.4781221  G06004900003003828  4.542835e+05   \n",
       "708074  +41.4777745  -120.5829810  G06004900003001700  2.433108e+04   \n",
       "708075  +41.3311589  -120.5255085  G06004900003003901  4.265079e+06   \n",
       "708076  +41.2814878  -120.4845384  G06004900003003916  1.702903e+07   \n",
       "708077  +41.3681603  -120.5480812  G06004900003003097  5.594958e+06   \n",
       "\n",
       "           Shape_len                                           geometry  \n",
       "0        3353.624565  MULTIPOLYGON (((-2206015.932 -101657.724, -220...  \n",
       "1       74313.354262  POLYGON ((-2181405.165 -113455.943, -2181407.1...  \n",
       "2         541.743249  POLYGON ((-2216942.218 -100327.983, -2216930.8...  \n",
       "3         349.108823  MULTIPOLYGON (((-2215789.478 -102240.909, -221...  \n",
       "4          87.909874  POLYGON ((-2217294.630 -101627.956, -2217296.2...  \n",
       "...              ...                                                ...  \n",
       "708073   3355.148312  POLYGON ((-2013834.111 677502.782, -2013833.37...  \n",
       "708074   1079.060162  POLYGON ((-2014863.407 707671.049, -2014877.58...  \n",
       "708075  11147.050455  POLYGON ((-2014109.689 690017.362, -2014128.76...  \n",
       "708076  18376.625122  POLYGON ((-2010263.833 682849.289, -2010253.80...  \n",
       "708077  24086.152443  POLYGON ((-2013680.321 700026.421, -2013668.26...  \n",
       "\n",
       "[708078 rows x 19 columns]"
      ]
     },
     "execution_count": 5,
     "metadata": {},
     "output_type": "execute_result"
    }
   ],
   "source": [
    "gpdf"
   ]
  },
  {
   "cell_type": "code",
   "execution_count": 195,
   "metadata": {},
   "outputs": [],
   "source": [
    "gpdf.GISJOIN = gpdf.GISJOIN.str.replace('G', '').astype('int')"
   ]
  },
  {
   "cell_type": "code",
   "execution_count": 196,
   "metadata": {},
   "outputs": [
    {
     "data": {
      "text/html": [
       "<div>\n",
       "<style scoped>\n",
       "    .dataframe tbody tr th:only-of-type {\n",
       "        vertical-align: middle;\n",
       "    }\n",
       "\n",
       "    .dataframe tbody tr th {\n",
       "        vertical-align: top;\n",
       "    }\n",
       "\n",
       "    .dataframe thead th {\n",
       "        text-align: right;\n",
       "    }\n",
       "</style>\n",
       "<table border=\"1\" class=\"dataframe\">\n",
       "  <thead>\n",
       "    <tr style=\"text-align: right;\">\n",
       "      <th></th>\n",
       "      <th>GISJOIN</th>\n",
       "      <th>geometry</th>\n",
       "    </tr>\n",
       "  </thead>\n",
       "  <tbody>\n",
       "    <tr>\n",
       "      <th>0</th>\n",
       "      <td>6008309801001030</td>\n",
       "      <td>MULTIPOLYGON (((-2206015.932 -101657.724, -220...</td>\n",
       "    </tr>\n",
       "    <tr>\n",
       "      <th>1</th>\n",
       "      <td>6008309801001047</td>\n",
       "      <td>POLYGON ((-2181405.165 -113455.943, -2181407.1...</td>\n",
       "    </tr>\n",
       "    <tr>\n",
       "      <th>2</th>\n",
       "      <td>6008309801001029</td>\n",
       "      <td>POLYGON ((-2216942.218 -100327.983, -2216930.8...</td>\n",
       "    </tr>\n",
       "    <tr>\n",
       "      <th>3</th>\n",
       "      <td>6008309801001056</td>\n",
       "      <td>MULTIPOLYGON (((-2215789.478 -102240.909, -221...</td>\n",
       "    </tr>\n",
       "    <tr>\n",
       "      <th>4</th>\n",
       "      <td>6008309801001021</td>\n",
       "      <td>POLYGON ((-2217294.630 -101627.956, -2217296.2...</td>\n",
       "    </tr>\n",
       "  </tbody>\n",
       "</table>\n",
       "</div>"
      ],
      "text/plain": [
       "            GISJOIN                                           geometry\n",
       "0  6008309801001030  MULTIPOLYGON (((-2206015.932 -101657.724, -220...\n",
       "1  6008309801001047  POLYGON ((-2181405.165 -113455.943, -2181407.1...\n",
       "2  6008309801001029  POLYGON ((-2216942.218 -100327.983, -2216930.8...\n",
       "3  6008309801001056  MULTIPOLYGON (((-2215789.478 -102240.909, -221...\n",
       "4  6008309801001021  POLYGON ((-2217294.630 -101627.956, -2217296.2..."
      ]
     },
     "execution_count": 196,
     "metadata": {},
     "output_type": "execute_result"
    }
   ],
   "source": [
    "gpdf.head()"
   ]
  },
  {
   "cell_type": "code",
   "execution_count": 84,
   "metadata": {},
   "outputs": [
    {
     "data": {
      "text/plain": [
       "shapely.geometry.multipolygon.MultiPolygon"
      ]
     },
     "execution_count": 84,
     "metadata": {},
     "output_type": "execute_result"
    }
   ],
   "source": [
    "type(gpdf.loc[0].geometry)"
   ]
  },
  {
   "cell_type": "code",
   "execution_count": 269,
   "metadata": {},
   "outputs": [],
   "source": [
    "import random\n",
    "######\n",
    "def random_points_in_polygon(number, polygon):\n",
    "    points_x = np.array(0,)\n",
    "    points_y = np.array(0,)\n",
    "    min_x, min_y, max_x, max_y = polygon.bounds\n",
    "    i= 0\n",
    "    while i < number:\n",
    "        point_x = random.uniform(min_x, max_x)\n",
    "        point_y = random.uniform(min_y, max_y)\n",
    "        if polygon.contains(Point(point_x, point_y)):\n",
    "            points_x = np.append(points_x, point_x)\n",
    "            points_y = np.append(points_y, point_y)\n",
    "            i += 1\n",
    "    return points_x, points_y  # returns list of shapely point\n",
    "######\n"
   ]
  },
  {
   "cell_type": "code",
   "execution_count": 256,
   "metadata": {},
   "outputs": [],
   "source": [
    "df_final = cudf.DataFrame()"
   ]
  },
  {
   "cell_type": "code",
   "execution_count": 345,
   "metadata": {},
   "outputs": [],
   "source": [
    "from numba import jit"
   ]
  },
  {
   "cell_type": "code",
   "execution_count": 350,
   "metadata": {},
   "outputs": [],
   "source": [
    "@jit(nopython=False)\n",
    "def generate_data():\n",
    "    t1 = datetime.datetime.now()\n",
    "    gis_index_df = df_temp.index.to_array()\n",
    "    final_points_x = np.array(0,)\n",
    "    final_points_y = np.array(0,)\n",
    "    gisjoin = np.array(0,)\n",
    "\n",
    "    for index, row in gpdf.iterrows():\n",
    "        points_x = np.array(0,)\n",
    "        points_y = np.array(0,)\n",
    "        gisjoin_temp = np.array(0,)\n",
    "        if row['GISJOIN'] in gis_index_df and df_temp.loc[row['GISJOIN']]>0:\n",
    "            num_points = df_temp.loc[row['GISJOIN']]\n",
    "            polygon = row['geometry']\n",
    "            points_x, points_y = random_points_in_polygon(num_points, polygon)\n",
    "            gisjoin_temp = np.array([row['GISJOIN']]*len(points_x))\n",
    "            gisjoin = np.append(gisjoin, gisjoin_temp)\n",
    "            final_points_x = np.append(final_points_x, points_x)\n",
    "            final_points_y = np.append(final_points_y, points_y)\n",
    "            print('', end='\\r')\n",
    "            print('Percent', \"{0:0.2f}\".format((index/len(gpdf))*100), '%', end='')\n",
    "    print('total time', datetime.datetime.now() - t1)\n",
    "    \n",
    "    return cudf.DataFrame({'GISJOIN': gisjoin,'x': final_points_x, 'y':final_points_y})"
   ]
  },
  {
   "cell_type": "code",
   "execution_count": 351,
   "metadata": {},
   "outputs": [
    {
     "ename": "ImportError",
     "evalue": "cannot import name 'enumdecl' from 'numba.typing' (/home/ajay/anaconda3/envs/rapids_dev_0.12/lib/python3.7/site-packages/numba/typing/__init__.py)",
     "output_type": "error",
     "traceback": [
      "\u001b[0;31m---------------------------------------------------------------------------\u001b[0m",
      "\u001b[0;31mImportError\u001b[0m                               Traceback (most recent call last)",
      "\u001b[0;32m<ipython-input-351-c6ec864b8f42>\u001b[0m in \u001b[0;36m<module>\u001b[0;34m\u001b[0m\n\u001b[0;32m----> 1\u001b[0;31m \u001b[0mgenerate_data\u001b[0m\u001b[0;34m(\u001b[0m\u001b[0;34m)\u001b[0m\u001b[0;34m\u001b[0m\u001b[0;34m\u001b[0m\u001b[0m\n\u001b[0m",
      "\u001b[0;32m~/anaconda3/envs/rapids_dev_0.12/lib/python3.7/site-packages/numba/dispatcher.py\u001b[0m in \u001b[0;36m_compile_for_args\u001b[0;34m(self, *args, **kws)\u001b[0m\n",
      "\u001b[0;32m~/anaconda3/envs/rapids_dev_0.12/lib/python3.7/site-packages/numba/dispatcher.py\u001b[0m in \u001b[0;36m_compile_for_args\u001b[0;34m(self, *args, **kws)\u001b[0m\n",
      "\u001b[0;32m~/anaconda3/envs/rapids_dev_0.12/lib/python3.7/site-packages/numba/compiler_lock.py\u001b[0m in \u001b[0;36m_acquire_compile_lock\u001b[0;34m(*args, **kwargs)\u001b[0m\n",
      "\u001b[0;32m~/anaconda3/envs/rapids_dev_0.12/lib/python3.7/site-packages/numba/dispatcher.py\u001b[0m in \u001b[0;36mcompile\u001b[0;34m(self, sig)\u001b[0m\n",
      "\u001b[0;32m~/anaconda3/envs/rapids_dev_0.12/lib/python3.7/site-packages/numba/dispatcher.py\u001b[0m in \u001b[0;36mcompile\u001b[0;34m(self, args, return_type)\u001b[0m\n",
      "\u001b[0;32m~/anaconda3/envs/rapids_dev_0.12/lib/python3.7/site-packages/numba/dispatcher.py\u001b[0m in \u001b[0;36m_compile_cached\u001b[0;34m(self, args, return_type)\u001b[0m\n",
      "\u001b[0;32m~/anaconda3/envs/rapids_dev_0.12/lib/python3.7/site-packages/numba/dispatcher.py\u001b[0m in \u001b[0;36m_compile_core\u001b[0;34m(self, args, return_type)\u001b[0m\n",
      "\u001b[0;32m~/anaconda3/envs/rapids_dev_0.12/lib/python3.7/site-packages/numba/compiler.py\u001b[0m in \u001b[0;36mcompile_extra\u001b[0;34m(typingctx, targetctx, func, args, return_type, flags, locals, library, pipeline_class)\u001b[0m\n",
      "\u001b[0;32m~/anaconda3/envs/rapids_dev_0.12/lib/python3.7/site-packages/numba/compiler.py\u001b[0m in \u001b[0;36m__init__\u001b[0;34m(self, typingctx, targetctx, library, args, return_type, flags, locals)\u001b[0m\n",
      "\u001b[0;32m~/anaconda3/envs/rapids_dev_0.12/lib/python3.7/site-packages/numba/typing/context.py\u001b[0m in \u001b[0;36mrefresh\u001b[0;34m(self)\u001b[0m\n",
      "\u001b[0;32m~/anaconda3/envs/rapids_dev_0.12/lib/python3.7/site-packages/numba/typing/context.py\u001b[0m in \u001b[0;36mload_additional_registries\u001b[0;34m(self)\u001b[0m\n",
      "\u001b[0;31mImportError\u001b[0m: cannot import name 'enumdecl' from 'numba.typing' (/home/ajay/anaconda3/envs/rapids_dev_0.12/lib/python3.7/site-packages/numba/typing/__init__.py)"
     ]
    }
   ],
   "source": [
    "generate_data()"
   ]
  },
  {
   "cell_type": "code",
   "execution_count": 9,
   "metadata": {},
   "outputs": [],
   "source": [
    "import numpy as np"
   ]
  },
  {
   "cell_type": "code",
   "execution_count": 17,
   "metadata": {},
   "outputs": [],
   "source": [
    "states = {\n",
    "55:\"WI\",\n",
    "56:\"WY\"\n",
    "}\n",
    "state_key_list = list(states.keys())"
   ]
  },
  {
   "cell_type": "code",
   "execution_count": 18,
   "metadata": {},
   "outputs": [
    {
     "data": {
      "text/plain": [
       "[56, 55]"
      ]
     },
     "execution_count": 18,
     "metadata": {},
     "output_type": "execute_result"
    }
   ],
   "source": [
    "state_key_list.reverse()\n",
    "state_key_list"
   ]
  },
  {
   "cell_type": "code",
   "execution_count": 328,
   "metadata": {},
   "outputs": [
    {
     "data": {
      "text/plain": [
       "array([      0.        ,       0.        , -118565.88877688,\n",
       "       -113889.41198673, -112753.6630583 , -111191.11363606])"
      ]
     },
     "execution_count": 328,
     "metadata": {},
     "output_type": "execute_result"
    }
   ],
   "source": [
    "final_points_y"
   ]
  },
  {
   "cell_type": "code",
   "execution_count": 324,
   "metadata": {},
   "outputs": [
    {
     "data": {
      "text/plain": [
       "array([       0.        ,        0.        , -2193922.69369754,\n",
       "       -2187728.33411837, -2192216.45169422, -2188394.79131228])"
      ]
     },
     "execution_count": 324,
     "metadata": {},
     "output_type": "execute_result"
    }
   ],
   "source": [
    "final_points_x"
   ]
  },
  {
   "cell_type": "code",
   "execution_count": 325,
   "metadata": {},
   "outputs": [
    {
     "data": {
      "text/plain": [
       "array([               0, 6008309801001047, 6008309801001047,\n",
       "       6008309801001047, 6008309801001047, 6008309801001047])"
      ]
     },
     "execution_count": 325,
     "metadata": {},
     "output_type": "execute_result"
    }
   ],
   "source": [
    "gisjoin"
   ]
  },
  {
   "cell_type": "code",
   "execution_count": 332,
   "metadata": {},
   "outputs": [],
   "source": [
    "df = cudf.DataFrame({'GISJOIN': gisjoin,'x': final_points_x, 'y':final_points_y})"
   ]
  },
  {
   "cell_type": "code",
   "execution_count": 334,
   "metadata": {},
   "outputs": [],
   "source": [
    "df.to_csv('test_file.csv')"
   ]
  },
  {
   "cell_type": "code",
   "execution_count": 285,
   "metadata": {},
   "outputs": [],
   "source": [
    "import datetime"
   ]
  },
  {
   "cell_type": "code",
   "execution_count": 287,
   "metadata": {},
   "outputs": [
    {
     "name": "stdout",
     "output_type": "stream",
     "text": [
      "total time 0:00:00.000071\n"
     ]
    }
   ],
   "source": [
    "t1 = datetime.datetime.now()\n",
    "print('total time', datetime.datetime.now() - t1)"
   ]
  },
  {
   "cell_type": "code",
   "execution_count": 258,
   "metadata": {},
   "outputs": [
    {
     "data": {
      "text/plain": [
       "array([1, 2])"
      ]
     },
     "execution_count": 258,
     "metadata": {},
     "output_type": "execute_result"
    }
   ],
   "source": [
    "np.append(np.array([1]),2)"
   ]
  },
  {
   "cell_type": "code",
   "execution_count": 220,
   "metadata": {},
   "outputs": [
    {
     "data": {
      "text/plain": [
       "5008962"
      ]
     },
     "execution_count": 220,
     "metadata": {},
     "output_type": "execute_result"
    }
   ],
   "source": [
    "len(final_points_x)"
   ]
  },
  {
   "cell_type": "code",
   "execution_count": 191,
   "metadata": {},
   "outputs": [
    {
     "data": {
      "text/html": [
       "<div>\n",
       "<style scoped>\n",
       "    .dataframe tbody tr th:only-of-type {\n",
       "        vertical-align: middle;\n",
       "    }\n",
       "\n",
       "    .dataframe tbody tr th {\n",
       "        vertical-align: top;\n",
       "    }\n",
       "\n",
       "    .dataframe thead th {\n",
       "        text-align: right;\n",
       "    }\n",
       "</style>\n",
       "<table border=\"1\" class=\"dataframe\">\n",
       "  <thead>\n",
       "    <tr style=\"text-align: right;\">\n",
       "      <th></th>\n",
       "      <th>GISJOIN</th>\n",
       "      <th>H7V001</th>\n",
       "    </tr>\n",
       "  </thead>\n",
       "  <tbody>\n",
       "    <tr>\n",
       "      <th>0</th>\n",
       "      <td>6000104001001000</td>\n",
       "      <td>0</td>\n",
       "    </tr>\n",
       "    <tr>\n",
       "      <th>1</th>\n",
       "      <td>6000104001001001</td>\n",
       "      <td>0</td>\n",
       "    </tr>\n",
       "    <tr>\n",
       "      <th>2</th>\n",
       "      <td>6000104001001002</td>\n",
       "      <td>0</td>\n",
       "    </tr>\n",
       "    <tr>\n",
       "      <th>3</th>\n",
       "      <td>6000104001001003</td>\n",
       "      <td>0</td>\n",
       "    </tr>\n",
       "    <tr>\n",
       "      <th>4</th>\n",
       "      <td>6000104001001004</td>\n",
       "      <td>0</td>\n",
       "    </tr>\n",
       "    <tr>\n",
       "      <th>...</th>\n",
       "      <td>...</td>\n",
       "      <td>...</td>\n",
       "    </tr>\n",
       "    <tr>\n",
       "      <th>710140</th>\n",
       "      <td>6011500411004062</td>\n",
       "      <td>12</td>\n",
       "    </tr>\n",
       "    <tr>\n",
       "      <th>710141</th>\n",
       "      <td>6011500411004063</td>\n",
       "      <td>0</td>\n",
       "    </tr>\n",
       "    <tr>\n",
       "      <th>710142</th>\n",
       "      <td>6011500411004064</td>\n",
       "      <td>2</td>\n",
       "    </tr>\n",
       "    <tr>\n",
       "      <th>710143</th>\n",
       "      <td>6011500411004065</td>\n",
       "      <td>3</td>\n",
       "    </tr>\n",
       "    <tr>\n",
       "      <th>710144</th>\n",
       "      <td>6011500411004066</td>\n",
       "      <td>3</td>\n",
       "    </tr>\n",
       "  </tbody>\n",
       "</table>\n",
       "<p>710145 rows × 2 columns</p>\n",
       "</div>"
      ],
      "text/plain": [
       "                 GISJOIN  H7V001\n",
       "0       6000104001001000       0\n",
       "1       6000104001001001       0\n",
       "2       6000104001001002       0\n",
       "3       6000104001001003       0\n",
       "4       6000104001001004       0\n",
       "...                  ...     ...\n",
       "710140  6011500411004062      12\n",
       "710141  6011500411004063       0\n",
       "710142  6011500411004064       2\n",
       "710143  6011500411004065       3\n",
       "710144  6011500411004066       3\n",
       "\n",
       "[710145 rows x 2 columns]"
      ]
     },
     "execution_count": 191,
     "metadata": {},
     "output_type": "execute_result"
    }
   ],
   "source": [
    "df_temp"
   ]
  },
  {
   "cell_type": "code",
   "execution_count": 181,
   "metadata": {},
   "outputs": [
    {
     "name": "stdout",
     "output_type": "stream",
     "text": [
      "GISJOIN\n",
      "H7V001\n"
     ]
    }
   ],
   "source": [
    "for index in df_temp:\n",
    "    print(index)"
   ]
  },
  {
   "cell_type": "code",
   "execution_count": 163,
   "metadata": {},
   "outputs": [
    {
     "name": "stdout",
     "output_type": "stream",
     "text": [
      "G06000104001001000\n"
     ]
    }
   ],
   "source": [
    "for i in df_temp.GISJOIN:\n",
    "    lat, long, p_id = [],[],[]\n",
    "    if i in gpdf.GISJOIN and :\n",
    "        "
   ]
  },
  {
   "cell_type": "code",
   "execution_count": 152,
   "metadata": {},
   "outputs": [
    {
     "data": {
      "text/plain": [
       "-101393.64633179616"
      ]
     },
     "execution_count": 152,
     "metadata": {},
     "output_type": "execute_result"
    }
   ],
   "source": [
    "d[0].y"
   ]
  },
  {
   "cell_type": "code",
   "execution_count": 123,
   "metadata": {},
   "outputs": [],
   "source": [
    "t = gpd.GeoSeries(d)"
   ]
  },
  {
   "cell_type": "code",
   "execution_count": null,
   "metadata": {},
   "outputs": [],
   "source": []
  },
  {
   "cell_type": "code",
   "execution_count": 129,
   "metadata": {},
   "outputs": [
    {
     "data": {
      "text/plain": [
       "0     POINT (-2207442.891 -98966.212)\n",
       "1    POINT (-2205332.869 -101273.168)\n",
       "2    POINT (-2205413.359 -101396.469)\n",
       "3    POINT (-2205184.338 -101656.963)\n",
       "4    POINT (-2205111.674 -101494.466)\n",
       "5    POINT (-2205188.718 -101386.087)\n",
       "6     POINT (-2208009.936 -98918.525)\n",
       "7    POINT (-2205409.674 -101485.571)\n",
       "8    POINT (-2205479.328 -101248.083)\n",
       "9    POINT (-2205224.513 -101602.188)\n",
       "dtype: geometry"
      ]
     },
     "execution_count": 129,
     "metadata": {},
     "output_type": "execute_result"
    }
   ],
   "source": [
    "t[t.within(poly)].geometry"
   ]
  },
  {
   "cell_type": "code",
   "execution_count": null,
   "metadata": {},
   "outputs": [],
   "source": []
  },
  {
   "cell_type": "code",
   "execution_count": 81,
   "metadata": {},
   "outputs": [
    {
     "data": {
      "text/plain": [
       "0     POINT (-2206449.744 -100947.146)\n",
       "1      POINT (-2205637.402 -99773.893)\n",
       "2     POINT (-2205441.734 -101392.341)\n",
       "3     POINT (-2207624.627 -101543.755)\n",
       "4      POINT (-2207318.230 -99668.328)\n",
       "                    ...               \n",
       "95     POINT (-2206434.777 -98960.404)\n",
       "96    POINT (-2207234.191 -101250.714)\n",
       "97    POINT (-2207876.768 -100969.751)\n",
       "98    POINT (-2205450.276 -100616.898)\n",
       "99    POINT (-2205460.360 -101259.451)\n",
       "Length: 100, dtype: geometry"
      ]
     },
     "execution_count": 81,
     "metadata": {},
     "output_type": "execute_result"
    }
   ],
   "source": [
    "gdf_points"
   ]
  },
  {
   "cell_type": "code",
   "execution_count": 77,
   "metadata": {},
   "outputs": [
    {
     "ename": "TypeError",
     "evalue": "(<class 'geopandas.geoseries.GeoSeries'>, <class 'pandas.core.series.Series'>)",
     "output_type": "error",
     "traceback": [
      "\u001b[0;31m---------------------------------------------------------------------------\u001b[0m",
      "\u001b[0;31mTypeError\u001b[0m                                 Traceback (most recent call last)",
      "\u001b[0;32m<ipython-input-77-5bd6036e3b4d>\u001b[0m in \u001b[0;36m<module>\u001b[0;34m\u001b[0m\n\u001b[1;32m     13\u001b[0m \u001b[0mgdf_points\u001b[0m \u001b[0;34m=\u001b[0m \u001b[0mgpd\u001b[0m\u001b[0;34m.\u001b[0m\u001b[0mGeoSeries\u001b[0m\u001b[0;34m(\u001b[0m\u001b[0mgpd\u001b[0m\u001b[0;34m.\u001b[0m\u001b[0mpoints_from_xy\u001b[0m\u001b[0;34m(\u001b[0m\u001b[0mx\u001b[0m\u001b[0;34m,\u001b[0m \u001b[0my\u001b[0m\u001b[0;34m)\u001b[0m\u001b[0;34m)\u001b[0m\u001b[0;34m\u001b[0m\u001b[0;34m\u001b[0m\u001b[0m\n\u001b[1;32m     14\u001b[0m \u001b[0;31m# only keep those points within polygons\u001b[0m\u001b[0;34m\u001b[0m\u001b[0;34m\u001b[0m\u001b[0;34m\u001b[0m\u001b[0m\n\u001b[0;32m---> 15\u001b[0;31m \u001b[0mgdf_points\u001b[0m \u001b[0;34m=\u001b[0m \u001b[0mgdf_points\u001b[0m\u001b[0;34m[\u001b[0m\u001b[0mgdf_points\u001b[0m\u001b[0;34m.\u001b[0m\u001b[0mwithin\u001b[0m\u001b[0;34m(\u001b[0m\u001b[0mgpdf\u001b[0m\u001b[0;34m.\u001b[0m\u001b[0mloc\u001b[0m\u001b[0;34m[\u001b[0m\u001b[0;36m0\u001b[0m\u001b[0;34m]\u001b[0m\u001b[0;34m)\u001b[0m\u001b[0;34m]\u001b[0m\u001b[0;34m\u001b[0m\u001b[0;34m\u001b[0m\u001b[0m\n\u001b[0m",
      "\u001b[0;32m~/anaconda3/envs/rapids_dev_0.12/lib/python3.7/site-packages/geopandas/base.py\u001b[0m in \u001b[0;36mwithin\u001b[0;34m(self, other)\u001b[0m\n\u001b[1;32m    412\u001b[0m \u001b[0;34m\u001b[0m\u001b[0m\n\u001b[1;32m    413\u001b[0m         \"\"\"\n\u001b[0;32m--> 414\u001b[0;31m         \u001b[0;32mreturn\u001b[0m \u001b[0m_binary_op\u001b[0m\u001b[0;34m(\u001b[0m\u001b[0;34m\"within\"\u001b[0m\u001b[0;34m,\u001b[0m \u001b[0mself\u001b[0m\u001b[0;34m,\u001b[0m \u001b[0mother\u001b[0m\u001b[0;34m)\u001b[0m\u001b[0;34m\u001b[0m\u001b[0;34m\u001b[0m\u001b[0m\n\u001b[0m\u001b[1;32m    415\u001b[0m \u001b[0;34m\u001b[0m\u001b[0m\n\u001b[1;32m    416\u001b[0m     \u001b[0;32mdef\u001b[0m \u001b[0mdistance\u001b[0m\u001b[0;34m(\u001b[0m\u001b[0mself\u001b[0m\u001b[0;34m,\u001b[0m \u001b[0mother\u001b[0m\u001b[0;34m)\u001b[0m\u001b[0;34m:\u001b[0m\u001b[0;34m\u001b[0m\u001b[0;34m\u001b[0m\u001b[0m\n",
      "\u001b[0;32m~/anaconda3/envs/rapids_dev_0.12/lib/python3.7/site-packages/geopandas/base.py\u001b[0m in \u001b[0;36m_binary_op\u001b[0;34m(op, this, other, *args, **kwargs)\u001b[0m\n\u001b[1;32m     71\u001b[0m     \u001b[0;31m# type: (str, GeoSeries, GeoSeries, args/kwargs) -> Series[bool/float]\u001b[0m\u001b[0;34m\u001b[0m\u001b[0;34m\u001b[0m\u001b[0;34m\u001b[0m\u001b[0m\n\u001b[1;32m     72\u001b[0m     \u001b[0;34m\"\"\"Binary operation on GeoSeries objects that returns a Series\"\"\"\u001b[0m\u001b[0;34m\u001b[0m\u001b[0;34m\u001b[0m\u001b[0m\n\u001b[0;32m---> 73\u001b[0;31m     \u001b[0mdata\u001b[0m\u001b[0;34m,\u001b[0m \u001b[0mindex\u001b[0m \u001b[0;34m=\u001b[0m \u001b[0m_delegate_binary_method\u001b[0m\u001b[0;34m(\u001b[0m\u001b[0mop\u001b[0m\u001b[0;34m,\u001b[0m \u001b[0mthis\u001b[0m\u001b[0;34m,\u001b[0m \u001b[0mother\u001b[0m\u001b[0;34m,\u001b[0m \u001b[0;34m*\u001b[0m\u001b[0margs\u001b[0m\u001b[0;34m,\u001b[0m \u001b[0;34m**\u001b[0m\u001b[0mkwargs\u001b[0m\u001b[0;34m)\u001b[0m\u001b[0;34m\u001b[0m\u001b[0;34m\u001b[0m\u001b[0m\n\u001b[0m\u001b[1;32m     74\u001b[0m     \u001b[0;32mreturn\u001b[0m \u001b[0mSeries\u001b[0m\u001b[0;34m(\u001b[0m\u001b[0mdata\u001b[0m\u001b[0;34m,\u001b[0m \u001b[0mindex\u001b[0m\u001b[0;34m=\u001b[0m\u001b[0mindex\u001b[0m\u001b[0;34m)\u001b[0m\u001b[0;34m\u001b[0m\u001b[0;34m\u001b[0m\u001b[0m\n\u001b[1;32m     75\u001b[0m \u001b[0;34m\u001b[0m\u001b[0m\n",
      "\u001b[0;32m~/anaconda3/envs/rapids_dev_0.12/lib/python3.7/site-packages/geopandas/base.py\u001b[0m in \u001b[0;36m_delegate_binary_method\u001b[0;34m(op, this, other, *args, **kwargs)\u001b[0m\n\u001b[1;32m     53\u001b[0m         \u001b[0ma_this\u001b[0m \u001b[0;34m=\u001b[0m \u001b[0mGeometryArray\u001b[0m\u001b[0;34m(\u001b[0m\u001b[0mthis\u001b[0m\u001b[0;34m.\u001b[0m\u001b[0mvalues\u001b[0m\u001b[0;34m)\u001b[0m\u001b[0;34m\u001b[0m\u001b[0;34m\u001b[0m\u001b[0m\n\u001b[1;32m     54\u001b[0m     \u001b[0;32melse\u001b[0m\u001b[0;34m:\u001b[0m\u001b[0;34m\u001b[0m\u001b[0;34m\u001b[0m\u001b[0m\n\u001b[0;32m---> 55\u001b[0;31m         \u001b[0;32mraise\u001b[0m \u001b[0mTypeError\u001b[0m\u001b[0;34m(\u001b[0m\u001b[0mtype\u001b[0m\u001b[0;34m(\u001b[0m\u001b[0mthis\u001b[0m\u001b[0;34m)\u001b[0m\u001b[0;34m,\u001b[0m \u001b[0mtype\u001b[0m\u001b[0;34m(\u001b[0m\u001b[0mother\u001b[0m\u001b[0;34m)\u001b[0m\u001b[0;34m)\u001b[0m\u001b[0;34m\u001b[0m\u001b[0;34m\u001b[0m\u001b[0m\n\u001b[0m\u001b[1;32m     56\u001b[0m \u001b[0;34m\u001b[0m\u001b[0m\n\u001b[1;32m     57\u001b[0m     \u001b[0mdata\u001b[0m \u001b[0;34m=\u001b[0m \u001b[0mgetattr\u001b[0m\u001b[0;34m(\u001b[0m\u001b[0ma_this\u001b[0m\u001b[0;34m,\u001b[0m \u001b[0mop\u001b[0m\u001b[0;34m)\u001b[0m\u001b[0;34m(\u001b[0m\u001b[0mother\u001b[0m\u001b[0;34m,\u001b[0m \u001b[0;34m*\u001b[0m\u001b[0margs\u001b[0m\u001b[0;34m,\u001b[0m \u001b[0;34m**\u001b[0m\u001b[0mkwargs\u001b[0m\u001b[0;34m)\u001b[0m\u001b[0;34m\u001b[0m\u001b[0;34m\u001b[0m\u001b[0m\n",
      "\u001b[0;31mTypeError\u001b[0m: (<class 'geopandas.geoseries.GeoSeries'>, <class 'pandas.core.series.Series'>)"
     ]
    }
   ],
   "source": [
    "# only keep those points within polygons\n",
    "gdf_points = gdf_points[gdf_points.within(gpdf.loc[0])]"
   ]
  },
  {
   "cell_type": "code",
   "execution_count": null,
   "metadata": {},
   "outputs": [],
   "source": []
  },
  {
   "cell_type": "code",
   "execution_count": 27,
   "metadata": {},
   "outputs": [
    {
     "data": {
      "text/plain": [
       "0          0\n",
       "1          0\n",
       "2          0\n",
       "3          0\n",
       "4          0\n",
       "          ..\n",
       "710140    12\n",
       "710141     0\n",
       "710142     2\n",
       "710143     3\n",
       "710144     3\n",
       "Name: H7V001, Length: 710145, dtype: int64"
      ]
     },
     "execution_count": 27,
     "metadata": {},
     "output_type": "execute_result"
    }
   ],
   "source": [
    "df.H7V001"
   ]
  },
  {
   "cell_type": "code",
   "execution_count": 71,
   "metadata": {},
   "outputs": [],
   "source": [
    "gpdf.BLOCKCE10 = gpdf.BLOCKCE10.astype('int')"
   ]
  },
  {
   "cell_type": "code",
   "execution_count": 78,
   "metadata": {},
   "outputs": [],
   "source": [
    "t1 = gpdf.BLOCKCE10.unique()"
   ]
  },
  {
   "cell_type": "code",
   "execution_count": 82,
   "metadata": {},
   "outputs": [],
   "source": [
    "t1 =np.sort(t1)"
   ]
  },
  {
   "cell_type": "code",
   "execution_count": 52,
   "metadata": {},
   "outputs": [],
   "source": [
    "import numpy as np"
   ]
  },
  {
   "cell_type": "code",
   "execution_count": null,
   "metadata": {},
   "outputs": [],
   "source": [
    "temp = []\n",
    "for i in t1:\n",
    "    if i not in t:\n",
    "        temp.append(i)"
   ]
  },
  {
   "cell_type": "code",
   "execution_count": null,
   "metadata": {},
   "outputs": [],
   "source": [
    "len(temp)"
   ]
  },
  {
   "cell_type": "code",
   "execution_count": null,
   "metadata": {},
   "outputs": [],
   "source": []
  }
 ],
 "metadata": {
  "kernelspec": {
   "display_name": "Python 3.7.6 64-bit ('rapids_dev_0.12': conda)",
   "language": "python",
   "name": "python37664bitrapidsdev012condacbbd29366e6141f3850327b4af52d29a"
  },
  "language_info": {
   "codemirror_mode": {
    "name": "ipython",
    "version": 3
   },
   "file_extension": ".py",
   "mimetype": "text/x-python",
   "name": "python",
   "nbconvert_exporter": "python",
   "pygments_lexer": "ipython3",
   "version": "3.6.7"
  }
 },
 "nbformat": 4,
 "nbformat_minor": 4
}
