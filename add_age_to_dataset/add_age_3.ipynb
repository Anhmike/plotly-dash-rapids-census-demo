{
 "cells": [
  {
   "cell_type": "markdown",
   "metadata": {},
   "source": [
    "# Combining age with other attributes"
   ]
  },
  {
   "cell_type": "code",
   "execution_count": 1,
   "metadata": {},
   "outputs": [],
   "source": [
    "import cudf\n",
    "import pyarrow as pa\n",
    "import pandas as pd\n",
    "import numpy as np\n",
    "import cupy as cp\n",
    "import os"
   ]
  },
  {
   "cell_type": "code",
   "execution_count": 2,
   "metadata": {},
   "outputs": [],
   "source": [
    "os.environ['CUDA_VISIBLE_DEVICES'] = \"0\""
   ]
  },
  {
   "cell_type": "code",
   "execution_count": 3,
   "metadata": {},
   "outputs": [],
   "source": [
    "df = cudf.read_parquet('../data/all_states_us_lat_long_sex.parquet/*')"
   ]
  },
  {
   "cell_type": "code",
   "execution_count": 4,
   "metadata": {},
   "outputs": [
    {
     "data": {
      "text/html": [
       "<div>\n",
       "<style scoped>\n",
       "    .dataframe tbody tr th:only-of-type {\n",
       "        vertical-align: middle;\n",
       "    }\n",
       "\n",
       "    .dataframe tbody tr th {\n",
       "        vertical-align: top;\n",
       "    }\n",
       "\n",
       "    .dataframe thead th {\n",
       "        text-align: right;\n",
       "    }\n",
       "</style>\n",
       "<table border=\"1\" class=\"dataframe\">\n",
       "  <thead>\n",
       "    <tr style=\"text-align: right;\">\n",
       "      <th></th>\n",
       "      <th>GISJOIN</th>\n",
       "      <th>x</th>\n",
       "      <th>y</th>\n",
       "      <th>sex</th>\n",
       "    </tr>\n",
       "  </thead>\n",
       "  <tbody>\n",
       "    <tr>\n",
       "      <th>0</th>\n",
       "      <td>1000100201001000</td>\n",
       "      <td>-9.627034e+06</td>\n",
       "      <td>3.825003e+06</td>\n",
       "      <td>0</td>\n",
       "    </tr>\n",
       "    <tr>\n",
       "      <th>1</th>\n",
       "      <td>1000100201001000</td>\n",
       "      <td>-9.626834e+06</td>\n",
       "      <td>3.825034e+06</td>\n",
       "      <td>0</td>\n",
       "    </tr>\n",
       "    <tr>\n",
       "      <th>2</th>\n",
       "      <td>1000100201001000</td>\n",
       "      <td>-9.626683e+06</td>\n",
       "      <td>3.825079e+06</td>\n",
       "      <td>0</td>\n",
       "    </tr>\n",
       "    <tr>\n",
       "      <th>3</th>\n",
       "      <td>1000100201001000</td>\n",
       "      <td>-9.627138e+06</td>\n",
       "      <td>3.825075e+06</td>\n",
       "      <td>0</td>\n",
       "    </tr>\n",
       "    <tr>\n",
       "      <th>4</th>\n",
       "      <td>1000100201001000</td>\n",
       "      <td>-9.627112e+06</td>\n",
       "      <td>3.824731e+06</td>\n",
       "      <td>0</td>\n",
       "    </tr>\n",
       "    <tr>\n",
       "      <th>...</th>\n",
       "      <td>...</td>\n",
       "      <td>...</td>\n",
       "      <td>...</td>\n",
       "      <td>...</td>\n",
       "    </tr>\n",
       "    <tr>\n",
       "      <th>308745304</th>\n",
       "      <td>56004509513003128</td>\n",
       "      <td>-1.159921e+07</td>\n",
       "      <td>5.441573e+06</td>\n",
       "      <td>1</td>\n",
       "    </tr>\n",
       "    <tr>\n",
       "      <th>308745305</th>\n",
       "      <td>56004509513003128</td>\n",
       "      <td>-1.159932e+07</td>\n",
       "      <td>5.441618e+06</td>\n",
       "      <td>1</td>\n",
       "    </tr>\n",
       "    <tr>\n",
       "      <th>308745306</th>\n",
       "      <td>56004509513003128</td>\n",
       "      <td>-1.159941e+07</td>\n",
       "      <td>5.441687e+06</td>\n",
       "      <td>1</td>\n",
       "    </tr>\n",
       "    <tr>\n",
       "      <th>308745307</th>\n",
       "      <td>56004509513003128</td>\n",
       "      <td>-1.159941e+07</td>\n",
       "      <td>5.441688e+06</td>\n",
       "      <td>1</td>\n",
       "    </tr>\n",
       "    <tr>\n",
       "      <th>308745308</th>\n",
       "      <td>56004509513003128</td>\n",
       "      <td>-1.159926e+07</td>\n",
       "      <td>5.441574e+06</td>\n",
       "      <td>1</td>\n",
       "    </tr>\n",
       "  </tbody>\n",
       "</table>\n",
       "<p>308745309 rows × 4 columns</p>\n",
       "</div>"
      ],
      "text/plain": [
       "                     GISJOIN             x             y  sex\n",
       "0           1000100201001000 -9.627034e+06  3.825003e+06    0\n",
       "1           1000100201001000 -9.626834e+06  3.825034e+06    0\n",
       "2           1000100201001000 -9.626683e+06  3.825079e+06    0\n",
       "3           1000100201001000 -9.627138e+06  3.825075e+06    0\n",
       "4           1000100201001000 -9.627112e+06  3.824731e+06    0\n",
       "...                      ...           ...           ...  ...\n",
       "308745304  56004509513003128 -1.159921e+07  5.441573e+06    1\n",
       "308745305  56004509513003128 -1.159932e+07  5.441618e+06    1\n",
       "308745306  56004509513003128 -1.159941e+07  5.441687e+06    1\n",
       "308745307  56004509513003128 -1.159941e+07  5.441688e+06    1\n",
       "308745308  56004509513003128 -1.159926e+07  5.441574e+06    1\n",
       "\n",
       "[308745309 rows x 4 columns]"
      ]
     },
     "execution_count": 4,
     "metadata": {},
     "output_type": "execute_result"
    }
   ],
   "source": [
    "df = df.sort_values('GISJOIN').reset_index()\n",
    "df.drop_column('index')\n",
    "df"
   ]
  },
  {
   "cell_type": "code",
   "execution_count": 5,
   "metadata": {},
   "outputs": [],
   "source": [
    "os.environ['CUDA_VISIBLE_DEVICES'] = \"1\""
   ]
  },
  {
   "cell_type": "code",
   "execution_count": 6,
   "metadata": {},
   "outputs": [],
   "source": [
    "import cudf"
   ]
  },
  {
   "cell_type": "code",
   "execution_count": 7,
   "metadata": {},
   "outputs": [],
   "source": [
    "df_age = cudf.read_parquet('./age_step_2.parquet/*')"
   ]
  },
  {
   "cell_type": "code",
   "execution_count": 8,
   "metadata": {},
   "outputs": [],
   "source": [
    "df_age = df_age.sort_values('GISJOIN').reset_index()\n",
    "df_age.drop_column('index')"
   ]
  },
  {
   "cell_type": "code",
   "execution_count": 9,
   "metadata": {},
   "outputs": [
    {
     "data": {
      "text/html": [
       "<div>\n",
       "<style scoped>\n",
       "    .dataframe tbody tr th:only-of-type {\n",
       "        vertical-align: middle;\n",
       "    }\n",
       "\n",
       "    .dataframe tbody tr th {\n",
       "        vertical-align: top;\n",
       "    }\n",
       "\n",
       "    .dataframe thead th {\n",
       "        text-align: right;\n",
       "    }\n",
       "</style>\n",
       "<table border=\"1\" class=\"dataframe\">\n",
       "  <thead>\n",
       "    <tr style=\"text-align: right;\">\n",
       "      <th></th>\n",
       "      <th>GISJOIN</th>\n",
       "      <th>age</th>\n",
       "    </tr>\n",
       "  </thead>\n",
       "  <tbody>\n",
       "    <tr>\n",
       "      <th>0</th>\n",
       "      <td>1000100201001</td>\n",
       "      <td>1</td>\n",
       "    </tr>\n",
       "    <tr>\n",
       "      <th>1</th>\n",
       "      <td>1000100201001</td>\n",
       "      <td>1</td>\n",
       "    </tr>\n",
       "    <tr>\n",
       "      <th>2</th>\n",
       "      <td>1000100201001</td>\n",
       "      <td>4</td>\n",
       "    </tr>\n",
       "    <tr>\n",
       "      <th>3</th>\n",
       "      <td>1000100201001</td>\n",
       "      <td>2</td>\n",
       "    </tr>\n",
       "    <tr>\n",
       "      <th>4</th>\n",
       "      <td>1000100201001</td>\n",
       "      <td>2</td>\n",
       "    </tr>\n",
       "    <tr>\n",
       "      <th>...</th>\n",
       "      <td>...</td>\n",
       "      <td>...</td>\n",
       "    </tr>\n",
       "    <tr>\n",
       "      <th>308745304</th>\n",
       "      <td>56004509513003</td>\n",
       "      <td>87</td>\n",
       "    </tr>\n",
       "    <tr>\n",
       "      <th>308745305</th>\n",
       "      <td>56004509513003</td>\n",
       "      <td>97</td>\n",
       "    </tr>\n",
       "    <tr>\n",
       "      <th>308745306</th>\n",
       "      <td>56004509513003</td>\n",
       "      <td>99</td>\n",
       "    </tr>\n",
       "    <tr>\n",
       "      <th>308745307</th>\n",
       "      <td>56004509513003</td>\n",
       "      <td>98</td>\n",
       "    </tr>\n",
       "    <tr>\n",
       "      <th>308745308</th>\n",
       "      <td>56004509513003</td>\n",
       "      <td>89</td>\n",
       "    </tr>\n",
       "  </tbody>\n",
       "</table>\n",
       "<p>308745309 rows × 2 columns</p>\n",
       "</div>"
      ],
      "text/plain": [
       "                  GISJOIN  age\n",
       "0           1000100201001    1\n",
       "1           1000100201001    1\n",
       "2           1000100201001    4\n",
       "3           1000100201001    2\n",
       "4           1000100201001    2\n",
       "...                   ...  ...\n",
       "308745304  56004509513003   87\n",
       "308745305  56004509513003   97\n",
       "308745306  56004509513003   99\n",
       "308745307  56004509513003   98\n",
       "308745308  56004509513003   89\n",
       "\n",
       "[308745309 rows x 2 columns]"
      ]
     },
     "execution_count": 9,
     "metadata": {},
     "output_type": "execute_result"
    }
   ],
   "source": [
    "df_age"
   ]
  },
  {
   "cell_type": "code",
   "execution_count": 10,
   "metadata": {},
   "outputs": [],
   "source": [
    "df_age_with_gis_mappings = cudf.read_parquet('./GISJOIN_to_GISJOIN_og_mapping.parquet/*')\n",
    "df_age_with_gis_mappings.drop_column('sex')"
   ]
  },
  {
   "cell_type": "code",
   "execution_count": 11,
   "metadata": {},
   "outputs": [],
   "source": [
    "df_age_with_gis_mappings = df_age_with_gis_mappings.sort_values('GISJOIN').reset_index()\n",
    "df_age_with_gis_mappings.drop_column('index')"
   ]
  },
  {
   "cell_type": "code",
   "execution_count": 12,
   "metadata": {},
   "outputs": [
    {
     "data": {
      "text/html": [
       "<div>\n",
       "<style scoped>\n",
       "    .dataframe tbody tr th:only-of-type {\n",
       "        vertical-align: middle;\n",
       "    }\n",
       "\n",
       "    .dataframe tbody tr th {\n",
       "        vertical-align: top;\n",
       "    }\n",
       "\n",
       "    .dataframe thead th {\n",
       "        text-align: right;\n",
       "    }\n",
       "</style>\n",
       "<table border=\"1\" class=\"dataframe\">\n",
       "  <thead>\n",
       "    <tr style=\"text-align: right;\">\n",
       "      <th></th>\n",
       "      <th>GISJOIN</th>\n",
       "      <th>GISJOIN_og</th>\n",
       "    </tr>\n",
       "  </thead>\n",
       "  <tbody>\n",
       "    <tr>\n",
       "      <th>0</th>\n",
       "      <td>1000100201001</td>\n",
       "      <td>1000100201001025</td>\n",
       "    </tr>\n",
       "    <tr>\n",
       "      <th>1</th>\n",
       "      <td>1000100201001</td>\n",
       "      <td>1000100201001025</td>\n",
       "    </tr>\n",
       "    <tr>\n",
       "      <th>2</th>\n",
       "      <td>1000100201001</td>\n",
       "      <td>1000100201001025</td>\n",
       "    </tr>\n",
       "    <tr>\n",
       "      <th>3</th>\n",
       "      <td>1000100201001</td>\n",
       "      <td>1000100201001025</td>\n",
       "    </tr>\n",
       "    <tr>\n",
       "      <th>4</th>\n",
       "      <td>1000100201001</td>\n",
       "      <td>1000100201001025</td>\n",
       "    </tr>\n",
       "    <tr>\n",
       "      <th>...</th>\n",
       "      <td>...</td>\n",
       "      <td>...</td>\n",
       "    </tr>\n",
       "    <tr>\n",
       "      <th>308745304</th>\n",
       "      <td>56004509513003</td>\n",
       "      <td>56004509513003000</td>\n",
       "    </tr>\n",
       "    <tr>\n",
       "      <th>308745305</th>\n",
       "      <td>56004509513003</td>\n",
       "      <td>56004509513003000</td>\n",
       "    </tr>\n",
       "    <tr>\n",
       "      <th>308745306</th>\n",
       "      <td>56004509513003</td>\n",
       "      <td>56004509513003000</td>\n",
       "    </tr>\n",
       "    <tr>\n",
       "      <th>308745307</th>\n",
       "      <td>56004509513003</td>\n",
       "      <td>56004509513003000</td>\n",
       "    </tr>\n",
       "    <tr>\n",
       "      <th>308745308</th>\n",
       "      <td>56004509513003</td>\n",
       "      <td>56004509513003000</td>\n",
       "    </tr>\n",
       "  </tbody>\n",
       "</table>\n",
       "<p>308745309 rows × 2 columns</p>\n",
       "</div>"
      ],
      "text/plain": [
       "                  GISJOIN         GISJOIN_og\n",
       "0           1000100201001   1000100201001025\n",
       "1           1000100201001   1000100201001025\n",
       "2           1000100201001   1000100201001025\n",
       "3           1000100201001   1000100201001025\n",
       "4           1000100201001   1000100201001025\n",
       "...                   ...                ...\n",
       "308745304  56004509513003  56004509513003000\n",
       "308745305  56004509513003  56004509513003000\n",
       "308745306  56004509513003  56004509513003000\n",
       "308745307  56004509513003  56004509513003000\n",
       "308745308  56004509513003  56004509513003000\n",
       "\n",
       "[308745309 rows x 2 columns]"
      ]
     },
     "execution_count": 12,
     "metadata": {},
     "output_type": "execute_result"
    }
   ],
   "source": [
    "df_age_with_gis_mappings"
   ]
  },
  {
   "cell_type": "code",
   "execution_count": 13,
   "metadata": {},
   "outputs": [],
   "source": [
    "df_age_with_gis_mappings['GISJOIN_age'] = df_age.GISJOIN.values"
   ]
  },
  {
   "cell_type": "code",
   "execution_count": 14,
   "metadata": {},
   "outputs": [
    {
     "data": {
      "text/html": [
       "<div>\n",
       "<style scoped>\n",
       "    .dataframe tbody tr th:only-of-type {\n",
       "        vertical-align: middle;\n",
       "    }\n",
       "\n",
       "    .dataframe tbody tr th {\n",
       "        vertical-align: top;\n",
       "    }\n",
       "\n",
       "    .dataframe thead th {\n",
       "        text-align: right;\n",
       "    }\n",
       "</style>\n",
       "<table border=\"1\" class=\"dataframe\">\n",
       "  <thead>\n",
       "    <tr style=\"text-align: right;\">\n",
       "      <th></th>\n",
       "      <th>GISJOIN</th>\n",
       "      <th>GISJOIN_og</th>\n",
       "      <th>GISJOIN_age</th>\n",
       "    </tr>\n",
       "  </thead>\n",
       "  <tbody>\n",
       "  </tbody>\n",
       "</table>\n",
       "</div>"
      ],
      "text/plain": [
       "Empty DataFrame\n",
       "Columns: [GISJOIN, GISJOIN_og, GISJOIN_age]\n",
       "Index: []"
      ]
     },
     "execution_count": 14,
     "metadata": {},
     "output_type": "execute_result"
    }
   ],
   "source": [
    "df_age_with_gis_mappings.query('GISJOIN != GISJOIN_age')"
   ]
  },
  {
   "cell_type": "code",
   "execution_count": 15,
   "metadata": {},
   "outputs": [],
   "source": [
    "df_age_with_gis_mappings['age'] = df_age.age.values"
   ]
  },
  {
   "cell_type": "code",
   "execution_count": 16,
   "metadata": {},
   "outputs": [],
   "source": [
    "df_age_with_gis_mappings.drop_column('GISJOIN_age')\n",
    "df_age_with_gis_mappings.drop_column('GISJOIN')"
   ]
  },
  {
   "cell_type": "code",
   "execution_count": 17,
   "metadata": {},
   "outputs": [],
   "source": [
    "df_age_with_gis_mappings = df_age_with_gis_mappings.rename({'GISJOIN_og': 'GISJOIN'})"
   ]
  },
  {
   "cell_type": "code",
   "execution_count": 18,
   "metadata": {},
   "outputs": [],
   "source": [
    "df_age_with_gis_mappings = df_age_with_gis_mappings.sort_values('GISJOIN').reset_index()\n",
    "df_age_with_gis_mappings.drop_column('index')"
   ]
  },
  {
   "cell_type": "code",
   "execution_count": 19,
   "metadata": {},
   "outputs": [
    {
     "data": {
      "text/html": [
       "<div>\n",
       "<style scoped>\n",
       "    .dataframe tbody tr th:only-of-type {\n",
       "        vertical-align: middle;\n",
       "    }\n",
       "\n",
       "    .dataframe tbody tr th {\n",
       "        vertical-align: top;\n",
       "    }\n",
       "\n",
       "    .dataframe thead th {\n",
       "        text-align: right;\n",
       "    }\n",
       "</style>\n",
       "<table border=\"1\" class=\"dataframe\">\n",
       "  <thead>\n",
       "    <tr style=\"text-align: right;\">\n",
       "      <th></th>\n",
       "      <th>GISJOIN</th>\n",
       "      <th>age</th>\n",
       "    </tr>\n",
       "  </thead>\n",
       "  <tbody>\n",
       "    <tr>\n",
       "      <th>0</th>\n",
       "      <td>1000100201001000</td>\n",
       "      <td>67</td>\n",
       "    </tr>\n",
       "    <tr>\n",
       "      <th>1</th>\n",
       "      <td>1000100201001000</td>\n",
       "      <td>69</td>\n",
       "    </tr>\n",
       "    <tr>\n",
       "      <th>2</th>\n",
       "      <td>1000100201001000</td>\n",
       "      <td>67</td>\n",
       "    </tr>\n",
       "    <tr>\n",
       "      <th>3</th>\n",
       "      <td>1000100201001000</td>\n",
       "      <td>67</td>\n",
       "    </tr>\n",
       "    <tr>\n",
       "      <th>4</th>\n",
       "      <td>1000100201001000</td>\n",
       "      <td>74</td>\n",
       "    </tr>\n",
       "    <tr>\n",
       "      <th>...</th>\n",
       "      <td>...</td>\n",
       "      <td>...</td>\n",
       "    </tr>\n",
       "    <tr>\n",
       "      <th>308745304</th>\n",
       "      <td>56004509513003128</td>\n",
       "      <td>52</td>\n",
       "    </tr>\n",
       "    <tr>\n",
       "      <th>308745305</th>\n",
       "      <td>56004509513003128</td>\n",
       "      <td>50</td>\n",
       "    </tr>\n",
       "    <tr>\n",
       "      <th>308745306</th>\n",
       "      <td>56004509513003128</td>\n",
       "      <td>50</td>\n",
       "    </tr>\n",
       "    <tr>\n",
       "      <th>308745307</th>\n",
       "      <td>56004509513003128</td>\n",
       "      <td>51</td>\n",
       "    </tr>\n",
       "    <tr>\n",
       "      <th>308745308</th>\n",
       "      <td>56004509513003128</td>\n",
       "      <td>52</td>\n",
       "    </tr>\n",
       "  </tbody>\n",
       "</table>\n",
       "<p>308745309 rows × 2 columns</p>\n",
       "</div>"
      ],
      "text/plain": [
       "                     GISJOIN  age\n",
       "0           1000100201001000   67\n",
       "1           1000100201001000   69\n",
       "2           1000100201001000   67\n",
       "3           1000100201001000   67\n",
       "4           1000100201001000   74\n",
       "...                      ...  ...\n",
       "308745304  56004509513003128   52\n",
       "308745305  56004509513003128   50\n",
       "308745306  56004509513003128   50\n",
       "308745307  56004509513003128   51\n",
       "308745308  56004509513003128   52\n",
       "\n",
       "[308745309 rows x 2 columns]"
      ]
     },
     "execution_count": 19,
     "metadata": {},
     "output_type": "execute_result"
    }
   ],
   "source": [
    "df_age_with_gis_mappings"
   ]
  },
  {
   "cell_type": "code",
   "execution_count": 20,
   "metadata": {},
   "outputs": [],
   "source": [
    "del(df_age)"
   ]
  },
  {
   "cell_type": "markdown",
   "metadata": {},
   "source": [
    "### merge sex and age with lat-long table"
   ]
  },
  {
   "cell_type": "code",
   "execution_count": 21,
   "metadata": {},
   "outputs": [
    {
     "data": {
      "text/html": [
       "<div>\n",
       "<style scoped>\n",
       "    .dataframe tbody tr th:only-of-type {\n",
       "        vertical-align: middle;\n",
       "    }\n",
       "\n",
       "    .dataframe tbody tr th {\n",
       "        vertical-align: top;\n",
       "    }\n",
       "\n",
       "    .dataframe thead th {\n",
       "        text-align: right;\n",
       "    }\n",
       "</style>\n",
       "<table border=\"1\" class=\"dataframe\">\n",
       "  <thead>\n",
       "    <tr style=\"text-align: right;\">\n",
       "      <th></th>\n",
       "      <th>GISJOIN</th>\n",
       "      <th>x</th>\n",
       "      <th>y</th>\n",
       "      <th>sex</th>\n",
       "    </tr>\n",
       "  </thead>\n",
       "  <tbody>\n",
       "    <tr>\n",
       "      <th>0</th>\n",
       "      <td>1000100201001000</td>\n",
       "      <td>-9.627034e+06</td>\n",
       "      <td>3.825003e+06</td>\n",
       "      <td>0</td>\n",
       "    </tr>\n",
       "    <tr>\n",
       "      <th>1</th>\n",
       "      <td>1000100201001000</td>\n",
       "      <td>-9.626834e+06</td>\n",
       "      <td>3.825034e+06</td>\n",
       "      <td>0</td>\n",
       "    </tr>\n",
       "    <tr>\n",
       "      <th>2</th>\n",
       "      <td>1000100201001000</td>\n",
       "      <td>-9.626683e+06</td>\n",
       "      <td>3.825079e+06</td>\n",
       "      <td>0</td>\n",
       "    </tr>\n",
       "    <tr>\n",
       "      <th>3</th>\n",
       "      <td>1000100201001000</td>\n",
       "      <td>-9.627138e+06</td>\n",
       "      <td>3.825075e+06</td>\n",
       "      <td>0</td>\n",
       "    </tr>\n",
       "    <tr>\n",
       "      <th>4</th>\n",
       "      <td>1000100201001000</td>\n",
       "      <td>-9.627112e+06</td>\n",
       "      <td>3.824731e+06</td>\n",
       "      <td>0</td>\n",
       "    </tr>\n",
       "  </tbody>\n",
       "</table>\n",
       "</div>"
      ],
      "text/plain": [
       "            GISJOIN             x             y  sex\n",
       "0  1000100201001000 -9.627034e+06  3.825003e+06    0\n",
       "1  1000100201001000 -9.626834e+06  3.825034e+06    0\n",
       "2  1000100201001000 -9.626683e+06  3.825079e+06    0\n",
       "3  1000100201001000 -9.627138e+06  3.825075e+06    0\n",
       "4  1000100201001000 -9.627112e+06  3.824731e+06    0"
      ]
     },
     "execution_count": 21,
     "metadata": {},
     "output_type": "execute_result"
    }
   ],
   "source": [
    "df.head()"
   ]
  },
  {
   "cell_type": "code",
   "execution_count": 22,
   "metadata": {},
   "outputs": [],
   "source": [
    "df['GISJOIN_age'] = df_age_with_gis_mappings.GISJOIN.values\n",
    "df['age'] = df_age_with_gis_mappings.age.values"
   ]
  },
  {
   "cell_type": "code",
   "execution_count": 23,
   "metadata": {},
   "outputs": [],
   "source": [
    "del(df_age_with_gis_mappings)"
   ]
  },
  {
   "cell_type": "code",
   "execution_count": 24,
   "metadata": {},
   "outputs": [
    {
     "data": {
      "text/html": [
       "<div>\n",
       "<style scoped>\n",
       "    .dataframe tbody tr th:only-of-type {\n",
       "        vertical-align: middle;\n",
       "    }\n",
       "\n",
       "    .dataframe tbody tr th {\n",
       "        vertical-align: top;\n",
       "    }\n",
       "\n",
       "    .dataframe thead th {\n",
       "        text-align: right;\n",
       "    }\n",
       "</style>\n",
       "<table border=\"1\" class=\"dataframe\">\n",
       "  <thead>\n",
       "    <tr style=\"text-align: right;\">\n",
       "      <th></th>\n",
       "      <th>GISJOIN</th>\n",
       "      <th>x</th>\n",
       "      <th>y</th>\n",
       "      <th>sex</th>\n",
       "      <th>GISJOIN_age</th>\n",
       "      <th>age</th>\n",
       "    </tr>\n",
       "  </thead>\n",
       "  <tbody>\n",
       "    <tr>\n",
       "      <th>0</th>\n",
       "      <td>1000100201001000</td>\n",
       "      <td>-9.627034e+06</td>\n",
       "      <td>3.825003e+06</td>\n",
       "      <td>0</td>\n",
       "      <td>1000100201001000</td>\n",
       "      <td>67</td>\n",
       "    </tr>\n",
       "    <tr>\n",
       "      <th>1</th>\n",
       "      <td>1000100201001000</td>\n",
       "      <td>-9.626834e+06</td>\n",
       "      <td>3.825034e+06</td>\n",
       "      <td>0</td>\n",
       "      <td>1000100201001000</td>\n",
       "      <td>69</td>\n",
       "    </tr>\n",
       "    <tr>\n",
       "      <th>2</th>\n",
       "      <td>1000100201001000</td>\n",
       "      <td>-9.626683e+06</td>\n",
       "      <td>3.825079e+06</td>\n",
       "      <td>0</td>\n",
       "      <td>1000100201001000</td>\n",
       "      <td>67</td>\n",
       "    </tr>\n",
       "    <tr>\n",
       "      <th>3</th>\n",
       "      <td>1000100201001000</td>\n",
       "      <td>-9.627138e+06</td>\n",
       "      <td>3.825075e+06</td>\n",
       "      <td>0</td>\n",
       "      <td>1000100201001000</td>\n",
       "      <td>67</td>\n",
       "    </tr>\n",
       "    <tr>\n",
       "      <th>4</th>\n",
       "      <td>1000100201001000</td>\n",
       "      <td>-9.627112e+06</td>\n",
       "      <td>3.824731e+06</td>\n",
       "      <td>0</td>\n",
       "      <td>1000100201001000</td>\n",
       "      <td>74</td>\n",
       "    </tr>\n",
       "    <tr>\n",
       "      <th>...</th>\n",
       "      <td>...</td>\n",
       "      <td>...</td>\n",
       "      <td>...</td>\n",
       "      <td>...</td>\n",
       "      <td>...</td>\n",
       "      <td>...</td>\n",
       "    </tr>\n",
       "    <tr>\n",
       "      <th>308745304</th>\n",
       "      <td>56004509513003128</td>\n",
       "      <td>-1.159921e+07</td>\n",
       "      <td>5.441573e+06</td>\n",
       "      <td>1</td>\n",
       "      <td>56004509513003128</td>\n",
       "      <td>52</td>\n",
       "    </tr>\n",
       "    <tr>\n",
       "      <th>308745305</th>\n",
       "      <td>56004509513003128</td>\n",
       "      <td>-1.159932e+07</td>\n",
       "      <td>5.441618e+06</td>\n",
       "      <td>1</td>\n",
       "      <td>56004509513003128</td>\n",
       "      <td>50</td>\n",
       "    </tr>\n",
       "    <tr>\n",
       "      <th>308745306</th>\n",
       "      <td>56004509513003128</td>\n",
       "      <td>-1.159941e+07</td>\n",
       "      <td>5.441687e+06</td>\n",
       "      <td>1</td>\n",
       "      <td>56004509513003128</td>\n",
       "      <td>50</td>\n",
       "    </tr>\n",
       "    <tr>\n",
       "      <th>308745307</th>\n",
       "      <td>56004509513003128</td>\n",
       "      <td>-1.159941e+07</td>\n",
       "      <td>5.441688e+06</td>\n",
       "      <td>1</td>\n",
       "      <td>56004509513003128</td>\n",
       "      <td>51</td>\n",
       "    </tr>\n",
       "    <tr>\n",
       "      <th>308745308</th>\n",
       "      <td>56004509513003128</td>\n",
       "      <td>-1.159926e+07</td>\n",
       "      <td>5.441574e+06</td>\n",
       "      <td>1</td>\n",
       "      <td>56004509513003128</td>\n",
       "      <td>52</td>\n",
       "    </tr>\n",
       "  </tbody>\n",
       "</table>\n",
       "<p>308745309 rows × 6 columns</p>\n",
       "</div>"
      ],
      "text/plain": [
       "                     GISJOIN             x             y  sex  \\\n",
       "0           1000100201001000 -9.627034e+06  3.825003e+06    0   \n",
       "1           1000100201001000 -9.626834e+06  3.825034e+06    0   \n",
       "2           1000100201001000 -9.626683e+06  3.825079e+06    0   \n",
       "3           1000100201001000 -9.627138e+06  3.825075e+06    0   \n",
       "4           1000100201001000 -9.627112e+06  3.824731e+06    0   \n",
       "...                      ...           ...           ...  ...   \n",
       "308745304  56004509513003128 -1.159921e+07  5.441573e+06    1   \n",
       "308745305  56004509513003128 -1.159932e+07  5.441618e+06    1   \n",
       "308745306  56004509513003128 -1.159941e+07  5.441687e+06    1   \n",
       "308745307  56004509513003128 -1.159941e+07  5.441688e+06    1   \n",
       "308745308  56004509513003128 -1.159926e+07  5.441574e+06    1   \n",
       "\n",
       "                 GISJOIN_age  age  \n",
       "0           1000100201001000   67  \n",
       "1           1000100201001000   69  \n",
       "2           1000100201001000   67  \n",
       "3           1000100201001000   67  \n",
       "4           1000100201001000   74  \n",
       "...                      ...  ...  \n",
       "308745304  56004509513003128   52  \n",
       "308745305  56004509513003128   50  \n",
       "308745306  56004509513003128   50  \n",
       "308745307  56004509513003128   51  \n",
       "308745308  56004509513003128   52  \n",
       "\n",
       "[308745309 rows x 6 columns]"
      ]
     },
     "execution_count": 24,
     "metadata": {},
     "output_type": "execute_result"
    }
   ],
   "source": [
    "df"
   ]
  },
  {
   "cell_type": "code",
   "execution_count": 37,
   "metadata": {},
   "outputs": [
    {
     "data": {
      "text/plain": [
       "0    True\n",
       "Name: GISJOIN, dtype: bool"
      ]
     },
     "execution_count": 37,
     "metadata": {},
     "output_type": "execute_result"
    }
   ],
   "source": [
    "(df.GISJOIN == df.GISJOIN).unique()"
   ]
  },
  {
   "cell_type": "code",
   "execution_count": 38,
   "metadata": {},
   "outputs": [],
   "source": [
    "df.drop_column('GISJOIN_age')"
   ]
  },
  {
   "cell_type": "code",
   "execution_count": 39,
   "metadata": {},
   "outputs": [
    {
     "name": "stderr",
     "output_type": "stream",
     "text": [
      "/home/ajay/anaconda3/envs/rapids_dev_0.12/lib/python3.6/site-packages/cudf/io/parquet.py:70: UserWarning: Using CPU via PyArrow to write Parquet dataset, this will be GPU accelerated in the future\n",
      "  \"Using CPU via PyArrow to write Parquet dataset, this will \"\n"
     ]
    }
   ],
   "source": [
    "df.to_parquet('../data/all_states_lat_long_age_sex.parquet')"
   ]
  }
 ],
 "metadata": {
  "kernelspec": {
   "display_name": "Python 3.7.6 64-bit ('rapids_dev_0.12': conda)",
   "language": "python",
   "name": "python37664bitrapidsdev012condacbbd29366e6141f3850327b4af52d29a"
  },
  "language_info": {
   "codemirror_mode": {
    "name": "ipython",
    "version": 3
   },
   "file_extension": ".py",
   "mimetype": "text/x-python",
   "name": "python",
   "nbconvert_exporter": "python",
   "pygments_lexer": "ipython3",
   "version": "3.6.7"
  }
 },
 "nbformat": 4,
 "nbformat_minor": 4
}
