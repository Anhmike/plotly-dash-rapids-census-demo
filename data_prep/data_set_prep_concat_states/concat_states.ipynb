{
 "cells": [
  {
   "cell_type": "code",
   "execution_count": 1,
   "metadata": {},
   "outputs": [],
   "source": [
    "import cudf\n",
    "from pyproj import Transformer, CRS"
   ]
  },
  {
   "cell_type": "code",
   "execution_count": 2,
   "metadata": {},
   "outputs": [],
   "source": [
    "def read_state(state):\n",
    "    print('reading '+state, end='\\r')\n",
    "    df = cudf.read_csv('../data/census_data/population_%s.csv'%(state), usecols=['GISJOIN','x', 'y'])\n",
    "    df.GISJOIN = df.GISJOIN.astype('int')\n",
    "    inProj = '+proj=aea +lat_1=29.5 +lat_2=45.5 +lat_0=37.5 +lon_0=-96 +x_0=0 +y_0=0 +datum=NAD83 +units=m +no_defs' # Latitude and longitudes\n",
    "    outProj = 'epsg:4326' # 2D projected points\n",
    "    transformer = Transformer.from_crs(inProj, outProj, always_xy=True)\n",
    "    df['x'], df['y'] = transformer.transform(df['x'].to_array(), df['y'].to_array()) # Apply transformation\n",
    "    print('completed',end='\\r')\n",
    "    return df"
   ]
  },
  {
   "cell_type": "code",
   "execution_count": 3,
   "metadata": {},
   "outputs": [],
   "source": [
    "list_of_states = ['AL', 'AK', 'AZ', 'AR', 'CO', 'CT', 'DE', 'DC', 'FL', 'CA',\n",
    "                  'GA', 'HI', 'ID', 'IL', 'IN', 'IA', 'KS', 'KY', 'LA', 'ME',\n",
    "                  'MD', 'MA', 'MI', 'MN', 'MS', 'MO', 'MT', 'NE', 'NV', 'NH',\n",
    "                  'NJ', 'NM', 'NY', 'NC', 'ND', 'OH', 'OK', 'OR', 'PA', 'RI',\n",
    "                  'SC', 'SD', 'TN', 'TX', 'UT', 'VA','VT', 'WA', 'WI', 'WV', 'WY', 'PR']"
   ]
  },
  {
   "cell_type": "code",
   "execution_count": 4,
   "metadata": {},
   "outputs": [
    {
     "name": "stdout",
     "output_type": "stream",
     "text": [
      "completedR\r"
     ]
    }
   ],
   "source": [
    "df = [read_state(x) for x in list_of_states]"
   ]
  },
  {
   "cell_type": "code",
   "execution_count": 11,
   "metadata": {},
   "outputs": [],
   "source": [
    "#leave PR\n",
    "df = df[:-1]"
   ]
  },
  {
   "cell_type": "code",
   "execution_count": 12,
   "metadata": {},
   "outputs": [],
   "source": [
    "final_df = cudf.concat(df)\n",
    "del(df)"
   ]
  },
  {
   "cell_type": "code",
   "execution_count": 17,
   "metadata": {},
   "outputs": [],
   "source": [
    "final_df = final_df.reset_index()\n",
    "final_df.drop_column('index')"
   ]
  },
  {
   "cell_type": "code",
   "execution_count": 20,
   "metadata": {},
   "outputs": [
    {
     "data": {
      "text/html": [
       "<div>\n",
       "<style scoped>\n",
       "    .dataframe tbody tr th:only-of-type {\n",
       "        vertical-align: middle;\n",
       "    }\n",
       "\n",
       "    .dataframe tbody tr th {\n",
       "        vertical-align: top;\n",
       "    }\n",
       "\n",
       "    .dataframe thead th {\n",
       "        text-align: right;\n",
       "    }\n",
       "</style>\n",
       "<table border=\"1\" class=\"dataframe\">\n",
       "  <thead>\n",
       "    <tr style=\"text-align: right;\">\n",
       "      <th></th>\n",
       "      <th>GISJOIN</th>\n",
       "      <th>x</th>\n",
       "      <th>y</th>\n",
       "      <th>p_id</th>\n",
       "    </tr>\n",
       "  </thead>\n",
       "  <tbody>\n",
       "    <tr>\n",
       "      <th>0</th>\n",
       "      <td>1000100211002002</td>\n",
       "      <td>-9.662807e+06</td>\n",
       "      <td>3.831871e+06</td>\n",
       "      <td>0</td>\n",
       "    </tr>\n",
       "    <tr>\n",
       "      <th>1</th>\n",
       "      <td>1000100211002002</td>\n",
       "      <td>-9.663283e+06</td>\n",
       "      <td>3.832983e+06</td>\n",
       "      <td>1</td>\n",
       "    </tr>\n",
       "    <tr>\n",
       "      <th>2</th>\n",
       "      <td>1000100211002002</td>\n",
       "      <td>-9.663042e+06</td>\n",
       "      <td>3.832885e+06</td>\n",
       "      <td>2</td>\n",
       "    </tr>\n",
       "    <tr>\n",
       "      <th>3</th>\n",
       "      <td>1000100211002002</td>\n",
       "      <td>-9.662848e+06</td>\n",
       "      <td>3.833558e+06</td>\n",
       "      <td>3</td>\n",
       "    </tr>\n",
       "    <tr>\n",
       "      <th>4</th>\n",
       "      <td>1000100211002002</td>\n",
       "      <td>-9.662436e+06</td>\n",
       "      <td>3.833098e+06</td>\n",
       "      <td>4</td>\n",
       "    </tr>\n",
       "    <tr>\n",
       "      <th>...</th>\n",
       "      <td>...</td>\n",
       "      <td>...</td>\n",
       "      <td>...</td>\n",
       "      <td>...</td>\n",
       "    </tr>\n",
       "    <tr>\n",
       "      <th>308745533</th>\n",
       "      <td>56004509511002304</td>\n",
       "      <td>-1.162458e+07</td>\n",
       "      <td>5.461661e+06</td>\n",
       "      <td>308745533</td>\n",
       "    </tr>\n",
       "    <tr>\n",
       "      <th>308745534</th>\n",
       "      <td>56004509511002304</td>\n",
       "      <td>-1.162415e+07</td>\n",
       "      <td>5.461604e+06</td>\n",
       "      <td>308745534</td>\n",
       "    </tr>\n",
       "    <tr>\n",
       "      <th>308745535</th>\n",
       "      <td>56004509511002304</td>\n",
       "      <td>-1.162405e+07</td>\n",
       "      <td>5.461376e+06</td>\n",
       "      <td>308745535</td>\n",
       "    </tr>\n",
       "    <tr>\n",
       "      <th>308745536</th>\n",
       "      <td>56004509511002304</td>\n",
       "      <td>-1.162429e+07</td>\n",
       "      <td>5.461773e+06</td>\n",
       "      <td>308745536</td>\n",
       "    </tr>\n",
       "    <tr>\n",
       "      <th>308745537</th>\n",
       "      <td>56004509511002304</td>\n",
       "      <td>-1.162420e+07</td>\n",
       "      <td>5.461390e+06</td>\n",
       "      <td>308745537</td>\n",
       "    </tr>\n",
       "  </tbody>\n",
       "</table>\n",
       "<p>308745538 rows × 4 columns</p>\n",
       "</div>"
      ],
      "text/plain": [
       "                     GISJOIN             x             y       p_id\n",
       "0           1000100211002002 -9.662807e+06  3.831871e+06          0\n",
       "1           1000100211002002 -9.663283e+06  3.832983e+06          1\n",
       "2           1000100211002002 -9.663042e+06  3.832885e+06          2\n",
       "3           1000100211002002 -9.662848e+06  3.833558e+06          3\n",
       "4           1000100211002002 -9.662436e+06  3.833098e+06          4\n",
       "...                      ...           ...           ...        ...\n",
       "308745533  56004509511002304 -1.162458e+07  5.461661e+06  308745533\n",
       "308745534  56004509511002304 -1.162415e+07  5.461604e+06  308745534\n",
       "308745535  56004509511002304 -1.162405e+07  5.461376e+06  308745535\n",
       "308745536  56004509511002304 -1.162429e+07  5.461773e+06  308745536\n",
       "308745537  56004509511002304 -1.162420e+07  5.461390e+06  308745537\n",
       "\n",
       "[308745538 rows x 4 columns]"
      ]
     },
     "execution_count": 20,
     "metadata": {},
     "output_type": "execute_result"
    }
   ],
   "source": [
    "final_df['p_id'] = final_df.index.astype('int32')\n",
    "final_df"
   ]
  },
  {
   "cell_type": "code",
   "execution_count": 21,
   "metadata": {},
   "outputs": [
    {
     "data": {
      "text/plain": [
       "GISJOIN      int64\n",
       "x          float64\n",
       "y          float64\n",
       "p_id         int32\n",
       "dtype: object"
      ]
     },
     "execution_count": 21,
     "metadata": {},
     "output_type": "execute_result"
    }
   ],
   "source": [
    "final_df.dtypes"
   ]
  },
  {
   "cell_type": "code",
   "execution_count": 22,
   "metadata": {},
   "outputs": [
    {
     "data": {
      "text/plain": [
       "0           1000100201001000\n",
       "1           1000100201001003\n",
       "2           1000100201001005\n",
       "3           1000100201001007\n",
       "4           1000100201001009\n",
       "                 ...        \n",
       "2805556    56004509513003096\n",
       "2805557    56004509513003104\n",
       "2805558    56004509513003112\n",
       "2805559    56004509513003120\n",
       "2805560    56004509513003128\n",
       "Name: GISJOIN, Length: 2805561, dtype: int64"
      ]
     },
     "execution_count": 22,
     "metadata": {},
     "output_type": "execute_result"
    }
   ],
   "source": [
    "final_df.GISJOIN.unique()"
   ]
  },
  {
   "cell_type": "code",
   "execution_count": 23,
   "metadata": {},
   "outputs": [
    {
     "name": "stderr",
     "output_type": "stream",
     "text": [
      "/home/ajay/anaconda3/envs/rapids_dev_0.12/lib/python3.6/site-packages/cudf/io/parquet.py:70: UserWarning: Using CPU via PyArrow to write Parquet dataset, this will be GPU accelerated in the future\n",
      "  \"Using CPU via PyArrow to write Parquet dataset, this will \"\n"
     ]
    }
   ],
   "source": [
    "final_df.to_parquet('../data/all_statas_us_lat_long.parquet')"
   ]
  },
  {
   "cell_type": "code",
   "execution_count": 13,
   "metadata": {},
   "outputs": [],
   "source": [
    "final_df.drop_column('GISJOIN')"
   ]
  },
  {
   "cell_type": "code",
   "execution_count": 18,
   "metadata": {},
   "outputs": [
    {
     "name": "stdout",
     "output_type": "stream",
     "text": [
      "saving as an arrow file on the path specified: all_states_us_lat_long_no_gisjoin\n"
     ]
    }
   ],
   "source": [
    "write_arrow_to_disk(final_df.to_arrow().to_batches()[0], 'all_states_us_lat_long_no_gisjoin')"
   ]
  }
 ],
 "metadata": {
  "kernelspec": {
   "display_name": "Python 3.7.6 64-bit ('rapids_dev_0.12': conda)",
   "language": "python",
   "name": "python37664bitrapidsdev012condacbbd29366e6141f3850327b4af52d29a"
  },
  "language_info": {
   "codemirror_mode": {
    "name": "ipython",
    "version": 3
   },
   "file_extension": ".py",
   "mimetype": "text/x-python",
   "name": "python",
   "nbconvert_exporter": "python",
   "pygments_lexer": "ipython3",
   "version": "3.6.7"
  }
 },
 "nbformat": 4,
 "nbformat_minor": 4
}
