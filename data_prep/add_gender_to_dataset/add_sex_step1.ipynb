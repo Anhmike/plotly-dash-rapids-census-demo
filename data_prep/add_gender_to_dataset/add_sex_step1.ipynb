{
 "cells": [
  {
   "cell_type": "code",
   "execution_count": 1,
   "metadata": {},
   "outputs": [],
   "source": [
    "import cudf\n",
    "import pyarrow as pa\n",
    "import pandas as pd\n",
    "import numpy as np\n",
    "import cupy as cp"
   ]
  },
  {
   "cell_type": "code",
   "execution_count": 2,
   "metadata": {},
   "outputs": [],
   "source": [
    "df = cudf.read_parquet('../data/all_states_us_lat_long.parquet/*').reset_index().drop(['index'])"
   ]
  },
  {
   "cell_type": "code",
   "execution_count": 3,
   "metadata": {},
   "outputs": [],
   "source": [
    "# df['block_id'] = (df.GISJOIN%10000).astype('int32')\n",
    "# df['State'] = (df.GISJOIN/1000_000_000_000_000).astype('int32')\n",
    "df['GISJOIN_og'] = df.GISJOIN\n",
    "df['GISJOIN'] = (df.GISJOIN/1000).astype('int')"
   ]
  },
  {
   "cell_type": "code",
   "execution_count": 4,
   "metadata": {},
   "outputs": [
    {
     "data": {
      "text/html": [
       "<div>\n",
       "<style scoped>\n",
       "    .dataframe tbody tr th:only-of-type {\n",
       "        vertical-align: middle;\n",
       "    }\n",
       "\n",
       "    .dataframe tbody tr th {\n",
       "        vertical-align: top;\n",
       "    }\n",
       "\n",
       "    .dataframe thead th {\n",
       "        text-align: right;\n",
       "    }\n",
       "</style>\n",
       "<table border=\"1\" class=\"dataframe\">\n",
       "  <thead>\n",
       "    <tr style=\"text-align: right;\">\n",
       "      <th></th>\n",
       "      <th>GISJOIN</th>\n",
       "      <th>x</th>\n",
       "      <th>y</th>\n",
       "      <th>p_id</th>\n",
       "      <th>GISJOIN_og</th>\n",
       "    </tr>\n",
       "  </thead>\n",
       "  <tbody>\n",
       "    <tr>\n",
       "      <th>0</th>\n",
       "      <td>1000100211002</td>\n",
       "      <td>-9.662807e+06</td>\n",
       "      <td>3.831871e+06</td>\n",
       "      <td>0</td>\n",
       "      <td>1000100211002002</td>\n",
       "    </tr>\n",
       "    <tr>\n",
       "      <th>1</th>\n",
       "      <td>1000100211002</td>\n",
       "      <td>-9.663283e+06</td>\n",
       "      <td>3.832983e+06</td>\n",
       "      <td>1</td>\n",
       "      <td>1000100211002002</td>\n",
       "    </tr>\n",
       "    <tr>\n",
       "      <th>2</th>\n",
       "      <td>1000100211002</td>\n",
       "      <td>-9.663042e+06</td>\n",
       "      <td>3.832885e+06</td>\n",
       "      <td>2</td>\n",
       "      <td>1000100211002002</td>\n",
       "    </tr>\n",
       "    <tr>\n",
       "      <th>3</th>\n",
       "      <td>1000100211002</td>\n",
       "      <td>-9.662848e+06</td>\n",
       "      <td>3.833558e+06</td>\n",
       "      <td>3</td>\n",
       "      <td>1000100211002002</td>\n",
       "    </tr>\n",
       "    <tr>\n",
       "      <th>4</th>\n",
       "      <td>1000100211002</td>\n",
       "      <td>-9.662436e+06</td>\n",
       "      <td>3.833098e+06</td>\n",
       "      <td>4</td>\n",
       "      <td>1000100211002002</td>\n",
       "    </tr>\n",
       "    <tr>\n",
       "      <th>...</th>\n",
       "      <td>...</td>\n",
       "      <td>...</td>\n",
       "      <td>...</td>\n",
       "      <td>...</td>\n",
       "      <td>...</td>\n",
       "    </tr>\n",
       "    <tr>\n",
       "      <th>308745533</th>\n",
       "      <td>56004509511002</td>\n",
       "      <td>-1.162458e+07</td>\n",
       "      <td>5.461661e+06</td>\n",
       "      <td>308745533</td>\n",
       "      <td>56004509511002304</td>\n",
       "    </tr>\n",
       "    <tr>\n",
       "      <th>308745534</th>\n",
       "      <td>56004509511002</td>\n",
       "      <td>-1.162415e+07</td>\n",
       "      <td>5.461604e+06</td>\n",
       "      <td>308745534</td>\n",
       "      <td>56004509511002304</td>\n",
       "    </tr>\n",
       "    <tr>\n",
       "      <th>308745535</th>\n",
       "      <td>56004509511002</td>\n",
       "      <td>-1.162405e+07</td>\n",
       "      <td>5.461376e+06</td>\n",
       "      <td>308745535</td>\n",
       "      <td>56004509511002304</td>\n",
       "    </tr>\n",
       "    <tr>\n",
       "      <th>308745536</th>\n",
       "      <td>56004509511002</td>\n",
       "      <td>-1.162429e+07</td>\n",
       "      <td>5.461773e+06</td>\n",
       "      <td>308745536</td>\n",
       "      <td>56004509511002304</td>\n",
       "    </tr>\n",
       "    <tr>\n",
       "      <th>308745537</th>\n",
       "      <td>56004509511002</td>\n",
       "      <td>-1.162420e+07</td>\n",
       "      <td>5.461390e+06</td>\n",
       "      <td>308745537</td>\n",
       "      <td>56004509511002304</td>\n",
       "    </tr>\n",
       "  </tbody>\n",
       "</table>\n",
       "<p>308745538 rows × 5 columns</p>\n",
       "</div>"
      ],
      "text/plain": [
       "                  GISJOIN             x             y       p_id  \\\n",
       "0           1000100211002 -9.662807e+06  3.831871e+06          0   \n",
       "1           1000100211002 -9.663283e+06  3.832983e+06          1   \n",
       "2           1000100211002 -9.663042e+06  3.832885e+06          2   \n",
       "3           1000100211002 -9.662848e+06  3.833558e+06          3   \n",
       "4           1000100211002 -9.662436e+06  3.833098e+06          4   \n",
       "...                   ...           ...           ...        ...   \n",
       "308745533  56004509511002 -1.162458e+07  5.461661e+06  308745533   \n",
       "308745534  56004509511002 -1.162415e+07  5.461604e+06  308745534   \n",
       "308745535  56004509511002 -1.162405e+07  5.461376e+06  308745535   \n",
       "308745536  56004509511002 -1.162429e+07  5.461773e+06  308745536   \n",
       "308745537  56004509511002 -1.162420e+07  5.461390e+06  308745537   \n",
       "\n",
       "                  GISJOIN_og  \n",
       "0           1000100211002002  \n",
       "1           1000100211002002  \n",
       "2           1000100211002002  \n",
       "3           1000100211002002  \n",
       "4           1000100211002002  \n",
       "...                      ...  \n",
       "308745533  56004509511002304  \n",
       "308745534  56004509511002304  \n",
       "308745535  56004509511002304  \n",
       "308745536  56004509511002304  \n",
       "308745537  56004509511002304  \n",
       "\n",
       "[308745538 rows x 5 columns]"
      ]
     },
     "execution_count": 4,
     "metadata": {},
     "output_type": "execute_result"
    }
   ],
   "source": [
    "df"
   ]
  },
  {
   "cell_type": "markdown",
   "metadata": {},
   "source": [
    "## Adding gender block wise"
   ]
  },
  {
   "cell_type": "code",
   "execution_count": 5,
   "metadata": {},
   "outputs": [],
   "source": [
    "df_cat = cudf.read_csv('/home/ajay/data/census/all_states_block_group/nhgis0016_csv/nhgis0016_ds176_20105_2010_blck_grp.csv')\n",
    "\n",
    "df_cat.STATEA = df_cat.STATEA.astype('int')\n",
    "df_cat = df_cat.query('STATEA != 72')\n",
    "\n",
    "df_cat.GISJOIN = df_cat.GISJOIN.str.replace('G', '').astype('int')\n",
    "\n",
    "# sex_by_age_cols = ['JLZE001','JLZE002','JLZE003','JLZE004','JLZE005','JLZE006','JLZE007','JLZE008','JLZE009','JLZE010','JLZE011','JLZE012','JLZE013','JLZE014','JLZE015','JLZE016','JLZE017','JLZE018','JLZE019','JLZE020','JLZE021','JLZE022','JLZE023','JLZE024','JLZE025','JLZE026','JLZE027','JLZE028','JLZE029','JLZE030','JLZE031','JLZE032','JLZE033','JLZE034','JLZE035','JLZE036','JLZE037','JLZE038','JLZE039','JLZE040','JLZE041','JLZE042','JLZE043','JLZE044','JLZE045','JLZE046','JLZE047','JLZE048','JLZE049']\n",
    "sex_by_age_cols = ['JLZE001', 'JLZE002', 'JLZE026']\n",
    "df_cat = df_cat[['GISJOIN']+sex_by_age_cols]\n",
    "\n",
    "for i in df_cat.columns:\n",
    "    if i != 'GISJOIN':\n",
    "        df_cat[i] = df_cat[i].astype('int32')"
   ]
  },
  {
   "cell_type": "code",
   "execution_count": 6,
   "metadata": {},
   "outputs": [
    {
     "data": {
      "text/plain": [
       "0        1125\n",
       "800       197\n",
       "1000      197\n",
       "1135      196\n",
       "931       193\n",
       "         ... \n",
       "18137       1\n",
       "19974       1\n",
       "22129       1\n",
       "28320       1\n",
       "39248       1\n",
       "Name: JLZE001, Length: 5387, dtype: int32"
      ]
     },
     "execution_count": 6,
     "metadata": {},
     "output_type": "execute_result"
    }
   ],
   "source": [
    "df_cat.JLZE001.value_counts()"
   ]
  },
  {
   "cell_type": "code",
   "execution_count": 7,
   "metadata": {},
   "outputs": [
    {
     "data": {
      "text/plain": [
       "0        1125\n",
       "800       197\n",
       "1000      197\n",
       "1135      196\n",
       "931       193\n",
       "         ... \n",
       "18137       1\n",
       "19974       1\n",
       "22129       1\n",
       "28320       1\n",
       "39248       1\n",
       "Name: JLZE001, Length: 5387, dtype: int32"
      ]
     },
     "execution_count": 7,
     "metadata": {},
     "output_type": "execute_result"
    }
   ],
   "source": [
    "df_cat.JLZE001.value_counts()"
   ]
  },
  {
   "cell_type": "code",
   "execution_count": 8,
   "metadata": {},
   "outputs": [],
   "source": [
    "df_cat.JLZE002 = df_cat.JLZE002/df_cat.JLZE001\n",
    "df_cat.JLZE026 = df_cat.JLZE026/df_cat.JLZE001"
   ]
  },
  {
   "cell_type": "code",
   "execution_count": 9,
   "metadata": {},
   "outputs": [],
   "source": [
    "df_cat = df_cat.nans_to_nulls()"
   ]
  },
  {
   "cell_type": "code",
   "execution_count": 10,
   "metadata": {},
   "outputs": [],
   "source": [
    "df_cat = df_cat.fillna(0)"
   ]
  },
  {
   "cell_type": "code",
   "execution_count": 11,
   "metadata": {},
   "outputs": [],
   "source": [
    "df_cat.JLZE002 = df_cat.JLZE002.fillna(0)\n",
    "df_cat.JLZE026 = df_cat.JLZE026.fillna(0)"
   ]
  },
  {
   "cell_type": "code",
   "execution_count": 12,
   "metadata": {},
   "outputs": [
    {
     "data": {
      "text/plain": [
       "0         0.000000\n",
       "1         0.000826\n",
       "2         0.000840\n",
       "3         0.000842\n",
       "4         0.000866\n",
       "            ...   \n",
       "132301    0.983698\n",
       "132302    0.985891\n",
       "132303    0.998169\n",
       "132304    0.998315\n",
       "132305    1.000000\n",
       "Name: JLZE026, Length: 132306, dtype: float64"
      ]
     },
     "execution_count": 12,
     "metadata": {},
     "output_type": "execute_result"
    }
   ],
   "source": [
    "df_cat.JLZE026.unique()"
   ]
  },
  {
   "cell_type": "code",
   "execution_count": 13,
   "metadata": {},
   "outputs": [
    {
     "data": {
      "text/plain": [
       "0         0.000000\n",
       "1         0.001685\n",
       "2         0.001831\n",
       "3         0.014109\n",
       "4         0.016302\n",
       "            ...   \n",
       "132301    0.999134\n",
       "132302    0.999158\n",
       "132303    0.999160\n",
       "132304    0.999174\n",
       "132305    1.000000\n",
       "Name: JLZE002, Length: 132306, dtype: float64"
      ]
     },
     "execution_count": 13,
     "metadata": {},
     "output_type": "execute_result"
    }
   ],
   "source": [
    "df_cat.JLZE002.unique()"
   ]
  },
  {
   "cell_type": "code",
   "execution_count": 14,
   "metadata": {},
   "outputs": [
    {
     "data": {
      "text/html": [
       "<div>\n",
       "<style scoped>\n",
       "    .dataframe tbody tr th:only-of-type {\n",
       "        vertical-align: middle;\n",
       "    }\n",
       "\n",
       "    .dataframe tbody tr th {\n",
       "        vertical-align: top;\n",
       "    }\n",
       "\n",
       "    .dataframe thead th {\n",
       "        text-align: right;\n",
       "    }\n",
       "</style>\n",
       "<table border=\"1\" class=\"dataframe\">\n",
       "  <thead>\n",
       "    <tr style=\"text-align: right;\">\n",
       "      <th></th>\n",
       "      <th>GISJOIN</th>\n",
       "      <th>JLZE002</th>\n",
       "      <th>JLZE026</th>\n",
       "    </tr>\n",
       "  </thead>\n",
       "  <tbody>\n",
       "    <tr>\n",
       "      <th>0</th>\n",
       "      <td>1000100201001</td>\n",
       "      <td>0.427788</td>\n",
       "      <td>0.572212</td>\n",
       "    </tr>\n",
       "    <tr>\n",
       "      <th>1</th>\n",
       "      <td>1000100201002</td>\n",
       "      <td>0.526149</td>\n",
       "      <td>0.473851</td>\n",
       "    </tr>\n",
       "    <tr>\n",
       "      <th>2</th>\n",
       "      <td>1000100202001</td>\n",
       "      <td>0.393755</td>\n",
       "      <td>0.606245</td>\n",
       "    </tr>\n",
       "    <tr>\n",
       "      <th>3</th>\n",
       "      <td>1000100202002</td>\n",
       "      <td>0.516266</td>\n",
       "      <td>0.483734</td>\n",
       "    </tr>\n",
       "    <tr>\n",
       "      <th>4</th>\n",
       "      <td>1000100203001</td>\n",
       "      <td>0.431150</td>\n",
       "      <td>0.568850</td>\n",
       "    </tr>\n",
       "    <tr>\n",
       "      <th>...</th>\n",
       "      <td>...</td>\n",
       "      <td>...</td>\n",
       "      <td>...</td>\n",
       "    </tr>\n",
       "    <tr>\n",
       "      <th>217735</th>\n",
       "      <td>56004509511001</td>\n",
       "      <td>0.541538</td>\n",
       "      <td>0.458462</td>\n",
       "    </tr>\n",
       "    <tr>\n",
       "      <th>217736</th>\n",
       "      <td>56004509511002</td>\n",
       "      <td>0.576900</td>\n",
       "      <td>0.423100</td>\n",
       "    </tr>\n",
       "    <tr>\n",
       "      <th>217737</th>\n",
       "      <td>56004509513001</td>\n",
       "      <td>0.472464</td>\n",
       "      <td>0.527536</td>\n",
       "    </tr>\n",
       "    <tr>\n",
       "      <th>217738</th>\n",
       "      <td>56004509513002</td>\n",
       "      <td>0.456000</td>\n",
       "      <td>0.544000</td>\n",
       "    </tr>\n",
       "    <tr>\n",
       "      <th>217739</th>\n",
       "      <td>56004509513003</td>\n",
       "      <td>0.536510</td>\n",
       "      <td>0.463490</td>\n",
       "    </tr>\n",
       "  </tbody>\n",
       "</table>\n",
       "<p>217740 rows × 3 columns</p>\n",
       "</div>"
      ],
      "text/plain": [
       "               GISJOIN   JLZE002   JLZE026\n",
       "0        1000100201001  0.427788  0.572212\n",
       "1        1000100201002  0.526149  0.473851\n",
       "2        1000100202001  0.393755  0.606245\n",
       "3        1000100202002  0.516266  0.483734\n",
       "4        1000100203001  0.431150  0.568850\n",
       "...                ...       ...       ...\n",
       "217735  56004509511001  0.541538  0.458462\n",
       "217736  56004509511002  0.576900  0.423100\n",
       "217737  56004509513001  0.472464  0.527536\n",
       "217738  56004509513002  0.456000  0.544000\n",
       "217739  56004509513003  0.536510  0.463490\n",
       "\n",
       "[217740 rows x 3 columns]"
      ]
     },
     "execution_count": 14,
     "metadata": {},
     "output_type": "execute_result"
    }
   ],
   "source": [
    "df_cat.drop_column('JLZE001')\n",
    "df_cat"
   ]
  },
  {
   "cell_type": "code",
   "execution_count": 15,
   "metadata": {},
   "outputs": [],
   "source": [
    "temp = df.merge(df_cat, on='GISJOIN')"
   ]
  },
  {
   "cell_type": "code",
   "execution_count": 16,
   "metadata": {},
   "outputs": [],
   "source": [
    "del(df)\n",
    "del(df_cat)"
   ]
  },
  {
   "cell_type": "code",
   "execution_count": 17,
   "metadata": {},
   "outputs": [],
   "source": [
    "temp.drop_column('GISJOIN')"
   ]
  },
  {
   "cell_type": "code",
   "execution_count": 18,
   "metadata": {},
   "outputs": [
    {
     "data": {
      "text/html": [
       "<div>\n",
       "<style scoped>\n",
       "    .dataframe tbody tr th:only-of-type {\n",
       "        vertical-align: middle;\n",
       "    }\n",
       "\n",
       "    .dataframe tbody tr th {\n",
       "        vertical-align: top;\n",
       "    }\n",
       "\n",
       "    .dataframe thead th {\n",
       "        text-align: right;\n",
       "    }\n",
       "</style>\n",
       "<table border=\"1\" class=\"dataframe\">\n",
       "  <thead>\n",
       "    <tr style=\"text-align: right;\">\n",
       "      <th></th>\n",
       "      <th>x</th>\n",
       "      <th>y</th>\n",
       "      <th>p_id</th>\n",
       "      <th>GISJOIN</th>\n",
       "      <th>JLZE002</th>\n",
       "      <th>JLZE026</th>\n",
       "    </tr>\n",
       "  </thead>\n",
       "  <tbody>\n",
       "    <tr>\n",
       "      <th>0</th>\n",
       "      <td>-9.786339e+06</td>\n",
       "      <td>3.570557e+06</td>\n",
       "      <td>5248</td>\n",
       "      <td>1000300112024031</td>\n",
       "      <td>0.500792</td>\n",
       "      <td>0.499208</td>\n",
       "    </tr>\n",
       "    <tr>\n",
       "      <th>1</th>\n",
       "      <td>-9.786446e+06</td>\n",
       "      <td>3.570563e+06</td>\n",
       "      <td>5249</td>\n",
       "      <td>1000300112024031</td>\n",
       "      <td>0.500792</td>\n",
       "      <td>0.499208</td>\n",
       "    </tr>\n",
       "    <tr>\n",
       "      <th>2</th>\n",
       "      <td>-9.786273e+06</td>\n",
       "      <td>3.570724e+06</td>\n",
       "      <td>5250</td>\n",
       "      <td>1000300112024031</td>\n",
       "      <td>0.500792</td>\n",
       "      <td>0.499208</td>\n",
       "    </tr>\n",
       "    <tr>\n",
       "      <th>3</th>\n",
       "      <td>-9.786256e+06</td>\n",
       "      <td>3.570404e+06</td>\n",
       "      <td>5251</td>\n",
       "      <td>1000300112024031</td>\n",
       "      <td>0.500792</td>\n",
       "      <td>0.499208</td>\n",
       "    </tr>\n",
       "    <tr>\n",
       "      <th>4</th>\n",
       "      <td>-9.786152e+06</td>\n",
       "      <td>3.570634e+06</td>\n",
       "      <td>5252</td>\n",
       "      <td>1000300112024031</td>\n",
       "      <td>0.500792</td>\n",
       "      <td>0.499208</td>\n",
       "    </tr>\n",
       "    <tr>\n",
       "      <th>...</th>\n",
       "      <td>...</td>\n",
       "      <td>...</td>\n",
       "      <td>...</td>\n",
       "      <td>...</td>\n",
       "      <td>...</td>\n",
       "      <td>...</td>\n",
       "    </tr>\n",
       "    <tr>\n",
       "      <th>308745304</th>\n",
       "      <td>-1.201720e+07</td>\n",
       "      <td>5.467818e+06</td>\n",
       "      <td>308735867</td>\n",
       "      <td>56004300003013056</td>\n",
       "      <td>0.445183</td>\n",
       "      <td>0.554817</td>\n",
       "    </tr>\n",
       "    <tr>\n",
       "      <th>308745305</th>\n",
       "      <td>-1.201725e+07</td>\n",
       "      <td>5.467802e+06</td>\n",
       "      <td>308735868</td>\n",
       "      <td>56004300003013056</td>\n",
       "      <td>0.445183</td>\n",
       "      <td>0.554817</td>\n",
       "    </tr>\n",
       "    <tr>\n",
       "      <th>308745306</th>\n",
       "      <td>-1.201717e+07</td>\n",
       "      <td>5.467729e+06</td>\n",
       "      <td>308735869</td>\n",
       "      <td>56004300003013056</td>\n",
       "      <td>0.445183</td>\n",
       "      <td>0.554817</td>\n",
       "    </tr>\n",
       "    <tr>\n",
       "      <th>308745307</th>\n",
       "      <td>-1.201720e+07</td>\n",
       "      <td>5.467799e+06</td>\n",
       "      <td>308735870</td>\n",
       "      <td>56004300003013056</td>\n",
       "      <td>0.445183</td>\n",
       "      <td>0.554817</td>\n",
       "    </tr>\n",
       "    <tr>\n",
       "      <th>308745308</th>\n",
       "      <td>-1.201718e+07</td>\n",
       "      <td>5.467774e+06</td>\n",
       "      <td>308735871</td>\n",
       "      <td>56004300003013056</td>\n",
       "      <td>0.445183</td>\n",
       "      <td>0.554817</td>\n",
       "    </tr>\n",
       "  </tbody>\n",
       "</table>\n",
       "<p>308745309 rows × 6 columns</p>\n",
       "</div>"
      ],
      "text/plain": [
       "                      x             y       p_id            GISJOIN   JLZE002  \\\n",
       "0         -9.786339e+06  3.570557e+06       5248   1000300112024031  0.500792   \n",
       "1         -9.786446e+06  3.570563e+06       5249   1000300112024031  0.500792   \n",
       "2         -9.786273e+06  3.570724e+06       5250   1000300112024031  0.500792   \n",
       "3         -9.786256e+06  3.570404e+06       5251   1000300112024031  0.500792   \n",
       "4         -9.786152e+06  3.570634e+06       5252   1000300112024031  0.500792   \n",
       "...                 ...           ...        ...                ...       ...   \n",
       "308745304 -1.201720e+07  5.467818e+06  308735867  56004300003013056  0.445183   \n",
       "308745305 -1.201725e+07  5.467802e+06  308735868  56004300003013056  0.445183   \n",
       "308745306 -1.201717e+07  5.467729e+06  308735869  56004300003013056  0.445183   \n",
       "308745307 -1.201720e+07  5.467799e+06  308735870  56004300003013056  0.445183   \n",
       "308745308 -1.201718e+07  5.467774e+06  308735871  56004300003013056  0.445183   \n",
       "\n",
       "            JLZE026  \n",
       "0          0.499208  \n",
       "1          0.499208  \n",
       "2          0.499208  \n",
       "3          0.499208  \n",
       "4          0.499208  \n",
       "...             ...  \n",
       "308745304  0.554817  \n",
       "308745305  0.554817  \n",
       "308745306  0.554817  \n",
       "308745307  0.554817  \n",
       "308745308  0.554817  \n",
       "\n",
       "[308745309 rows x 6 columns]"
      ]
     },
     "execution_count": 18,
     "metadata": {},
     "output_type": "execute_result"
    }
   ],
   "source": [
    "# temp.index = temp.GISJOIN_og\n",
    "temp.rename({'GISJOIN_og':'GISJOIN'}, inplace=True)\n",
    "temp"
   ]
  },
  {
   "cell_type": "code",
   "execution_count": null,
   "metadata": {},
   "outputs": [
    {
     "name": "stderr",
     "output_type": "stream",
     "text": [
      "/home/ajay/anaconda3/envs/rapids_prod_0.12/lib/python3.6/site-packages/cudf/io/parquet.py:70: UserWarning: Using CPU via PyArrow to write Parquet dataset, this will be GPU accelerated in the future\n",
      "  \"Using CPU via PyArrow to write Parquet dataset, this will \"\n"
     ]
    }
   ],
   "source": [
    "temp.to_parquet('temp.parquet')"
   ]
  },
  {
   "cell_type": "code",
   "execution_count": null,
   "metadata": {},
   "outputs": [],
   "source": []
  }
 ],
 "metadata": {
  "kernelspec": {
   "display_name": "Python 3.6.7 64-bit ('rapids_prod_0.12': conda)",
   "language": "python",
   "name": "python36764bitrapidsprod012conda40a92cb94735449d893a5461b9607cc4"
  },
  "language_info": {
   "codemirror_mode": {
    "name": "ipython",
    "version": 3
   },
   "file_extension": ".py",
   "mimetype": "text/x-python",
   "name": "python",
   "nbconvert_exporter": "python",
   "pygments_lexer": "ipython3",
   "version": "3.6.7"
  }
 },
 "nbformat": 4,
 "nbformat_minor": 4
}
