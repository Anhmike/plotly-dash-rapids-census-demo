{
 "cells": [
  {
   "cell_type": "code",
   "execution_count": 1,
   "metadata": {},
   "outputs": [],
   "source": [
    "import cudf\n",
    "import pyarrow as pa\n",
    "import pandas as pd\n",
    "import numpy as np\n",
    "import cupy as cp"
   ]
  },
  {
   "cell_type": "code",
   "execution_count": 2,
   "metadata": {},
   "outputs": [
    {
     "name": "stderr",
     "output_type": "stream",
     "text": [
      "/home/ajay/anaconda3/envs/rapids_dev_latest/lib/python3.7/site-packages/fsspec/implementations/local.py:33: FutureWarning: The default value of auto_mkdir=True has been deprecated and will be changed to auto_mkdir=False by default in a future release.\n",
      "  FutureWarning,\n"
     ]
    }
   ],
   "source": [
    "temp = cudf.read_parquet('./temp.parquet/*')[['p_id','GISJOIN','JLZE002','JLZE026']]"
   ]
  },
  {
   "cell_type": "code",
   "execution_count": 3,
   "metadata": {},
   "outputs": [
    {
     "data": {
      "text/html": [
       "<div>\n",
       "<style scoped>\n",
       "    .dataframe tbody tr th:only-of-type {\n",
       "        vertical-align: middle;\n",
       "    }\n",
       "\n",
       "    .dataframe tbody tr th {\n",
       "        vertical-align: top;\n",
       "    }\n",
       "\n",
       "    .dataframe thead th {\n",
       "        text-align: right;\n",
       "    }\n",
       "</style>\n",
       "<table border=\"1\" class=\"dataframe\">\n",
       "  <thead>\n",
       "    <tr style=\"text-align: right;\">\n",
       "      <th></th>\n",
       "      <th>p_id</th>\n",
       "      <th>GISJOIN</th>\n",
       "      <th>JLZE002</th>\n",
       "      <th>JLZE026</th>\n",
       "    </tr>\n",
       "  </thead>\n",
       "  <tbody>\n",
       "    <tr>\n",
       "      <th>0</th>\n",
       "      <td>5280</td>\n",
       "      <td>1000300112024031</td>\n",
       "      <td>0.500792</td>\n",
       "      <td>0.499208</td>\n",
       "    </tr>\n",
       "    <tr>\n",
       "      <th>1</th>\n",
       "      <td>5281</td>\n",
       "      <td>1000300112024031</td>\n",
       "      <td>0.500792</td>\n",
       "      <td>0.499208</td>\n",
       "    </tr>\n",
       "    <tr>\n",
       "      <th>2</th>\n",
       "      <td>5282</td>\n",
       "      <td>1000300112024031</td>\n",
       "      <td>0.500792</td>\n",
       "      <td>0.499208</td>\n",
       "    </tr>\n",
       "    <tr>\n",
       "      <th>3</th>\n",
       "      <td>5283</td>\n",
       "      <td>1000300112024031</td>\n",
       "      <td>0.500792</td>\n",
       "      <td>0.499208</td>\n",
       "    </tr>\n",
       "    <tr>\n",
       "      <th>4</th>\n",
       "      <td>5284</td>\n",
       "      <td>1000300112024031</td>\n",
       "      <td>0.500792</td>\n",
       "      <td>0.499208</td>\n",
       "    </tr>\n",
       "    <tr>\n",
       "      <th>...</th>\n",
       "      <td>...</td>\n",
       "      <td>...</td>\n",
       "      <td>...</td>\n",
       "      <td>...</td>\n",
       "    </tr>\n",
       "    <tr>\n",
       "      <th>308745304</th>\n",
       "      <td>308735867</td>\n",
       "      <td>56004300003013056</td>\n",
       "      <td>0.445183</td>\n",
       "      <td>0.554817</td>\n",
       "    </tr>\n",
       "    <tr>\n",
       "      <th>308745305</th>\n",
       "      <td>308735868</td>\n",
       "      <td>56004300003013056</td>\n",
       "      <td>0.445183</td>\n",
       "      <td>0.554817</td>\n",
       "    </tr>\n",
       "    <tr>\n",
       "      <th>308745306</th>\n",
       "      <td>308735869</td>\n",
       "      <td>56004300003013056</td>\n",
       "      <td>0.445183</td>\n",
       "      <td>0.554817</td>\n",
       "    </tr>\n",
       "    <tr>\n",
       "      <th>308745307</th>\n",
       "      <td>308735870</td>\n",
       "      <td>56004300003013056</td>\n",
       "      <td>0.445183</td>\n",
       "      <td>0.554817</td>\n",
       "    </tr>\n",
       "    <tr>\n",
       "      <th>308745308</th>\n",
       "      <td>308735871</td>\n",
       "      <td>56004300003013056</td>\n",
       "      <td>0.445183</td>\n",
       "      <td>0.554817</td>\n",
       "    </tr>\n",
       "  </tbody>\n",
       "</table>\n",
       "<p>308745309 rows × 4 columns</p>\n",
       "</div>"
      ],
      "text/plain": [
       "                p_id            GISJOIN   JLZE002   JLZE026\n",
       "0               5280   1000300112024031  0.500792  0.499208\n",
       "1               5281   1000300112024031  0.500792  0.499208\n",
       "2               5282   1000300112024031  0.500792  0.499208\n",
       "3               5283   1000300112024031  0.500792  0.499208\n",
       "4               5284   1000300112024031  0.500792  0.499208\n",
       "...              ...                ...       ...       ...\n",
       "308745304  308735867  56004300003013056  0.445183  0.554817\n",
       "308745305  308735868  56004300003013056  0.445183  0.554817\n",
       "308745306  308735869  56004300003013056  0.445183  0.554817\n",
       "308745307  308735870  56004300003013056  0.445183  0.554817\n",
       "308745308  308735871  56004300003013056  0.445183  0.554817\n",
       "\n",
       "[308745309 rows x 4 columns]"
      ]
     },
     "execution_count": 3,
     "metadata": {},
     "output_type": "execute_result"
    }
   ],
   "source": [
    "temp"
   ]
  },
  {
   "cell_type": "code",
   "execution_count": 4,
   "metadata": {},
   "outputs": [],
   "source": [
    "temp1 = temp[['GISJOIN','JLZE002','JLZE026']].groupby(by='GISJOIN').mean()"
   ]
  },
  {
   "cell_type": "code",
   "execution_count": 5,
   "metadata": {},
   "outputs": [],
   "source": [
    "temp2 = temp[['GISJOIN','JLZE002','JLZE026']].groupby(by='GISJOIN').count()\n",
    "\n",
    "temp1.JLZE002 = temp1.JLZE002\n",
    "temp1.JLZE026 = temp1.JLZE026\n",
    "temp1 = temp1.nans_to_nulls()\n",
    "temp1 = temp1.fillna(0.5)"
   ]
  },
  {
   "cell_type": "code",
   "execution_count": 6,
   "metadata": {},
   "outputs": [],
   "source": [
    "del(temp)"
   ]
  },
  {
   "cell_type": "code",
   "execution_count": 7,
   "metadata": {},
   "outputs": [],
   "source": [
    "temp1['total_count'] = temp2.JLZE002"
   ]
  },
  {
   "cell_type": "code",
   "execution_count": 8,
   "metadata": {},
   "outputs": [],
   "source": [
    "del(temp2)"
   ]
  },
  {
   "cell_type": "code",
   "execution_count": 9,
   "metadata": {},
   "outputs": [],
   "source": [
    "temp1['Male'] = (temp1.JLZE002 * temp1.total_count).round().astype('int')"
   ]
  },
  {
   "cell_type": "code",
   "execution_count": 10,
   "metadata": {},
   "outputs": [],
   "source": [
    "temp1['Female'] = (temp1.total_count - temp1.Male).astype('int')"
   ]
  },
  {
   "cell_type": "code",
   "execution_count": 11,
   "metadata": {},
   "outputs": [
    {
     "data": {
      "text/html": [
       "<div>\n",
       "<style scoped>\n",
       "    .dataframe tbody tr th:only-of-type {\n",
       "        vertical-align: middle;\n",
       "    }\n",
       "\n",
       "    .dataframe tbody tr th {\n",
       "        vertical-align: top;\n",
       "    }\n",
       "\n",
       "    .dataframe thead th {\n",
       "        text-align: right;\n",
       "    }\n",
       "</style>\n",
       "<table border=\"1\" class=\"dataframe\">\n",
       "  <thead>\n",
       "    <tr style=\"text-align: right;\">\n",
       "      <th></th>\n",
       "      <th>JLZE002</th>\n",
       "      <th>JLZE026</th>\n",
       "      <th>total_count</th>\n",
       "      <th>Male</th>\n",
       "      <th>Female</th>\n",
       "    </tr>\n",
       "    <tr>\n",
       "      <th>GISJOIN</th>\n",
       "      <th></th>\n",
       "      <th></th>\n",
       "      <th></th>\n",
       "      <th></th>\n",
       "      <th></th>\n",
       "    </tr>\n",
       "  </thead>\n",
       "  <tbody>\n",
       "    <tr>\n",
       "      <th>1000100201001000</th>\n",
       "      <td>0.427788</td>\n",
       "      <td>0.572212</td>\n",
       "      <td>61</td>\n",
       "      <td>26</td>\n",
       "      <td>35</td>\n",
       "    </tr>\n",
       "    <tr>\n",
       "      <th>1000100201001003</th>\n",
       "      <td>0.427788</td>\n",
       "      <td>0.572212</td>\n",
       "      <td>75</td>\n",
       "      <td>32</td>\n",
       "      <td>43</td>\n",
       "    </tr>\n",
       "    <tr>\n",
       "      <th>1000100201001005</th>\n",
       "      <td>0.427788</td>\n",
       "      <td>0.572212</td>\n",
       "      <td>1</td>\n",
       "      <td>0</td>\n",
       "      <td>1</td>\n",
       "    </tr>\n",
       "    <tr>\n",
       "      <th>1000100201001007</th>\n",
       "      <td>0.427788</td>\n",
       "      <td>0.572212</td>\n",
       "      <td>23</td>\n",
       "      <td>10</td>\n",
       "      <td>13</td>\n",
       "    </tr>\n",
       "    <tr>\n",
       "      <th>1000100201001009</th>\n",
       "      <td>0.427788</td>\n",
       "      <td>0.572212</td>\n",
       "      <td>1</td>\n",
       "      <td>0</td>\n",
       "      <td>1</td>\n",
       "    </tr>\n",
       "    <tr>\n",
       "      <th>...</th>\n",
       "      <td>...</td>\n",
       "      <td>...</td>\n",
       "      <td>...</td>\n",
       "      <td>...</td>\n",
       "      <td>...</td>\n",
       "    </tr>\n",
       "    <tr>\n",
       "      <th>56004509513003096</th>\n",
       "      <td>0.536510</td>\n",
       "      <td>0.463490</td>\n",
       "      <td>12</td>\n",
       "      <td>6</td>\n",
       "      <td>6</td>\n",
       "    </tr>\n",
       "    <tr>\n",
       "      <th>56004509513003104</th>\n",
       "      <td>0.536510</td>\n",
       "      <td>0.463490</td>\n",
       "      <td>160</td>\n",
       "      <td>86</td>\n",
       "      <td>74</td>\n",
       "    </tr>\n",
       "    <tr>\n",
       "      <th>56004509513003112</th>\n",
       "      <td>0.536510</td>\n",
       "      <td>0.463490</td>\n",
       "      <td>3</td>\n",
       "      <td>2</td>\n",
       "      <td>1</td>\n",
       "    </tr>\n",
       "    <tr>\n",
       "      <th>56004509513003120</th>\n",
       "      <td>0.536510</td>\n",
       "      <td>0.463490</td>\n",
       "      <td>117</td>\n",
       "      <td>63</td>\n",
       "      <td>54</td>\n",
       "    </tr>\n",
       "    <tr>\n",
       "      <th>56004509513003128</th>\n",
       "      <td>0.536510</td>\n",
       "      <td>0.463490</td>\n",
       "      <td>15</td>\n",
       "      <td>8</td>\n",
       "      <td>7</td>\n",
       "    </tr>\n",
       "  </tbody>\n",
       "</table>\n",
       "<p>2805547 rows × 5 columns</p>\n",
       "</div>"
      ],
      "text/plain": [
       "                    JLZE002   JLZE026  total_count  Male  Female\n",
       "GISJOIN                                                         \n",
       "1000100201001000   0.427788  0.572212           61    26      35\n",
       "1000100201001003   0.427788  0.572212           75    32      43\n",
       "1000100201001005   0.427788  0.572212            1     0       1\n",
       "1000100201001007   0.427788  0.572212           23    10      13\n",
       "1000100201001009   0.427788  0.572212            1     0       1\n",
       "...                     ...       ...          ...   ...     ...\n",
       "56004509513003096  0.536510  0.463490           12     6       6\n",
       "56004509513003104  0.536510  0.463490          160    86      74\n",
       "56004509513003112  0.536510  0.463490            3     2       1\n",
       "56004509513003120  0.536510  0.463490          117    63      54\n",
       "56004509513003128  0.536510  0.463490           15     8       7\n",
       "\n",
       "[2805547 rows x 5 columns]"
      ]
     },
     "execution_count": 11,
     "metadata": {},
     "output_type": "execute_result"
    }
   ],
   "source": [
    "temp1"
   ]
  },
  {
   "cell_type": "code",
   "execution_count": 12,
   "metadata": {},
   "outputs": [
    {
     "data": {
      "text/plain": [
       "True"
      ]
     },
     "execution_count": 12,
     "metadata": {},
     "output_type": "execute_result"
    }
   ],
   "source": [
    "(temp1.Male.sum() + temp1.Female.sum()) == temp1.total_count.sum()"
   ]
  },
  {
   "cell_type": "code",
   "execution_count": 13,
   "metadata": {},
   "outputs": [],
   "source": [
    "temp1 = temp1.drop(['JLZE002', 'JLZE026', 'total_count'])"
   ]
  },
  {
   "cell_type": "code",
   "execution_count": 14,
   "metadata": {},
   "outputs": [
    {
     "data": {
      "text/html": [
       "<div>\n",
       "<style scoped>\n",
       "    .dataframe tbody tr th:only-of-type {\n",
       "        vertical-align: middle;\n",
       "    }\n",
       "\n",
       "    .dataframe tbody tr th {\n",
       "        vertical-align: top;\n",
       "    }\n",
       "\n",
       "    .dataframe thead th {\n",
       "        text-align: right;\n",
       "    }\n",
       "</style>\n",
       "<table border=\"1\" class=\"dataframe\">\n",
       "  <thead>\n",
       "    <tr style=\"text-align: right;\">\n",
       "      <th></th>\n",
       "      <th>Male</th>\n",
       "      <th>Female</th>\n",
       "    </tr>\n",
       "    <tr>\n",
       "      <th>GISJOIN</th>\n",
       "      <th></th>\n",
       "      <th></th>\n",
       "    </tr>\n",
       "  </thead>\n",
       "  <tbody>\n",
       "    <tr>\n",
       "      <th>1000100201001000</th>\n",
       "      <td>26</td>\n",
       "      <td>35</td>\n",
       "    </tr>\n",
       "    <tr>\n",
       "      <th>1000100201001003</th>\n",
       "      <td>32</td>\n",
       "      <td>43</td>\n",
       "    </tr>\n",
       "    <tr>\n",
       "      <th>1000100201001005</th>\n",
       "      <td>0</td>\n",
       "      <td>1</td>\n",
       "    </tr>\n",
       "    <tr>\n",
       "      <th>1000100201001007</th>\n",
       "      <td>10</td>\n",
       "      <td>13</td>\n",
       "    </tr>\n",
       "    <tr>\n",
       "      <th>1000100201001009</th>\n",
       "      <td>0</td>\n",
       "      <td>1</td>\n",
       "    </tr>\n",
       "    <tr>\n",
       "      <th>...</th>\n",
       "      <td>...</td>\n",
       "      <td>...</td>\n",
       "    </tr>\n",
       "    <tr>\n",
       "      <th>56004509513003096</th>\n",
       "      <td>6</td>\n",
       "      <td>6</td>\n",
       "    </tr>\n",
       "    <tr>\n",
       "      <th>56004509513003104</th>\n",
       "      <td>86</td>\n",
       "      <td>74</td>\n",
       "    </tr>\n",
       "    <tr>\n",
       "      <th>56004509513003112</th>\n",
       "      <td>2</td>\n",
       "      <td>1</td>\n",
       "    </tr>\n",
       "    <tr>\n",
       "      <th>56004509513003120</th>\n",
       "      <td>63</td>\n",
       "      <td>54</td>\n",
       "    </tr>\n",
       "    <tr>\n",
       "      <th>56004509513003128</th>\n",
       "      <td>8</td>\n",
       "      <td>7</td>\n",
       "    </tr>\n",
       "  </tbody>\n",
       "</table>\n",
       "<p>2805547 rows × 2 columns</p>\n",
       "</div>"
      ],
      "text/plain": [
       "                   Male  Female\n",
       "GISJOIN                        \n",
       "1000100201001000     26      35\n",
       "1000100201001003     32      43\n",
       "1000100201001005      0       1\n",
       "1000100201001007     10      13\n",
       "1000100201001009      0       1\n",
       "...                 ...     ...\n",
       "56004509513003096     6       6\n",
       "56004509513003104    86      74\n",
       "56004509513003112     2       1\n",
       "56004509513003120    63      54\n",
       "56004509513003128     8       7\n",
       "\n",
       "[2805547 rows x 2 columns]"
      ]
     },
     "execution_count": 14,
     "metadata": {},
     "output_type": "execute_result"
    }
   ],
   "source": [
    "temp1"
   ]
  },
  {
   "cell_type": "raw",
   "metadata": {},
   "source": [
    "Male - 0\n",
    "Female - 1"
   ]
  },
  {
   "cell_type": "code",
   "execution_count": 22,
   "metadata": {},
   "outputs": [],
   "source": [
    "df_males = cudf.DataFrame({\n",
    "    'GISJOIN': temp1.index.repeat(temp1.Male).values\n",
    "})\n",
    "df_males['sex'] = 0\n",
    "df_females = cudf.DataFrame({\n",
    "    'GISJOIN': temp1.index.repeat(temp1.Female).values\n",
    "})\n",
    "df_females['sex'] = 1"
   ]
  },
  {
   "cell_type": "code",
   "execution_count": 23,
   "metadata": {},
   "outputs": [],
   "source": [
    "df_final = cudf.concat([df_males, df_females]).reset_index()[['GISJOIN','sex']]\n",
    "del(df_males)\n",
    "del(temp1)\n",
    "del(df_females)"
   ]
  },
  {
   "cell_type": "code",
   "execution_count": 24,
   "metadata": {},
   "outputs": [
    {
     "data": {
      "text/html": [
       "<div>\n",
       "<style scoped>\n",
       "    .dataframe tbody tr th:only-of-type {\n",
       "        vertical-align: middle;\n",
       "    }\n",
       "\n",
       "    .dataframe tbody tr th {\n",
       "        vertical-align: top;\n",
       "    }\n",
       "\n",
       "    .dataframe thead th {\n",
       "        text-align: right;\n",
       "    }\n",
       "</style>\n",
       "<table border=\"1\" class=\"dataframe\">\n",
       "  <thead>\n",
       "    <tr style=\"text-align: right;\">\n",
       "      <th></th>\n",
       "      <th>GISJOIN</th>\n",
       "      <th>sex</th>\n",
       "    </tr>\n",
       "  </thead>\n",
       "  <tbody>\n",
       "    <tr>\n",
       "      <th>0</th>\n",
       "      <td>1000100201001000</td>\n",
       "      <td>0</td>\n",
       "    </tr>\n",
       "    <tr>\n",
       "      <th>1</th>\n",
       "      <td>1000100201001000</td>\n",
       "      <td>0</td>\n",
       "    </tr>\n",
       "    <tr>\n",
       "      <th>2</th>\n",
       "      <td>1000100201001000</td>\n",
       "      <td>0</td>\n",
       "    </tr>\n",
       "    <tr>\n",
       "      <th>3</th>\n",
       "      <td>1000100201001000</td>\n",
       "      <td>0</td>\n",
       "    </tr>\n",
       "    <tr>\n",
       "      <th>4</th>\n",
       "      <td>1000100201001000</td>\n",
       "      <td>0</td>\n",
       "    </tr>\n",
       "    <tr>\n",
       "      <th>...</th>\n",
       "      <td>...</td>\n",
       "      <td>...</td>\n",
       "    </tr>\n",
       "    <tr>\n",
       "      <th>308745304</th>\n",
       "      <td>56004509513003128</td>\n",
       "      <td>1</td>\n",
       "    </tr>\n",
       "    <tr>\n",
       "      <th>308745305</th>\n",
       "      <td>56004509513003128</td>\n",
       "      <td>1</td>\n",
       "    </tr>\n",
       "    <tr>\n",
       "      <th>308745306</th>\n",
       "      <td>56004509513003128</td>\n",
       "      <td>1</td>\n",
       "    </tr>\n",
       "    <tr>\n",
       "      <th>308745307</th>\n",
       "      <td>56004509513003128</td>\n",
       "      <td>1</td>\n",
       "    </tr>\n",
       "    <tr>\n",
       "      <th>308745308</th>\n",
       "      <td>56004509513003128</td>\n",
       "      <td>1</td>\n",
       "    </tr>\n",
       "  </tbody>\n",
       "</table>\n",
       "<p>308745309 rows × 2 columns</p>\n",
       "</div>"
      ],
      "text/plain": [
       "                     GISJOIN  sex\n",
       "0           1000100201001000    0\n",
       "1           1000100201001000    0\n",
       "2           1000100201001000    0\n",
       "3           1000100201001000    0\n",
       "4           1000100201001000    0\n",
       "...                      ...  ...\n",
       "308745304  56004509513003128    1\n",
       "308745305  56004509513003128    1\n",
       "308745306  56004509513003128    1\n",
       "308745307  56004509513003128    1\n",
       "308745308  56004509513003128    1\n",
       "\n",
       "[308745309 rows x 2 columns]"
      ]
     },
     "execution_count": 24,
     "metadata": {},
     "output_type": "execute_result"
    }
   ],
   "source": [
    "# df_final.index= df_final.GISJOIN\n",
    "# df_final.drop_column('GISJOIN')\n",
    "df_final"
   ]
  },
  {
   "cell_type": "code",
   "execution_count": 25,
   "metadata": {},
   "outputs": [],
   "source": [
    "df_final.to_parquet('temp2.parquet')"
   ]
  },
  {
   "cell_type": "markdown",
   "metadata": {},
   "source": [
    "### sort temp.parquet"
   ]
  },
  {
   "cell_type": "code",
   "execution_count": 2,
   "metadata": {},
   "outputs": [
    {
     "name": "stderr",
     "output_type": "stream",
     "text": [
      "/home/ajay/anaconda3/envs/rapids_dev_latest/lib/python3.7/site-packages/fsspec/implementations/local.py:33: FutureWarning: The default value of auto_mkdir=True has been deprecated and will be changed to auto_mkdir=False by default in a future release.\n",
      "  FutureWarning,\n"
     ]
    }
   ],
   "source": [
    "df = cudf.read_parquet('./temp.parquet/*')[['GISJOIN', 'x', 'y']]\n",
    "df = df.sort_values('GISJOIN')\n",
    "df.to_parquet('sorted_temp.parquet')"
   ]
  },
  {
   "cell_type": "code",
   "execution_count": 4,
   "metadata": {},
   "outputs": [],
   "source": [
    "df = cudf.read_parquet('./temp2.parquet')[['GISJOIN', 'sex']]\n",
    "df = df.sort_values('GISJOIN')\n",
    "df.to_parquet('sorted_temp2.parquet')"
   ]
  },
  {
   "cell_type": "markdown",
   "metadata": {},
   "source": [
    "### merge sex with lat-long table"
   ]
  },
  {
   "cell_type": "code",
   "execution_count": 1,
   "metadata": {},
   "outputs": [],
   "source": [
    "import cudf\n",
    "import pyarrow as pa\n",
    "import pandas as pd\n",
    "import numpy as np\n",
    "import cupy as cp"
   ]
  },
  {
   "cell_type": "code",
   "execution_count": 2,
   "metadata": {},
   "outputs": [
    {
     "name": "stderr",
     "output_type": "stream",
     "text": [
      "/home/ajay/anaconda3/envs/rapids_dev_latest/lib/python3.7/site-packages/fsspec/implementations/local.py:33: FutureWarning: The default value of auto_mkdir=True has been deprecated and will be changed to auto_mkdir=False by default in a future release.\n",
      "  FutureWarning,\n"
     ]
    }
   ],
   "source": [
    "df = cudf.read_parquet('./sorted_temp.parquet')"
   ]
  },
  {
   "cell_type": "code",
   "execution_count": 3,
   "metadata": {},
   "outputs": [
    {
     "data": {
      "text/html": [
       "<div>\n",
       "<style scoped>\n",
       "    .dataframe tbody tr th:only-of-type {\n",
       "        vertical-align: middle;\n",
       "    }\n",
       "\n",
       "    .dataframe tbody tr th {\n",
       "        vertical-align: top;\n",
       "    }\n",
       "\n",
       "    .dataframe thead th {\n",
       "        text-align: right;\n",
       "    }\n",
       "</style>\n",
       "<table border=\"1\" class=\"dataframe\">\n",
       "  <thead>\n",
       "    <tr style=\"text-align: right;\">\n",
       "      <th></th>\n",
       "      <th>GISJOIN</th>\n",
       "      <th>x</th>\n",
       "      <th>y</th>\n",
       "    </tr>\n",
       "  </thead>\n",
       "  <tbody>\n",
       "    <tr>\n",
       "      <th>0</th>\n",
       "      <td>1000100201001000</td>\n",
       "      <td>-86.480965</td>\n",
       "      <td>32.468025</td>\n",
       "    </tr>\n",
       "    <tr>\n",
       "      <th>1</th>\n",
       "      <td>1000100201001000</td>\n",
       "      <td>-86.484355</td>\n",
       "      <td>32.469958</td>\n",
       "    </tr>\n",
       "    <tr>\n",
       "      <th>2</th>\n",
       "      <td>1000100201001000</td>\n",
       "      <td>-86.476974</td>\n",
       "      <td>32.467935</td>\n",
       "    </tr>\n",
       "    <tr>\n",
       "      <th>3</th>\n",
       "      <td>1000100201001000</td>\n",
       "      <td>-86.483532</td>\n",
       "      <td>32.468555</td>\n",
       "    </tr>\n",
       "    <tr>\n",
       "      <th>4</th>\n",
       "      <td>1000100201001000</td>\n",
       "      <td>-86.479665</td>\n",
       "      <td>32.471680</td>\n",
       "    </tr>\n",
       "    <tr>\n",
       "      <th>...</th>\n",
       "      <td>...</td>\n",
       "      <td>...</td>\n",
       "      <td>...</td>\n",
       "    </tr>\n",
       "    <tr>\n",
       "      <th>95</th>\n",
       "      <td>1000100201001003</td>\n",
       "      <td>-86.492626</td>\n",
       "      <td>32.471707</td>\n",
       "    </tr>\n",
       "    <tr>\n",
       "      <th>96</th>\n",
       "      <td>1000100201001003</td>\n",
       "      <td>-86.480582</td>\n",
       "      <td>32.464173</td>\n",
       "    </tr>\n",
       "    <tr>\n",
       "      <th>97</th>\n",
       "      <td>1000100201001003</td>\n",
       "      <td>-86.488611</td>\n",
       "      <td>32.469550</td>\n",
       "    </tr>\n",
       "    <tr>\n",
       "      <th>98</th>\n",
       "      <td>1000100201001003</td>\n",
       "      <td>-86.489743</td>\n",
       "      <td>32.470649</td>\n",
       "    </tr>\n",
       "    <tr>\n",
       "      <th>99</th>\n",
       "      <td>1000100201001003</td>\n",
       "      <td>-86.492530</td>\n",
       "      <td>32.470479</td>\n",
       "    </tr>\n",
       "  </tbody>\n",
       "</table>\n",
       "<p>100 rows × 3 columns</p>\n",
       "</div>"
      ],
      "text/plain": [
       "             GISJOIN          x          y\n",
       "0   1000100201001000 -86.480965  32.468025\n",
       "1   1000100201001000 -86.484355  32.469958\n",
       "2   1000100201001000 -86.476974  32.467935\n",
       "3   1000100201001000 -86.483532  32.468555\n",
       "4   1000100201001000 -86.479665  32.471680\n",
       "..               ...        ...        ...\n",
       "95  1000100201001003 -86.492626  32.471707\n",
       "96  1000100201001003 -86.480582  32.464173\n",
       "97  1000100201001003 -86.488611  32.469550\n",
       "98  1000100201001003 -86.489743  32.470649\n",
       "99  1000100201001003 -86.492530  32.470479\n",
       "\n",
       "[100 rows x 3 columns]"
      ]
     },
     "execution_count": 3,
     "metadata": {},
     "output_type": "execute_result"
    }
   ],
   "source": [
    "df.head(100)"
   ]
  },
  {
   "cell_type": "code",
   "execution_count": 4,
   "metadata": {},
   "outputs": [],
   "source": [
    "df_with_sex = cudf.read_parquet('./sorted_temp2.parquet').reset_index().drop(['index'])"
   ]
  },
  {
   "cell_type": "code",
   "execution_count": 5,
   "metadata": {},
   "outputs": [
    {
     "data": {
      "text/html": [
       "<div>\n",
       "<style scoped>\n",
       "    .dataframe tbody tr th:only-of-type {\n",
       "        vertical-align: middle;\n",
       "    }\n",
       "\n",
       "    .dataframe tbody tr th {\n",
       "        vertical-align: top;\n",
       "    }\n",
       "\n",
       "    .dataframe thead th {\n",
       "        text-align: right;\n",
       "    }\n",
       "</style>\n",
       "<table border=\"1\" class=\"dataframe\">\n",
       "  <thead>\n",
       "    <tr style=\"text-align: right;\">\n",
       "      <th></th>\n",
       "      <th>GISJOIN</th>\n",
       "      <th>sex</th>\n",
       "    </tr>\n",
       "  </thead>\n",
       "  <tbody>\n",
       "    <tr>\n",
       "      <th>0</th>\n",
       "      <td>1000100201001000</td>\n",
       "      <td>0</td>\n",
       "    </tr>\n",
       "    <tr>\n",
       "      <th>1</th>\n",
       "      <td>1000100201001000</td>\n",
       "      <td>0</td>\n",
       "    </tr>\n",
       "    <tr>\n",
       "      <th>2</th>\n",
       "      <td>1000100201001000</td>\n",
       "      <td>0</td>\n",
       "    </tr>\n",
       "    <tr>\n",
       "      <th>3</th>\n",
       "      <td>1000100201001000</td>\n",
       "      <td>0</td>\n",
       "    </tr>\n",
       "    <tr>\n",
       "      <th>4</th>\n",
       "      <td>1000100201001000</td>\n",
       "      <td>0</td>\n",
       "    </tr>\n",
       "    <tr>\n",
       "      <th>...</th>\n",
       "      <td>...</td>\n",
       "      <td>...</td>\n",
       "    </tr>\n",
       "    <tr>\n",
       "      <th>95</th>\n",
       "      <td>1000100201001003</td>\n",
       "      <td>1</td>\n",
       "    </tr>\n",
       "    <tr>\n",
       "      <th>96</th>\n",
       "      <td>1000100201001003</td>\n",
       "      <td>1</td>\n",
       "    </tr>\n",
       "    <tr>\n",
       "      <th>97</th>\n",
       "      <td>1000100201001003</td>\n",
       "      <td>1</td>\n",
       "    </tr>\n",
       "    <tr>\n",
       "      <th>98</th>\n",
       "      <td>1000100201001003</td>\n",
       "      <td>1</td>\n",
       "    </tr>\n",
       "    <tr>\n",
       "      <th>99</th>\n",
       "      <td>1000100201001003</td>\n",
       "      <td>1</td>\n",
       "    </tr>\n",
       "  </tbody>\n",
       "</table>\n",
       "<p>100 rows × 2 columns</p>\n",
       "</div>"
      ],
      "text/plain": [
       "             GISJOIN  sex\n",
       "0   1000100201001000    0\n",
       "1   1000100201001000    0\n",
       "2   1000100201001000    0\n",
       "3   1000100201001000    0\n",
       "4   1000100201001000    0\n",
       "..               ...  ...\n",
       "95  1000100201001003    1\n",
       "96  1000100201001003    1\n",
       "97  1000100201001003    1\n",
       "98  1000100201001003    1\n",
       "99  1000100201001003    1\n",
       "\n",
       "[100 rows x 2 columns]"
      ]
     },
     "execution_count": 5,
     "metadata": {},
     "output_type": "execute_result"
    }
   ],
   "source": [
    "df_with_sex.head(100)"
   ]
  },
  {
   "cell_type": "code",
   "execution_count": 6,
   "metadata": {},
   "outputs": [],
   "source": [
    "df['GISJOIN1'] = df_with_sex.GISJOIN.values"
   ]
  },
  {
   "cell_type": "code",
   "execution_count": 7,
   "metadata": {},
   "outputs": [
    {
     "data": {
      "text/html": [
       "<div>\n",
       "<style scoped>\n",
       "    .dataframe tbody tr th:only-of-type {\n",
       "        vertical-align: middle;\n",
       "    }\n",
       "\n",
       "    .dataframe tbody tr th {\n",
       "        vertical-align: top;\n",
       "    }\n",
       "\n",
       "    .dataframe thead th {\n",
       "        text-align: right;\n",
       "    }\n",
       "</style>\n",
       "<table border=\"1\" class=\"dataframe\">\n",
       "  <thead>\n",
       "    <tr style=\"text-align: right;\">\n",
       "      <th></th>\n",
       "      <th>GISJOIN</th>\n",
       "      <th>x</th>\n",
       "      <th>y</th>\n",
       "      <th>GISJOIN1</th>\n",
       "    </tr>\n",
       "  </thead>\n",
       "  <tbody>\n",
       "  </tbody>\n",
       "</table>\n",
       "</div>"
      ],
      "text/plain": [
       "Empty DataFrame\n",
       "Columns: [GISJOIN, x, y, GISJOIN1]\n",
       "Index: []"
      ]
     },
     "execution_count": 7,
     "metadata": {},
     "output_type": "execute_result"
    }
   ],
   "source": [
    "df.query('GISJOIN != GISJOIN1')"
   ]
  },
  {
   "cell_type": "code",
   "execution_count": 8,
   "metadata": {},
   "outputs": [],
   "source": [
    "df['sex'] = df_with_sex.sex.astype('int8')"
   ]
  },
  {
   "cell_type": "code",
   "execution_count": 9,
   "metadata": {},
   "outputs": [],
   "source": [
    "df.drop_column('GISJOIN1')"
   ]
  },
  {
   "cell_type": "code",
   "execution_count": 10,
   "metadata": {},
   "outputs": [
    {
     "data": {
      "text/plain": [
       "GISJOIN      int64\n",
       "x          float64\n",
       "y          float64\n",
       "sex           int8\n",
       "dtype: object"
      ]
     },
     "execution_count": 10,
     "metadata": {},
     "output_type": "execute_result"
    }
   ],
   "source": [
    "df.dtypes"
   ]
  },
  {
   "cell_type": "code",
   "execution_count": 11,
   "metadata": {},
   "outputs": [
    {
     "data": {
      "text/html": [
       "<div>\n",
       "<style scoped>\n",
       "    .dataframe tbody tr th:only-of-type {\n",
       "        vertical-align: middle;\n",
       "    }\n",
       "\n",
       "    .dataframe tbody tr th {\n",
       "        vertical-align: top;\n",
       "    }\n",
       "\n",
       "    .dataframe thead th {\n",
       "        text-align: right;\n",
       "    }\n",
       "</style>\n",
       "<table border=\"1\" class=\"dataframe\">\n",
       "  <thead>\n",
       "    <tr style=\"text-align: right;\">\n",
       "      <th></th>\n",
       "      <th>GISJOIN</th>\n",
       "      <th>x</th>\n",
       "      <th>y</th>\n",
       "      <th>sex</th>\n",
       "    </tr>\n",
       "  </thead>\n",
       "  <tbody>\n",
       "    <tr>\n",
       "      <th>0</th>\n",
       "      <td>1000100201001000</td>\n",
       "      <td>-86.480965</td>\n",
       "      <td>32.468025</td>\n",
       "      <td>0</td>\n",
       "    </tr>\n",
       "    <tr>\n",
       "      <th>1</th>\n",
       "      <td>1000100201001000</td>\n",
       "      <td>-86.484355</td>\n",
       "      <td>32.469958</td>\n",
       "      <td>0</td>\n",
       "    </tr>\n",
       "    <tr>\n",
       "      <th>2</th>\n",
       "      <td>1000100201001000</td>\n",
       "      <td>-86.476974</td>\n",
       "      <td>32.467935</td>\n",
       "      <td>0</td>\n",
       "    </tr>\n",
       "    <tr>\n",
       "      <th>3</th>\n",
       "      <td>1000100201001000</td>\n",
       "      <td>-86.483532</td>\n",
       "      <td>32.468555</td>\n",
       "      <td>0</td>\n",
       "    </tr>\n",
       "    <tr>\n",
       "      <th>4</th>\n",
       "      <td>1000100201001000</td>\n",
       "      <td>-86.479665</td>\n",
       "      <td>32.471680</td>\n",
       "      <td>0</td>\n",
       "    </tr>\n",
       "    <tr>\n",
       "      <th>...</th>\n",
       "      <td>...</td>\n",
       "      <td>...</td>\n",
       "      <td>...</td>\n",
       "      <td>...</td>\n",
       "    </tr>\n",
       "    <tr>\n",
       "      <th>308745304</th>\n",
       "      <td>56004509513003128</td>\n",
       "      <td>-104.197455</td>\n",
       "      <td>43.845559</td>\n",
       "      <td>1</td>\n",
       "    </tr>\n",
       "    <tr>\n",
       "      <th>308745305</th>\n",
       "      <td>56004509513003128</td>\n",
       "      <td>-104.198425</td>\n",
       "      <td>43.845850</td>\n",
       "      <td>1</td>\n",
       "    </tr>\n",
       "    <tr>\n",
       "      <th>308745306</th>\n",
       "      <td>56004509513003128</td>\n",
       "      <td>-104.199305</td>\n",
       "      <td>43.846296</td>\n",
       "      <td>1</td>\n",
       "    </tr>\n",
       "    <tr>\n",
       "      <th>308745307</th>\n",
       "      <td>56004509513003128</td>\n",
       "      <td>-104.199264</td>\n",
       "      <td>43.846305</td>\n",
       "      <td>1</td>\n",
       "    </tr>\n",
       "    <tr>\n",
       "      <th>308745308</th>\n",
       "      <td>56004509513003128</td>\n",
       "      <td>-104.197958</td>\n",
       "      <td>43.845565</td>\n",
       "      <td>1</td>\n",
       "    </tr>\n",
       "  </tbody>\n",
       "</table>\n",
       "<p>308745309 rows × 4 columns</p>\n",
       "</div>"
      ],
      "text/plain": [
       "                     GISJOIN           x          y  sex\n",
       "0           1000100201001000  -86.480965  32.468025    0\n",
       "1           1000100201001000  -86.484355  32.469958    0\n",
       "2           1000100201001000  -86.476974  32.467935    0\n",
       "3           1000100201001000  -86.483532  32.468555    0\n",
       "4           1000100201001000  -86.479665  32.471680    0\n",
       "...                      ...         ...        ...  ...\n",
       "308745304  56004509513003128 -104.197455  43.845559    1\n",
       "308745305  56004509513003128 -104.198425  43.845850    1\n",
       "308745306  56004509513003128 -104.199305  43.846296    1\n",
       "308745307  56004509513003128 -104.199264  43.846305    1\n",
       "308745308  56004509513003128 -104.197958  43.845565    1\n",
       "\n",
       "[308745309 rows x 4 columns]"
      ]
     },
     "execution_count": 11,
     "metadata": {},
     "output_type": "execute_result"
    }
   ],
   "source": [
    "df"
   ]
  },
  {
   "cell_type": "code",
   "execution_count": 12,
   "metadata": {},
   "outputs": [],
   "source": [
    "df = df.sort_values('GISJOIN')"
   ]
  },
  {
   "cell_type": "code",
   "execution_count": 13,
   "metadata": {},
   "outputs": [],
   "source": [
    "del(df_with_sex)"
   ]
  },
  {
   "cell_type": "code",
   "execution_count": 14,
   "metadata": {},
   "outputs": [
    {
     "data": {
      "text/html": [
       "<div>\n",
       "<style scoped>\n",
       "    .dataframe tbody tr th:only-of-type {\n",
       "        vertical-align: middle;\n",
       "    }\n",
       "\n",
       "    .dataframe tbody tr th {\n",
       "        vertical-align: top;\n",
       "    }\n",
       "\n",
       "    .dataframe thead th {\n",
       "        text-align: right;\n",
       "    }\n",
       "</style>\n",
       "<table border=\"1\" class=\"dataframe\">\n",
       "  <thead>\n",
       "    <tr style=\"text-align: right;\">\n",
       "      <th></th>\n",
       "      <th>GISJOIN</th>\n",
       "      <th>x</th>\n",
       "      <th>y</th>\n",
       "      <th>sex</th>\n",
       "      <th>p_id</th>\n",
       "    </tr>\n",
       "  </thead>\n",
       "  <tbody>\n",
       "    <tr>\n",
       "      <th>0</th>\n",
       "      <td>1000100201001000</td>\n",
       "      <td>-86.480965</td>\n",
       "      <td>32.468025</td>\n",
       "      <td>0</td>\n",
       "      <td>0</td>\n",
       "    </tr>\n",
       "    <tr>\n",
       "      <th>1</th>\n",
       "      <td>1000100201001000</td>\n",
       "      <td>-86.484355</td>\n",
       "      <td>32.469958</td>\n",
       "      <td>0</td>\n",
       "      <td>1</td>\n",
       "    </tr>\n",
       "    <tr>\n",
       "      <th>2</th>\n",
       "      <td>1000100201001000</td>\n",
       "      <td>-86.476974</td>\n",
       "      <td>32.467935</td>\n",
       "      <td>0</td>\n",
       "      <td>2</td>\n",
       "    </tr>\n",
       "    <tr>\n",
       "      <th>3</th>\n",
       "      <td>1000100201001000</td>\n",
       "      <td>-86.483532</td>\n",
       "      <td>32.468555</td>\n",
       "      <td>0</td>\n",
       "      <td>3</td>\n",
       "    </tr>\n",
       "    <tr>\n",
       "      <th>4</th>\n",
       "      <td>1000100201001000</td>\n",
       "      <td>-86.479665</td>\n",
       "      <td>32.471680</td>\n",
       "      <td>0</td>\n",
       "      <td>4</td>\n",
       "    </tr>\n",
       "    <tr>\n",
       "      <th>...</th>\n",
       "      <td>...</td>\n",
       "      <td>...</td>\n",
       "      <td>...</td>\n",
       "      <td>...</td>\n",
       "      <td>...</td>\n",
       "    </tr>\n",
       "    <tr>\n",
       "      <th>308745304</th>\n",
       "      <td>56004509513003128</td>\n",
       "      <td>-104.197455</td>\n",
       "      <td>43.845559</td>\n",
       "      <td>1</td>\n",
       "      <td>308745304</td>\n",
       "    </tr>\n",
       "    <tr>\n",
       "      <th>308745305</th>\n",
       "      <td>56004509513003128</td>\n",
       "      <td>-104.198425</td>\n",
       "      <td>43.845850</td>\n",
       "      <td>1</td>\n",
       "      <td>308745305</td>\n",
       "    </tr>\n",
       "    <tr>\n",
       "      <th>308745306</th>\n",
       "      <td>56004509513003128</td>\n",
       "      <td>-104.199305</td>\n",
       "      <td>43.846296</td>\n",
       "      <td>1</td>\n",
       "      <td>308745306</td>\n",
       "    </tr>\n",
       "    <tr>\n",
       "      <th>308745307</th>\n",
       "      <td>56004509513003128</td>\n",
       "      <td>-104.199264</td>\n",
       "      <td>43.846305</td>\n",
       "      <td>1</td>\n",
       "      <td>308745307</td>\n",
       "    </tr>\n",
       "    <tr>\n",
       "      <th>308745308</th>\n",
       "      <td>56004509513003128</td>\n",
       "      <td>-104.197958</td>\n",
       "      <td>43.845565</td>\n",
       "      <td>1</td>\n",
       "      <td>308745308</td>\n",
       "    </tr>\n",
       "  </tbody>\n",
       "</table>\n",
       "<p>308745309 rows × 5 columns</p>\n",
       "</div>"
      ],
      "text/plain": [
       "                     GISJOIN           x          y  sex       p_id\n",
       "0           1000100201001000  -86.480965  32.468025    0          0\n",
       "1           1000100201001000  -86.484355  32.469958    0          1\n",
       "2           1000100201001000  -86.476974  32.467935    0          2\n",
       "3           1000100201001000  -86.483532  32.468555    0          3\n",
       "4           1000100201001000  -86.479665  32.471680    0          4\n",
       "...                      ...         ...        ...  ...        ...\n",
       "308745304  56004509513003128 -104.197455  43.845559    1  308745304\n",
       "308745305  56004509513003128 -104.198425  43.845850    1  308745305\n",
       "308745306  56004509513003128 -104.199305  43.846296    1  308745306\n",
       "308745307  56004509513003128 -104.199264  43.846305    1  308745307\n",
       "308745308  56004509513003128 -104.197958  43.845565    1  308745308\n",
       "\n",
       "[308745309 rows x 5 columns]"
      ]
     },
     "execution_count": 14,
     "metadata": {},
     "output_type": "execute_result"
    }
   ],
   "source": [
    "df"
   ]
  },
  {
   "cell_type": "code",
   "execution_count": 15,
   "metadata": {},
   "outputs": [],
   "source": [
    "df.to_parquet('../../data/all_states_us_lat_long_sex.parquet')"
   ]
  },
  {
   "cell_type": "markdown",
   "metadata": {},
   "source": [
    "### reset index"
   ]
  },
  {
   "cell_type": "code",
   "execution_count": 1,
   "metadata": {},
   "outputs": [
    {
     "name": "stderr",
     "output_type": "stream",
     "text": [
      "/home/ajay/anaconda3/envs/rapids_dev_latest/lib/python3.7/site-packages/fsspec/implementations/local.py:33: FutureWarning: The default value of auto_mkdir=True has been deprecated and will be changed to auto_mkdir=False by default in a future release.\n",
      "  FutureWarning,\n"
     ]
    }
   ],
   "source": [
    "import cudf\n",
    "\n",
    "df = cudf.read_parquet('../../data/all_states_us_lat_long_sex.parquet')\n",
    "\n",
    "df = df.reset_index()\n",
    "df.drop_column('index')\n",
    "df['p_id'] = df.index.astype('int32')"
   ]
  },
  {
   "cell_type": "code",
   "execution_count": 2,
   "metadata": {},
   "outputs": [],
   "source": [
    "df.to_parquet('../../data/all_states_us_lat_long_sex.parquet')"
   ]
  }
 ],
 "metadata": {
  "kernelspec": {
   "display_name": "Python 3",
   "language": "python",
   "name": "python3"
  },
  "language_info": {
   "codemirror_mode": {
    "name": "ipython",
    "version": 3
   },
   "file_extension": ".py",
   "mimetype": "text/x-python",
   "name": "python",
   "nbconvert_exporter": "python",
   "pygments_lexer": "ipython3",
   "version": "3.7.6"
  }
 },
 "nbformat": 4,
 "nbformat_minor": 4
}
