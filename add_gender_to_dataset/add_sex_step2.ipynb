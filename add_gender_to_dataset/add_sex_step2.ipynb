{
 "cells": [
  {
   "cell_type": "code",
   "execution_count": 1,
   "metadata": {},
   "outputs": [],
   "source": [
    "import cudf\n",
    "import pyarrow as pa\n",
    "import pandas as pd\n",
    "import numpy as np\n",
    "import cupy as cp"
   ]
  },
  {
   "cell_type": "code",
   "execution_count": null,
   "metadata": {},
   "outputs": [],
   "source": [
    "temp = cudf.read_parquet('./temp.parquet/*')[['GISJOIN','JLZE002','JLZE026']]"
   ]
  },
  {
   "cell_type": "code",
   "execution_count": 3,
   "metadata": {},
   "outputs": [
    {
     "data": {
      "text/html": [
       "<div>\n",
       "<style scoped>\n",
       "    .dataframe tbody tr th:only-of-type {\n",
       "        vertical-align: middle;\n",
       "    }\n",
       "\n",
       "    .dataframe tbody tr th {\n",
       "        vertical-align: top;\n",
       "    }\n",
       "\n",
       "    .dataframe thead th {\n",
       "        text-align: right;\n",
       "    }\n",
       "</style>\n",
       "<table border=\"1\" class=\"dataframe\">\n",
       "  <thead>\n",
       "    <tr style=\"text-align: right;\">\n",
       "      <th></th>\n",
       "      <th>GISJOIN</th>\n",
       "      <th>JLZE002</th>\n",
       "      <th>JLZE026</th>\n",
       "    </tr>\n",
       "  </thead>\n",
       "  <tbody>\n",
       "    <tr>\n",
       "      <th>0</th>\n",
       "      <td>1000300106002025</td>\n",
       "      <td>0.362652</td>\n",
       "      <td>0.637348</td>\n",
       "    </tr>\n",
       "    <tr>\n",
       "      <th>1</th>\n",
       "      <td>1000300106002025</td>\n",
       "      <td>0.362652</td>\n",
       "      <td>0.637348</td>\n",
       "    </tr>\n",
       "    <tr>\n",
       "      <th>2</th>\n",
       "      <td>1000300106002025</td>\n",
       "      <td>0.362652</td>\n",
       "      <td>0.637348</td>\n",
       "    </tr>\n",
       "    <tr>\n",
       "      <th>3</th>\n",
       "      <td>1000300106002025</td>\n",
       "      <td>0.362652</td>\n",
       "      <td>0.637348</td>\n",
       "    </tr>\n",
       "    <tr>\n",
       "      <th>4</th>\n",
       "      <td>1000300106002025</td>\n",
       "      <td>0.362652</td>\n",
       "      <td>0.637348</td>\n",
       "    </tr>\n",
       "    <tr>\n",
       "      <th>...</th>\n",
       "      <td>...</td>\n",
       "      <td>...</td>\n",
       "      <td>...</td>\n",
       "    </tr>\n",
       "    <tr>\n",
       "      <th>308745304</th>\n",
       "      <td>56004300003013056</td>\n",
       "      <td>0.445183</td>\n",
       "      <td>0.554817</td>\n",
       "    </tr>\n",
       "    <tr>\n",
       "      <th>308745305</th>\n",
       "      <td>56004300003013056</td>\n",
       "      <td>0.445183</td>\n",
       "      <td>0.554817</td>\n",
       "    </tr>\n",
       "    <tr>\n",
       "      <th>308745306</th>\n",
       "      <td>56004300003013056</td>\n",
       "      <td>0.445183</td>\n",
       "      <td>0.554817</td>\n",
       "    </tr>\n",
       "    <tr>\n",
       "      <th>308745307</th>\n",
       "      <td>56004300003013056</td>\n",
       "      <td>0.445183</td>\n",
       "      <td>0.554817</td>\n",
       "    </tr>\n",
       "    <tr>\n",
       "      <th>308745308</th>\n",
       "      <td>56004300003013056</td>\n",
       "      <td>0.445183</td>\n",
       "      <td>0.554817</td>\n",
       "    </tr>\n",
       "  </tbody>\n",
       "</table>\n",
       "<p>308745309 rows × 3 columns</p>\n",
       "</div>"
      ],
      "text/plain": [
       "                     GISJOIN   JLZE002   JLZE026\n",
       "0           1000300106002025  0.362652  0.637348\n",
       "1           1000300106002025  0.362652  0.637348\n",
       "2           1000300106002025  0.362652  0.637348\n",
       "3           1000300106002025  0.362652  0.637348\n",
       "4           1000300106002025  0.362652  0.637348\n",
       "...                      ...       ...       ...\n",
       "308745304  56004300003013056  0.445183  0.554817\n",
       "308745305  56004300003013056  0.445183  0.554817\n",
       "308745306  56004300003013056  0.445183  0.554817\n",
       "308745307  56004300003013056  0.445183  0.554817\n",
       "308745308  56004300003013056  0.445183  0.554817\n",
       "\n",
       "[308745309 rows x 3 columns]"
      ]
     },
     "execution_count": 3,
     "metadata": {},
     "output_type": "execute_result"
    }
   ],
   "source": [
    "temp"
   ]
  },
  {
   "cell_type": "code",
   "execution_count": 4,
   "metadata": {},
   "outputs": [],
   "source": [
    "temp1 = temp.groupby(by='GISJOIN').mean()\n",
    "temp2 = temp.groupby(by='GISJOIN').count()\n",
    "\n",
    "temp1.JLZE002 = temp1.JLZE002\n",
    "temp1.JLZE026 = temp1.JLZE026\n",
    "temp1 = temp1.nans_to_nulls()\n",
    "temp1 = temp1.fillna(0.5)"
   ]
  },
  {
   "cell_type": "code",
   "execution_count": 5,
   "metadata": {},
   "outputs": [],
   "source": [
    "del(temp)"
   ]
  },
  {
   "cell_type": "code",
   "execution_count": 6,
   "metadata": {},
   "outputs": [],
   "source": [
    "temp1['total_count'] = temp2.JLZE002"
   ]
  },
  {
   "cell_type": "code",
   "execution_count": 7,
   "metadata": {},
   "outputs": [],
   "source": [
    "del(temp2)"
   ]
  },
  {
   "cell_type": "code",
   "execution_count": 8,
   "metadata": {},
   "outputs": [],
   "source": [
    "temp1['Male'] = (temp1.JLZE002 * temp1.total_count).round().astype('int')"
   ]
  },
  {
   "cell_type": "code",
   "execution_count": 9,
   "metadata": {},
   "outputs": [],
   "source": [
    "temp1['Female'] = (temp1.total_count - temp1.Male).astype('int')"
   ]
  },
  {
   "cell_type": "code",
   "execution_count": 10,
   "metadata": {},
   "outputs": [
    {
     "data": {
      "text/html": [
       "<div>\n",
       "<style scoped>\n",
       "    .dataframe tbody tr th:only-of-type {\n",
       "        vertical-align: middle;\n",
       "    }\n",
       "\n",
       "    .dataframe tbody tr th {\n",
       "        vertical-align: top;\n",
       "    }\n",
       "\n",
       "    .dataframe thead th {\n",
       "        text-align: right;\n",
       "    }\n",
       "</style>\n",
       "<table border=\"1\" class=\"dataframe\">\n",
       "  <thead>\n",
       "    <tr style=\"text-align: right;\">\n",
       "      <th></th>\n",
       "      <th>JLZE002</th>\n",
       "      <th>JLZE026</th>\n",
       "      <th>total_count</th>\n",
       "      <th>Male</th>\n",
       "      <th>Female</th>\n",
       "    </tr>\n",
       "    <tr>\n",
       "      <th>GISJOIN</th>\n",
       "      <th></th>\n",
       "      <th></th>\n",
       "      <th></th>\n",
       "      <th></th>\n",
       "      <th></th>\n",
       "    </tr>\n",
       "  </thead>\n",
       "  <tbody>\n",
       "    <tr>\n",
       "      <th>1000100201001000</th>\n",
       "      <td>0.427788</td>\n",
       "      <td>0.572212</td>\n",
       "      <td>61</td>\n",
       "      <td>26</td>\n",
       "      <td>35</td>\n",
       "    </tr>\n",
       "    <tr>\n",
       "      <th>1000100201001003</th>\n",
       "      <td>0.427788</td>\n",
       "      <td>0.572212</td>\n",
       "      <td>75</td>\n",
       "      <td>32</td>\n",
       "      <td>43</td>\n",
       "    </tr>\n",
       "    <tr>\n",
       "      <th>1000100201001005</th>\n",
       "      <td>0.427788</td>\n",
       "      <td>0.572212</td>\n",
       "      <td>1</td>\n",
       "      <td>0</td>\n",
       "      <td>1</td>\n",
       "    </tr>\n",
       "    <tr>\n",
       "      <th>1000100201001007</th>\n",
       "      <td>0.427788</td>\n",
       "      <td>0.572212</td>\n",
       "      <td>23</td>\n",
       "      <td>10</td>\n",
       "      <td>13</td>\n",
       "    </tr>\n",
       "    <tr>\n",
       "      <th>1000100201001009</th>\n",
       "      <td>0.427788</td>\n",
       "      <td>0.572212</td>\n",
       "      <td>1</td>\n",
       "      <td>0</td>\n",
       "      <td>1</td>\n",
       "    </tr>\n",
       "    <tr>\n",
       "      <th>...</th>\n",
       "      <td>...</td>\n",
       "      <td>...</td>\n",
       "      <td>...</td>\n",
       "      <td>...</td>\n",
       "      <td>...</td>\n",
       "    </tr>\n",
       "    <tr>\n",
       "      <th>56004509513003096</th>\n",
       "      <td>0.536510</td>\n",
       "      <td>0.463490</td>\n",
       "      <td>12</td>\n",
       "      <td>6</td>\n",
       "      <td>6</td>\n",
       "    </tr>\n",
       "    <tr>\n",
       "      <th>56004509513003104</th>\n",
       "      <td>0.536510</td>\n",
       "      <td>0.463490</td>\n",
       "      <td>160</td>\n",
       "      <td>86</td>\n",
       "      <td>74</td>\n",
       "    </tr>\n",
       "    <tr>\n",
       "      <th>56004509513003112</th>\n",
       "      <td>0.536510</td>\n",
       "      <td>0.463490</td>\n",
       "      <td>3</td>\n",
       "      <td>2</td>\n",
       "      <td>1</td>\n",
       "    </tr>\n",
       "    <tr>\n",
       "      <th>56004509513003120</th>\n",
       "      <td>0.536510</td>\n",
       "      <td>0.463490</td>\n",
       "      <td>117</td>\n",
       "      <td>63</td>\n",
       "      <td>54</td>\n",
       "    </tr>\n",
       "    <tr>\n",
       "      <th>56004509513003128</th>\n",
       "      <td>0.536510</td>\n",
       "      <td>0.463490</td>\n",
       "      <td>15</td>\n",
       "      <td>8</td>\n",
       "      <td>7</td>\n",
       "    </tr>\n",
       "  </tbody>\n",
       "</table>\n",
       "<p>2805547 rows × 5 columns</p>\n",
       "</div>"
      ],
      "text/plain": [
       "                    JLZE002   JLZE026  total_count  Male  Female\n",
       "GISJOIN                                                         \n",
       "1000100201001000   0.427788  0.572212           61    26      35\n",
       "1000100201001003   0.427788  0.572212           75    32      43\n",
       "1000100201001005   0.427788  0.572212            1     0       1\n",
       "1000100201001007   0.427788  0.572212           23    10      13\n",
       "1000100201001009   0.427788  0.572212            1     0       1\n",
       "...                     ...       ...          ...   ...     ...\n",
       "56004509513003096  0.536510  0.463490           12     6       6\n",
       "56004509513003104  0.536510  0.463490          160    86      74\n",
       "56004509513003112  0.536510  0.463490            3     2       1\n",
       "56004509513003120  0.536510  0.463490          117    63      54\n",
       "56004509513003128  0.536510  0.463490           15     8       7\n",
       "\n",
       "[2805547 rows x 5 columns]"
      ]
     },
     "execution_count": 10,
     "metadata": {},
     "output_type": "execute_result"
    }
   ],
   "source": [
    "temp1"
   ]
  },
  {
   "cell_type": "code",
   "execution_count": 11,
   "metadata": {},
   "outputs": [
    {
     "data": {
      "text/plain": [
       "True"
      ]
     },
     "execution_count": 11,
     "metadata": {},
     "output_type": "execute_result"
    }
   ],
   "source": [
    "(temp1.Male.sum() + temp1.Female.sum()) == temp1.total_count.sum()"
   ]
  },
  {
   "cell_type": "code",
   "execution_count": 12,
   "metadata": {},
   "outputs": [],
   "source": [
    "temp1 = temp1.drop(['JLZE002', 'JLZE026', 'total_count'])"
   ]
  },
  {
   "cell_type": "code",
   "execution_count": 13,
   "metadata": {},
   "outputs": [
    {
     "data": {
      "text/html": [
       "<div>\n",
       "<style scoped>\n",
       "    .dataframe tbody tr th:only-of-type {\n",
       "        vertical-align: middle;\n",
       "    }\n",
       "\n",
       "    .dataframe tbody tr th {\n",
       "        vertical-align: top;\n",
       "    }\n",
       "\n",
       "    .dataframe thead th {\n",
       "        text-align: right;\n",
       "    }\n",
       "</style>\n",
       "<table border=\"1\" class=\"dataframe\">\n",
       "  <thead>\n",
       "    <tr style=\"text-align: right;\">\n",
       "      <th></th>\n",
       "      <th>Male</th>\n",
       "      <th>Female</th>\n",
       "    </tr>\n",
       "    <tr>\n",
       "      <th>GISJOIN</th>\n",
       "      <th></th>\n",
       "      <th></th>\n",
       "    </tr>\n",
       "  </thead>\n",
       "  <tbody>\n",
       "    <tr>\n",
       "      <th>1000100201001000</th>\n",
       "      <td>26</td>\n",
       "      <td>35</td>\n",
       "    </tr>\n",
       "    <tr>\n",
       "      <th>1000100201001003</th>\n",
       "      <td>32</td>\n",
       "      <td>43</td>\n",
       "    </tr>\n",
       "    <tr>\n",
       "      <th>1000100201001005</th>\n",
       "      <td>0</td>\n",
       "      <td>1</td>\n",
       "    </tr>\n",
       "    <tr>\n",
       "      <th>1000100201001007</th>\n",
       "      <td>10</td>\n",
       "      <td>13</td>\n",
       "    </tr>\n",
       "    <tr>\n",
       "      <th>1000100201001009</th>\n",
       "      <td>0</td>\n",
       "      <td>1</td>\n",
       "    </tr>\n",
       "    <tr>\n",
       "      <th>...</th>\n",
       "      <td>...</td>\n",
       "      <td>...</td>\n",
       "    </tr>\n",
       "    <tr>\n",
       "      <th>56004509513003096</th>\n",
       "      <td>6</td>\n",
       "      <td>6</td>\n",
       "    </tr>\n",
       "    <tr>\n",
       "      <th>56004509513003104</th>\n",
       "      <td>86</td>\n",
       "      <td>74</td>\n",
       "    </tr>\n",
       "    <tr>\n",
       "      <th>56004509513003112</th>\n",
       "      <td>2</td>\n",
       "      <td>1</td>\n",
       "    </tr>\n",
       "    <tr>\n",
       "      <th>56004509513003120</th>\n",
       "      <td>63</td>\n",
       "      <td>54</td>\n",
       "    </tr>\n",
       "    <tr>\n",
       "      <th>56004509513003128</th>\n",
       "      <td>8</td>\n",
       "      <td>7</td>\n",
       "    </tr>\n",
       "  </tbody>\n",
       "</table>\n",
       "<p>2805547 rows × 2 columns</p>\n",
       "</div>"
      ],
      "text/plain": [
       "                   Male  Female\n",
       "GISJOIN                        \n",
       "1000100201001000     26      35\n",
       "1000100201001003     32      43\n",
       "1000100201001005      0       1\n",
       "1000100201001007     10      13\n",
       "1000100201001009      0       1\n",
       "...                 ...     ...\n",
       "56004509513003096     6       6\n",
       "56004509513003104    86      74\n",
       "56004509513003112     2       1\n",
       "56004509513003120    63      54\n",
       "56004509513003128     8       7\n",
       "\n",
       "[2805547 rows x 2 columns]"
      ]
     },
     "execution_count": 13,
     "metadata": {},
     "output_type": "execute_result"
    }
   ],
   "source": [
    "temp1"
   ]
  },
  {
   "cell_type": "raw",
   "metadata": {},
   "source": [
    "Male - 0\n",
    "Female - 1"
   ]
  },
  {
   "cell_type": "code",
   "execution_count": 14,
   "metadata": {},
   "outputs": [],
   "source": [
    "df_males = cudf.DataFrame({\n",
    "    'GISJOIN': temp1.index.repeat(temp1.Male).as_column()\n",
    "})\n",
    "df_males['sex'] = 0\n",
    "df_females = cudf.DataFrame({\n",
    "    'GISJOIN': temp1.index.repeat(temp1.Female).as_column()\n",
    "})\n",
    "df_females['sex'] = 1"
   ]
  },
  {
   "cell_type": "code",
   "execution_count": 15,
   "metadata": {},
   "outputs": [],
   "source": [
    "df_final = cudf.concat([df_males, df_females]).reset_index()[['GISJOIN','sex']]\n",
    "del(df_males)\n",
    "del(temp1)\n",
    "del(df_females)"
   ]
  },
  {
   "cell_type": "code",
   "execution_count": 16,
   "metadata": {},
   "outputs": [
    {
     "data": {
      "text/html": [
       "<div>\n",
       "<style scoped>\n",
       "    .dataframe tbody tr th:only-of-type {\n",
       "        vertical-align: middle;\n",
       "    }\n",
       "\n",
       "    .dataframe tbody tr th {\n",
       "        vertical-align: top;\n",
       "    }\n",
       "\n",
       "    .dataframe thead th {\n",
       "        text-align: right;\n",
       "    }\n",
       "</style>\n",
       "<table border=\"1\" class=\"dataframe\">\n",
       "  <thead>\n",
       "    <tr style=\"text-align: right;\">\n",
       "      <th></th>\n",
       "      <th>GISJOIN</th>\n",
       "      <th>sex</th>\n",
       "    </tr>\n",
       "  </thead>\n",
       "  <tbody>\n",
       "    <tr>\n",
       "      <th>0</th>\n",
       "      <td>1000100201001000</td>\n",
       "      <td>0</td>\n",
       "    </tr>\n",
       "    <tr>\n",
       "      <th>1</th>\n",
       "      <td>1000100201001000</td>\n",
       "      <td>0</td>\n",
       "    </tr>\n",
       "    <tr>\n",
       "      <th>2</th>\n",
       "      <td>1000100201001000</td>\n",
       "      <td>0</td>\n",
       "    </tr>\n",
       "    <tr>\n",
       "      <th>3</th>\n",
       "      <td>1000100201001000</td>\n",
       "      <td>0</td>\n",
       "    </tr>\n",
       "    <tr>\n",
       "      <th>4</th>\n",
       "      <td>1000100201001000</td>\n",
       "      <td>0</td>\n",
       "    </tr>\n",
       "    <tr>\n",
       "      <th>...</th>\n",
       "      <td>...</td>\n",
       "      <td>...</td>\n",
       "    </tr>\n",
       "    <tr>\n",
       "      <th>308745304</th>\n",
       "      <td>56004509513003128</td>\n",
       "      <td>1</td>\n",
       "    </tr>\n",
       "    <tr>\n",
       "      <th>308745305</th>\n",
       "      <td>56004509513003128</td>\n",
       "      <td>1</td>\n",
       "    </tr>\n",
       "    <tr>\n",
       "      <th>308745306</th>\n",
       "      <td>56004509513003128</td>\n",
       "      <td>1</td>\n",
       "    </tr>\n",
       "    <tr>\n",
       "      <th>308745307</th>\n",
       "      <td>56004509513003128</td>\n",
       "      <td>1</td>\n",
       "    </tr>\n",
       "    <tr>\n",
       "      <th>308745308</th>\n",
       "      <td>56004509513003128</td>\n",
       "      <td>1</td>\n",
       "    </tr>\n",
       "  </tbody>\n",
       "</table>\n",
       "<p>308745309 rows × 2 columns</p>\n",
       "</div>"
      ],
      "text/plain": [
       "                     GISJOIN  sex\n",
       "0           1000100201001000    0\n",
       "1           1000100201001000    0\n",
       "2           1000100201001000    0\n",
       "3           1000100201001000    0\n",
       "4           1000100201001000    0\n",
       "...                      ...  ...\n",
       "308745304  56004509513003128    1\n",
       "308745305  56004509513003128    1\n",
       "308745306  56004509513003128    1\n",
       "308745307  56004509513003128    1\n",
       "308745308  56004509513003128    1\n",
       "\n",
       "[308745309 rows x 2 columns]"
      ]
     },
     "execution_count": 16,
     "metadata": {},
     "output_type": "execute_result"
    }
   ],
   "source": [
    "# df_final.index= df_final.GISJOIN\n",
    "# df_final.drop_column('GISJOIN')\n",
    "df_final"
   ]
  },
  {
   "cell_type": "code",
   "execution_count": 17,
   "metadata": {},
   "outputs": [
    {
     "name": "stderr",
     "output_type": "stream",
     "text": [
      "/home/ajay/anaconda3/envs/rapids_dev_0.12/lib/python3.6/site-packages/cudf/io/parquet.py:70: UserWarning: Using CPU via PyArrow to write Parquet dataset, this will be GPU accelerated in the future\n",
      "  \"Using CPU via PyArrow to write Parquet dataset, this will \"\n"
     ]
    }
   ],
   "source": [
    "df_final.to_parquet('temp2.parquet')"
   ]
  },
  {
   "cell_type": "markdown",
   "metadata": {},
   "source": [
    "### sort temp.parquet"
   ]
  },
  {
   "cell_type": "code",
   "execution_count": 3,
   "metadata": {},
   "outputs": [],
   "source": [
    "df = cudf.read_parquet('./temp.parquet/*')[['GISJOIN', 'x', 'y']]\n",
    "df = df.sort_values('GISJOIN')\n",
    "df.to_parquet('sorted_temp.parquet')"
   ]
  },
  {
   "cell_type": "code",
   "execution_count": 2,
   "metadata": {},
   "outputs": [
    {
     "name": "stderr",
     "output_type": "stream",
     "text": [
      "/home/ajay/anaconda3/envs/rapids_dev_0.12/lib/python3.6/site-packages/cudf/io/parquet.py:70: UserWarning: Using CPU via PyArrow to write Parquet dataset, this will be GPU accelerated in the future\n",
      "  \"Using CPU via PyArrow to write Parquet dataset, this will \"\n"
     ]
    }
   ],
   "source": [
    "df = cudf.read_parquet('./temp2.parquet/*')[['GISJOIN', 'sex']]\n",
    "df = df.sort_values('GISJOIN')\n",
    "df.to_parquet('sorted_temp2.parquet')"
   ]
  },
  {
   "cell_type": "markdown",
   "metadata": {},
   "source": [
    "### merge sex with lat-long table"
   ]
  },
  {
   "cell_type": "code",
   "execution_count": 1,
   "metadata": {},
   "outputs": [],
   "source": [
    "import cudf\n",
    "import pyarrow as pa\n",
    "import pandas as pd\n",
    "import numpy as np\n",
    "import cupy as cp"
   ]
  },
  {
   "cell_type": "code",
   "execution_count": 2,
   "metadata": {},
   "outputs": [],
   "source": [
    "df = cudf.read_parquet('./sorted_temp.parquet/*')"
   ]
  },
  {
   "cell_type": "code",
   "execution_count": 3,
   "metadata": {},
   "outputs": [
    {
     "data": {
      "text/html": [
       "<div>\n",
       "<style scoped>\n",
       "    .dataframe tbody tr th:only-of-type {\n",
       "        vertical-align: middle;\n",
       "    }\n",
       "\n",
       "    .dataframe tbody tr th {\n",
       "        vertical-align: top;\n",
       "    }\n",
       "\n",
       "    .dataframe thead th {\n",
       "        text-align: right;\n",
       "    }\n",
       "</style>\n",
       "<table border=\"1\" class=\"dataframe\">\n",
       "  <thead>\n",
       "    <tr style=\"text-align: right;\">\n",
       "      <th></th>\n",
       "      <th>GISJOIN</th>\n",
       "      <th>x</th>\n",
       "      <th>y</th>\n",
       "    </tr>\n",
       "  </thead>\n",
       "  <tbody>\n",
       "    <tr>\n",
       "      <th>900512</th>\n",
       "      <td>1000100201001000</td>\n",
       "      <td>-9.627034e+06</td>\n",
       "      <td>3.825003e+06</td>\n",
       "    </tr>\n",
       "    <tr>\n",
       "      <th>900513</th>\n",
       "      <td>1000100201001000</td>\n",
       "      <td>-9.626834e+06</td>\n",
       "      <td>3.825034e+06</td>\n",
       "    </tr>\n",
       "    <tr>\n",
       "      <th>900514</th>\n",
       "      <td>1000100201001000</td>\n",
       "      <td>-9.626683e+06</td>\n",
       "      <td>3.825079e+06</td>\n",
       "    </tr>\n",
       "    <tr>\n",
       "      <th>900515</th>\n",
       "      <td>1000100201001000</td>\n",
       "      <td>-9.627138e+06</td>\n",
       "      <td>3.825075e+06</td>\n",
       "    </tr>\n",
       "    <tr>\n",
       "      <th>900516</th>\n",
       "      <td>1000100201001000</td>\n",
       "      <td>-9.627112e+06</td>\n",
       "      <td>3.824731e+06</td>\n",
       "    </tr>\n",
       "    <tr>\n",
       "      <th>...</th>\n",
       "      <td>...</td>\n",
       "      <td>...</td>\n",
       "      <td>...</td>\n",
       "    </tr>\n",
       "    <tr>\n",
       "      <th>840098</th>\n",
       "      <td>1000100201001003</td>\n",
       "      <td>-9.626974e+06</td>\n",
       "      <td>3.824396e+06</td>\n",
       "    </tr>\n",
       "    <tr>\n",
       "      <th>840099</th>\n",
       "      <td>1000100201001003</td>\n",
       "      <td>-9.627868e+06</td>\n",
       "      <td>3.825105e+06</td>\n",
       "    </tr>\n",
       "    <tr>\n",
       "      <th>840100</th>\n",
       "      <td>1000100201001003</td>\n",
       "      <td>-9.627994e+06</td>\n",
       "      <td>3.825250e+06</td>\n",
       "    </tr>\n",
       "    <tr>\n",
       "      <th>840101</th>\n",
       "      <td>1000100201001003</td>\n",
       "      <td>-9.628304e+06</td>\n",
       "      <td>3.825228e+06</td>\n",
       "    </tr>\n",
       "    <tr>\n",
       "      <th>840102</th>\n",
       "      <td>1000100201001003</td>\n",
       "      <td>-9.626804e+06</td>\n",
       "      <td>3.824326e+06</td>\n",
       "    </tr>\n",
       "  </tbody>\n",
       "</table>\n",
       "<p>100 rows × 3 columns</p>\n",
       "</div>"
      ],
      "text/plain": [
       "                 GISJOIN             x             y\n",
       "900512  1000100201001000 -9.627034e+06  3.825003e+06\n",
       "900513  1000100201001000 -9.626834e+06  3.825034e+06\n",
       "900514  1000100201001000 -9.626683e+06  3.825079e+06\n",
       "900515  1000100201001000 -9.627138e+06  3.825075e+06\n",
       "900516  1000100201001000 -9.627112e+06  3.824731e+06\n",
       "...                  ...           ...           ...\n",
       "840098  1000100201001003 -9.626974e+06  3.824396e+06\n",
       "840099  1000100201001003 -9.627868e+06  3.825105e+06\n",
       "840100  1000100201001003 -9.627994e+06  3.825250e+06\n",
       "840101  1000100201001003 -9.628304e+06  3.825228e+06\n",
       "840102  1000100201001003 -9.626804e+06  3.824326e+06\n",
       "\n",
       "[100 rows x 3 columns]"
      ]
     },
     "execution_count": 3,
     "metadata": {},
     "output_type": "execute_result"
    }
   ],
   "source": [
    "df.head(100)"
   ]
  },
  {
   "cell_type": "code",
   "execution_count": 4,
   "metadata": {},
   "outputs": [],
   "source": [
    "df_with_sex = cudf.read_parquet('./sorted_temp2.parquet/*').reset_index().drop(['index'])"
   ]
  },
  {
   "cell_type": "code",
   "execution_count": 5,
   "metadata": {},
   "outputs": [
    {
     "data": {
      "text/html": [
       "<div>\n",
       "<style scoped>\n",
       "    .dataframe tbody tr th:only-of-type {\n",
       "        vertical-align: middle;\n",
       "    }\n",
       "\n",
       "    .dataframe tbody tr th {\n",
       "        vertical-align: top;\n",
       "    }\n",
       "\n",
       "    .dataframe thead th {\n",
       "        text-align: right;\n",
       "    }\n",
       "</style>\n",
       "<table border=\"1\" class=\"dataframe\">\n",
       "  <thead>\n",
       "    <tr style=\"text-align: right;\">\n",
       "      <th></th>\n",
       "      <th>GISJOIN</th>\n",
       "      <th>sex</th>\n",
       "    </tr>\n",
       "  </thead>\n",
       "  <tbody>\n",
       "    <tr>\n",
       "      <th>0</th>\n",
       "      <td>1000100201001000</td>\n",
       "      <td>0</td>\n",
       "    </tr>\n",
       "    <tr>\n",
       "      <th>1</th>\n",
       "      <td>1000100201001000</td>\n",
       "      <td>0</td>\n",
       "    </tr>\n",
       "    <tr>\n",
       "      <th>2</th>\n",
       "      <td>1000100201001000</td>\n",
       "      <td>0</td>\n",
       "    </tr>\n",
       "    <tr>\n",
       "      <th>3</th>\n",
       "      <td>1000100201001000</td>\n",
       "      <td>0</td>\n",
       "    </tr>\n",
       "    <tr>\n",
       "      <th>4</th>\n",
       "      <td>1000100201001000</td>\n",
       "      <td>0</td>\n",
       "    </tr>\n",
       "    <tr>\n",
       "      <th>...</th>\n",
       "      <td>...</td>\n",
       "      <td>...</td>\n",
       "    </tr>\n",
       "    <tr>\n",
       "      <th>95</th>\n",
       "      <td>1000100201001003</td>\n",
       "      <td>1</td>\n",
       "    </tr>\n",
       "    <tr>\n",
       "      <th>96</th>\n",
       "      <td>1000100201001003</td>\n",
       "      <td>1</td>\n",
       "    </tr>\n",
       "    <tr>\n",
       "      <th>97</th>\n",
       "      <td>1000100201001003</td>\n",
       "      <td>1</td>\n",
       "    </tr>\n",
       "    <tr>\n",
       "      <th>98</th>\n",
       "      <td>1000100201001003</td>\n",
       "      <td>1</td>\n",
       "    </tr>\n",
       "    <tr>\n",
       "      <th>99</th>\n",
       "      <td>1000100201001003</td>\n",
       "      <td>1</td>\n",
       "    </tr>\n",
       "  </tbody>\n",
       "</table>\n",
       "<p>100 rows × 2 columns</p>\n",
       "</div>"
      ],
      "text/plain": [
       "             GISJOIN  sex\n",
       "0   1000100201001000    0\n",
       "1   1000100201001000    0\n",
       "2   1000100201001000    0\n",
       "3   1000100201001000    0\n",
       "4   1000100201001000    0\n",
       "..               ...  ...\n",
       "95  1000100201001003    1\n",
       "96  1000100201001003    1\n",
       "97  1000100201001003    1\n",
       "98  1000100201001003    1\n",
       "99  1000100201001003    1\n",
       "\n",
       "[100 rows x 2 columns]"
      ]
     },
     "execution_count": 5,
     "metadata": {},
     "output_type": "execute_result"
    }
   ],
   "source": [
    "df_with_sex.head(100)"
   ]
  },
  {
   "cell_type": "code",
   "execution_count": 6,
   "metadata": {},
   "outputs": [],
   "source": [
    "df['GISJOIN1'] = df_with_sex.GISJOIN.values"
   ]
  },
  {
   "cell_type": "code",
   "execution_count": 8,
   "metadata": {},
   "outputs": [
    {
     "data": {
      "text/html": [
       "<div>\n",
       "<style scoped>\n",
       "    .dataframe tbody tr th:only-of-type {\n",
       "        vertical-align: middle;\n",
       "    }\n",
       "\n",
       "    .dataframe tbody tr th {\n",
       "        vertical-align: top;\n",
       "    }\n",
       "\n",
       "    .dataframe thead th {\n",
       "        text-align: right;\n",
       "    }\n",
       "</style>\n",
       "<table border=\"1\" class=\"dataframe\">\n",
       "  <thead>\n",
       "    <tr style=\"text-align: right;\">\n",
       "      <th></th>\n",
       "      <th>GISJOIN</th>\n",
       "      <th>x</th>\n",
       "      <th>y</th>\n",
       "      <th>GISJOIN1</th>\n",
       "    </tr>\n",
       "  </thead>\n",
       "  <tbody>\n",
       "  </tbody>\n",
       "</table>\n",
       "</div>"
      ],
      "text/plain": [
       "Empty DataFrame\n",
       "Columns: [GISJOIN, x, y, GISJOIN1]\n",
       "Index: []"
      ]
     },
     "execution_count": 8,
     "metadata": {},
     "output_type": "execute_result"
    }
   ],
   "source": [
    "df.query('GISJOIN != GISJOIN1')"
   ]
  },
  {
   "cell_type": "code",
   "execution_count": 15,
   "metadata": {},
   "outputs": [],
   "source": [
    "df['sex'] = df_with_sex.sex.astype('int8')"
   ]
  },
  {
   "cell_type": "code",
   "execution_count": 10,
   "metadata": {},
   "outputs": [],
   "source": [
    "df.drop_column('GISJOIN1')"
   ]
  },
  {
   "cell_type": "code",
   "execution_count": 16,
   "metadata": {},
   "outputs": [
    {
     "data": {
      "text/plain": [
       "GISJOIN      int64\n",
       "x          float64\n",
       "y          float64\n",
       "sex           int8\n",
       "dtype: object"
      ]
     },
     "execution_count": 16,
     "metadata": {},
     "output_type": "execute_result"
    }
   ],
   "source": [
    "df.dtypes"
   ]
  },
  {
   "cell_type": "code",
   "execution_count": 17,
   "metadata": {},
   "outputs": [
    {
     "data": {
      "text/html": [
       "<div>\n",
       "<style scoped>\n",
       "    .dataframe tbody tr th:only-of-type {\n",
       "        vertical-align: middle;\n",
       "    }\n",
       "\n",
       "    .dataframe tbody tr th {\n",
       "        vertical-align: top;\n",
       "    }\n",
       "\n",
       "    .dataframe thead th {\n",
       "        text-align: right;\n",
       "    }\n",
       "</style>\n",
       "<table border=\"1\" class=\"dataframe\">\n",
       "  <thead>\n",
       "    <tr style=\"text-align: right;\">\n",
       "      <th></th>\n",
       "      <th>GISJOIN</th>\n",
       "      <th>x</th>\n",
       "      <th>y</th>\n",
       "      <th>sex</th>\n",
       "    </tr>\n",
       "  </thead>\n",
       "  <tbody>\n",
       "    <tr>\n",
       "      <th>900512</th>\n",
       "      <td>1000100201001000</td>\n",
       "      <td>-9.627034e+06</td>\n",
       "      <td>3.825003e+06</td>\n",
       "      <td>0</td>\n",
       "    </tr>\n",
       "    <tr>\n",
       "      <th>900513</th>\n",
       "      <td>1000100201001000</td>\n",
       "      <td>-9.626834e+06</td>\n",
       "      <td>3.825034e+06</td>\n",
       "      <td>0</td>\n",
       "    </tr>\n",
       "    <tr>\n",
       "      <th>900514</th>\n",
       "      <td>1000100201001000</td>\n",
       "      <td>-9.626683e+06</td>\n",
       "      <td>3.825079e+06</td>\n",
       "      <td>0</td>\n",
       "    </tr>\n",
       "    <tr>\n",
       "      <th>900515</th>\n",
       "      <td>1000100201001000</td>\n",
       "      <td>-9.627138e+06</td>\n",
       "      <td>3.825075e+06</td>\n",
       "      <td>0</td>\n",
       "    </tr>\n",
       "    <tr>\n",
       "      <th>900516</th>\n",
       "      <td>1000100201001000</td>\n",
       "      <td>-9.627112e+06</td>\n",
       "      <td>3.824731e+06</td>\n",
       "      <td>0</td>\n",
       "    </tr>\n",
       "    <tr>\n",
       "      <th>...</th>\n",
       "      <td>...</td>\n",
       "      <td>...</td>\n",
       "      <td>...</td>\n",
       "      <td>...</td>\n",
       "    </tr>\n",
       "    <tr>\n",
       "      <th>308744617</th>\n",
       "      <td>56004509513003128</td>\n",
       "      <td>-1.159921e+07</td>\n",
       "      <td>5.441573e+06</td>\n",
       "      <td>1</td>\n",
       "    </tr>\n",
       "    <tr>\n",
       "      <th>308744618</th>\n",
       "      <td>56004509513003128</td>\n",
       "      <td>-1.159932e+07</td>\n",
       "      <td>5.441618e+06</td>\n",
       "      <td>1</td>\n",
       "    </tr>\n",
       "    <tr>\n",
       "      <th>308744619</th>\n",
       "      <td>56004509513003128</td>\n",
       "      <td>-1.159941e+07</td>\n",
       "      <td>5.441687e+06</td>\n",
       "      <td>1</td>\n",
       "    </tr>\n",
       "    <tr>\n",
       "      <th>308744620</th>\n",
       "      <td>56004509513003128</td>\n",
       "      <td>-1.159941e+07</td>\n",
       "      <td>5.441688e+06</td>\n",
       "      <td>1</td>\n",
       "    </tr>\n",
       "    <tr>\n",
       "      <th>308744621</th>\n",
       "      <td>56004509513003128</td>\n",
       "      <td>-1.159926e+07</td>\n",
       "      <td>5.441574e+06</td>\n",
       "      <td>1</td>\n",
       "    </tr>\n",
       "  </tbody>\n",
       "</table>\n",
       "<p>308745309 rows × 4 columns</p>\n",
       "</div>"
      ],
      "text/plain": [
       "                     GISJOIN             x             y  sex\n",
       "900512      1000100201001000 -9.627034e+06  3.825003e+06    0\n",
       "900513      1000100201001000 -9.626834e+06  3.825034e+06    0\n",
       "900514      1000100201001000 -9.626683e+06  3.825079e+06    0\n",
       "900515      1000100201001000 -9.627138e+06  3.825075e+06    0\n",
       "900516      1000100201001000 -9.627112e+06  3.824731e+06    0\n",
       "...                      ...           ...           ...  ...\n",
       "308744617  56004509513003128 -1.159921e+07  5.441573e+06    1\n",
       "308744618  56004509513003128 -1.159932e+07  5.441618e+06    1\n",
       "308744619  56004509513003128 -1.159941e+07  5.441687e+06    1\n",
       "308744620  56004509513003128 -1.159941e+07  5.441688e+06    1\n",
       "308744621  56004509513003128 -1.159926e+07  5.441574e+06    1\n",
       "\n",
       "[308745309 rows x 4 columns]"
      ]
     },
     "execution_count": 17,
     "metadata": {},
     "output_type": "execute_result"
    }
   ],
   "source": [
    "df"
   ]
  },
  {
   "cell_type": "code",
   "execution_count": 18,
   "metadata": {},
   "outputs": [
    {
     "name": "stderr",
     "output_type": "stream",
     "text": [
      "/home/ajay/anaconda3/envs/rapids_dev_0.12/lib/python3.6/site-packages/cudf/io/parquet.py:70: UserWarning: Using CPU via PyArrow to write Parquet dataset, this will be GPU accelerated in the future\n",
      "  \"Using CPU via PyArrow to write Parquet dataset, this will \"\n"
     ]
    }
   ],
   "source": [
    "df.to_parquet('all_states_us_lat_long_sex.parquet')"
   ]
  }
 ],
 "metadata": {
  "kernelspec": {
   "display_name": "Python 3",
   "language": "python",
   "name": "python3"
  },
  "language_info": {
   "codemirror_mode": {
    "name": "ipython",
    "version": 3
   },
   "file_extension": ".py",
   "mimetype": "text/x-python",
   "name": "python",
   "nbconvert_exporter": "python",
   "pygments_lexer": "ipython3",
   "version": "3.6.7"
  }
 },
 "nbformat": 4,
 "nbformat_minor": 4
}
