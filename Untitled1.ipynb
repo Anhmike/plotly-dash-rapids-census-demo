{
 "cells": [
  {
   "cell_type": "code",
   "execution_count": 1,
   "metadata": {},
   "outputs": [
    {
     "name": "stderr",
     "output_type": "stream",
     "text": [
      "/home/ajay/anaconda3/envs/rapids_dev_0.12/lib/python3.6/site-packages/cudf/utils/ioutils.py:921: UserWarning: `path_or_data` resolved to more than 1 file. Only the first file /home/ajay/new_dev/plotly/census_large/plotly_demo1_data.parquet/38a6c2886f574cba8dd1b9c1230ad8ce.parquet will be read.\n",
      "  UserWarning,\n"
     ]
    }
   ],
   "source": [
    "import cudf\n",
    "df = cudf.read_parquet('./plotly_demo1_data.parquet/*')"
   ]
  },
  {
   "cell_type": "code",
   "execution_count": 2,
   "metadata": {},
   "outputs": [],
   "source": [
    "from pyproj import Transformer, CRS\n",
    "inProj = 'epsg:3857' # Latitude and longitudes\n",
    "outProj = 'epsg:4326' # 2D projected points\n",
    "transformer = Transformer.from_crs(inProj, outProj, always_xy=True)"
   ]
  },
  {
   "cell_type": "code",
   "execution_count": 3,
   "metadata": {},
   "outputs": [],
   "source": [
    "df['x'], df['y'] = transformer.transform(df['x'].to_array(), df['y'].to_array())"
   ]
  },
  {
   "cell_type": "code",
   "execution_count": 7,
   "metadata": {},
   "outputs": [],
   "source": [
    "df.x = df.x.astype('float32')"
   ]
  },
  {
   "cell_type": "code",
   "execution_count": 9,
   "metadata": {},
   "outputs": [],
   "source": [
    "df.y = df.y.astype('float32')"
   ]
  },
  {
   "cell_type": "code",
   "execution_count": 11,
   "metadata": {},
   "outputs": [],
   "source": [
    "df.reset_index(inplace=True)"
   ]
  },
  {
   "cell_type": "code",
   "execution_count": 13,
   "metadata": {},
   "outputs": [],
   "source": [
    "df.drop_column('index')"
   ]
  },
  {
   "cell_type": "code",
   "execution_count": 14,
   "metadata": {},
   "outputs": [
    {
     "data": {
      "text/html": [
       "<div>\n",
       "<style scoped>\n",
       "    .dataframe tbody tr th:only-of-type {\n",
       "        vertical-align: middle;\n",
       "    }\n",
       "\n",
       "    .dataframe tbody tr th {\n",
       "        vertical-align: top;\n",
       "    }\n",
       "\n",
       "    .dataframe thead th {\n",
       "        text-align: right;\n",
       "    }\n",
       "</style>\n",
       "<table border=\"1\" class=\"dataframe\">\n",
       "  <thead>\n",
       "    <tr style=\"text-align: right;\">\n",
       "      <th></th>\n",
       "      <th>x</th>\n",
       "      <th>y</th>\n",
       "      <th>sex</th>\n",
       "    </tr>\n",
       "  </thead>\n",
       "  <tbody>\n",
       "    <tr>\n",
       "      <th>0</th>\n",
       "      <td>-86.481117</td>\n",
       "      <td>32.468773</td>\n",
       "      <td>0</td>\n",
       "    </tr>\n",
       "    <tr>\n",
       "      <th>1</th>\n",
       "      <td>-86.479324</td>\n",
       "      <td>32.469009</td>\n",
       "      <td>0</td>\n",
       "    </tr>\n",
       "    <tr>\n",
       "      <th>2</th>\n",
       "      <td>-86.477966</td>\n",
       "      <td>32.469349</td>\n",
       "      <td>0</td>\n",
       "    </tr>\n",
       "    <tr>\n",
       "      <th>3</th>\n",
       "      <td>-86.482056</td>\n",
       "      <td>32.469318</td>\n",
       "      <td>0</td>\n",
       "    </tr>\n",
       "    <tr>\n",
       "      <th>4</th>\n",
       "      <td>-86.481819</td>\n",
       "      <td>32.466709</td>\n",
       "      <td>0</td>\n",
       "    </tr>\n",
       "    <tr>\n",
       "      <th>...</th>\n",
       "      <td>...</td>\n",
       "      <td>...</td>\n",
       "      <td>...</td>\n",
       "    </tr>\n",
       "    <tr>\n",
       "      <th>308745304</th>\n",
       "      <td>-104.197456</td>\n",
       "      <td>43.845558</td>\n",
       "      <td>1</td>\n",
       "    </tr>\n",
       "    <tr>\n",
       "      <th>308745305</th>\n",
       "      <td>-104.198425</td>\n",
       "      <td>43.845848</td>\n",
       "      <td>1</td>\n",
       "    </tr>\n",
       "    <tr>\n",
       "      <th>308745306</th>\n",
       "      <td>-104.199310</td>\n",
       "      <td>43.846298</td>\n",
       "      <td>1</td>\n",
       "    </tr>\n",
       "    <tr>\n",
       "      <th>308745307</th>\n",
       "      <td>-104.199265</td>\n",
       "      <td>43.846306</td>\n",
       "      <td>1</td>\n",
       "    </tr>\n",
       "    <tr>\n",
       "      <th>308745308</th>\n",
       "      <td>-104.197960</td>\n",
       "      <td>43.845566</td>\n",
       "      <td>1</td>\n",
       "    </tr>\n",
       "  </tbody>\n",
       "</table>\n",
       "<p>308745309 rows × 3 columns</p>\n",
       "</div>"
      ],
      "text/plain": [
       "                    x          y  sex\n",
       "0          -86.481117  32.468773    0\n",
       "1          -86.479324  32.469009    0\n",
       "2          -86.477966  32.469349    0\n",
       "3          -86.482056  32.469318    0\n",
       "4          -86.481819  32.466709    0\n",
       "...               ...        ...  ...\n",
       "308745304 -104.197456  43.845558    1\n",
       "308745305 -104.198425  43.845848    1\n",
       "308745306 -104.199310  43.846298    1\n",
       "308745307 -104.199265  43.846306    1\n",
       "308745308 -104.197960  43.845566    1\n",
       "\n",
       "[308745309 rows x 3 columns]"
      ]
     },
     "execution_count": 14,
     "metadata": {},
     "output_type": "execute_result"
    }
   ],
   "source": [
    "df"
   ]
  },
  {
   "cell_type": "code",
   "execution_count": 15,
   "metadata": {},
   "outputs": [
    {
     "name": "stderr",
     "output_type": "stream",
     "text": [
      "/home/ajay/anaconda3/envs/rapids_dev_0.12/lib/python3.6/site-packages/cudf/io/parquet.py:70: UserWarning: Using CPU via PyArrow to write Parquet dataset, this will be GPU accelerated in the future\n",
      "  \"Using CPU via PyArrow to write Parquet dataset, this will \"\n"
     ]
    }
   ],
   "source": [
    "df.to_parquet('plotly_epsg4857.parquet')"
   ]
  }
 ],
 "metadata": {
  "kernelspec": {
   "display_name": "Python 3",
   "language": "python",
   "name": "python3"
  },
  "language_info": {
   "codemirror_mode": {
    "name": "ipython",
    "version": 3
   },
   "file_extension": ".py",
   "mimetype": "text/x-python",
   "name": "python",
   "nbconvert_exporter": "python",
   "pygments_lexer": "ipython3",
   "version": "3.6.7"
  }
 },
 "nbformat": 4,
 "nbformat_minor": 4
}
